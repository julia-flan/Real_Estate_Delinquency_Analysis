{
 "cells": [
  {
   "cell_type": "code",
   "execution_count": 1,
   "id": "a00ae665",
   "metadata": {},
   "outputs": [],
   "source": [
    "import numpy as np\n",
    "import pandas as pd\n",
    "from sklearn.preprocessing import MinMaxScaler, OneHotEncoder\n",
    "from sklearn.model_selection import train_test_split, GridSearchCV\n",
    "from sklearn import tree\n",
    "from sklearn.metrics import accuracy_score, classification_report, confusion_matrix, ConfusionMatrixDisplay\n",
    "from sklearn.ensemble import RandomForestClassifier\n",
    "import xgboost as xgb\n",
    "import matplotlib.pyplot as plt\n",
    "import seaborn as sns"
   ]
  },
  {
   "cell_type": "code",
   "execution_count": 2,
   "id": "a636f5dd",
   "metadata": {},
   "outputs": [],
   "source": [
    "pd.set_option('display.max_columns', 1000)\n",
    "pd.set_option('display.float_format', '{:.5f}'.format)"
   ]
  },
  {
   "cell_type": "markdown",
   "id": "7e350999",
   "metadata": {},
   "source": [
    "# Modeling"
   ]
  },
  {
   "cell_type": "code",
   "execution_count": 3,
   "id": "44aacd1b",
   "metadata": {},
   "outputs": [],
   "source": [
    "# read in the data\n",
    "rea = pd.read_csv(\"Data/real_estate_2020_2024.csv\")"
   ]
  },
  {
   "cell_type": "code",
   "execution_count": 4,
   "id": "123e7fea",
   "metadata": {},
   "outputs": [
    {
     "data": {
      "text/plain": [
       "Index(['parcel_number', 'year', 'exterior_condition', 'interior_condition',\n",
       "       'homestead_exemption', 'number_of_bathrooms', 'number_of_bedrooms',\n",
       "       'number_stories', 'year_built', 'sale_year', 'condo', 'apartments',\n",
       "       'commercial', 'garage', 'hotel', 'industrial', 'mixed_use',\n",
       "       'multi_family', 'offices', 'retail', 'single_family', 'special_purpose',\n",
       "       'vacant_land', 'mailing_outside_city', 'chg_taxable_1yr',\n",
       "       'chg_taxable_1yr_%', 'chg_taxable_3yr', 'chg_taxable_3yr_%',\n",
       "       'chg_taxable_5yr', 'chg_taxable_5yr_%', 'taxable_%', 'delinq',\n",
       "       'delinq_1yr', 'delinq_2yr', 'delinq_3yr', 'delinq_4yr', 'delinq_5yr',\n",
       "       'years_delinq', 'years_since_last_delinq', 'max_conseq_years_delinq',\n",
       "       'sale_price_log', 'total_area_log', 'total_livable_area_log',\n",
       "       'market_value_log', 'taxable_land_log', 'taxable_building_log',\n",
       "       'exempt_land_log', 'exempt_building_log', 'taxable_log', 'exempt_log',\n",
       "       'taxable_1yr_log', 'exempt_1yr_log', 'taxable_3yr_log',\n",
       "       'exempt_3yr_log', 'taxable_5yr_log', 'exempt_5yr_log', 'delinq_bal_log',\n",
       "       'delinq_bal_1yr_log', 'delinq_bal_2yr_log', 'delinq_bal_3yr_log',\n",
       "       'delinq_bal_4yr_log', 'delinq_bal_5yr_log',\n",
       "       'del_assessed_ratio_1yr_log'],\n",
       "      dtype='object')"
      ]
     },
     "execution_count": 4,
     "metadata": {},
     "output_type": "execute_result"
    }
   ],
   "source": [
    "rea.columns"
   ]
  },
  {
   "cell_type": "code",
   "execution_count": 5,
   "id": "f0e8e9b8",
   "metadata": {},
   "outputs": [
    {
     "data": {
      "text/plain": [
       "(2855503, 63)"
      ]
     },
     "execution_count": 5,
     "metadata": {},
     "output_type": "execute_result"
    }
   ],
   "source": [
    "rea.shape"
   ]
  },
  {
   "cell_type": "markdown",
   "id": "92ec8cdc",
   "metadata": {},
   "source": [
    "## Partition the Data"
   ]
  },
  {
   "cell_type": "code",
   "execution_count": 6,
   "id": "d53022a4",
   "metadata": {},
   "outputs": [],
   "source": [
    "# assign X and y variables\n",
    "X = rea.copy(deep=True)\n",
    "X.drop(columns=[\"parcel_number\",\"delinq_bal_log\",\"delinq\"], inplace=True)\n",
    "y = rea.delinq"
   ]
  },
  {
   "cell_type": "code",
   "execution_count": 7,
   "id": "8836da75",
   "metadata": {},
   "outputs": [],
   "source": [
    "# create the training sets\n",
    "X_train, X_split, y_train, y_split = train_test_split(X, y, test_size=0.4, random_state=42)"
   ]
  },
  {
   "cell_type": "code",
   "execution_count": 8,
   "id": "6d56a98d",
   "metadata": {},
   "outputs": [],
   "source": [
    "# create the test and validate sets\n",
    "X_test, X_val, y_test, y_val = train_test_split(X_split, y_split, test_size=0.5, random_state=42)"
   ]
  },
  {
   "cell_type": "code",
   "execution_count": null,
   "id": "956341f2",
   "metadata": {},
   "outputs": [
    {
     "data": {
      "text/plain": [
       "(1713301, 60)"
      ]
     },
     "execution_count": 12,
     "metadata": {},
     "output_type": "execute_result"
    }
   ],
   "source": [
    "X_train.shape"
   ]
  },
  {
   "cell_type": "code",
   "execution_count": null,
   "id": "c6807130",
   "metadata": {},
   "outputs": [
    {
     "data": {
      "text/plain": [
       "(1713301,)"
      ]
     },
     "execution_count": 15,
     "metadata": {},
     "output_type": "execute_result"
    }
   ],
   "source": [
    "y_train.shape"
   ]
  },
  {
   "cell_type": "code",
   "execution_count": null,
   "id": "394f9076",
   "metadata": {},
   "outputs": [
    {
     "data": {
      "text/plain": [
       "(571101, 60)"
      ]
     },
     "execution_count": 14,
     "metadata": {},
     "output_type": "execute_result"
    }
   ],
   "source": [
    "X_val.shape"
   ]
  },
  {
   "cell_type": "code",
   "execution_count": null,
   "id": "4df36308",
   "metadata": {},
   "outputs": [
    {
     "data": {
      "text/plain": [
       "(571101,)"
      ]
     },
     "execution_count": 16,
     "metadata": {},
     "output_type": "execute_result"
    }
   ],
   "source": [
    "y_val.shape"
   ]
  },
  {
   "cell_type": "code",
   "execution_count": null,
   "id": "6bcdde76",
   "metadata": {},
   "outputs": [
    {
     "data": {
      "text/plain": [
       "(571101, 60)"
      ]
     },
     "execution_count": 13,
     "metadata": {},
     "output_type": "execute_result"
    }
   ],
   "source": [
    "X_test.shape"
   ]
  },
  {
   "cell_type": "code",
   "execution_count": null,
   "id": "3d724c2c",
   "metadata": {},
   "outputs": [
    {
     "data": {
      "text/plain": [
       "(571101,)"
      ]
     },
     "execution_count": 17,
     "metadata": {},
     "output_type": "execute_result"
    }
   ],
   "source": [
    "y_test.shape"
   ]
  },
  {
   "cell_type": "markdown",
   "id": "6b84b329",
   "metadata": {},
   "source": [
    "## Decision Tree"
   ]
  },
  {
   "cell_type": "code",
   "execution_count": null,
   "id": "3b876f65",
   "metadata": {},
   "outputs": [
    {
     "data": {
      "text/plain": [
       "{'max_depth': 30,\n",
       " 'max_features': 'log2',\n",
       " 'min_samples_leaf': 25,\n",
       " 'min_samples_split': 1000}"
      ]
     },
     "execution_count": 14,
     "metadata": {},
     "output_type": "execute_result"
    }
   ],
   "source": [
    "# set param grid for Decision Tree Hyperparameter tuning\n",
    "param_grid_tree = {\n",
    "        'max_depth': [10, 15, 20, 25, 30],\n",
    "        'min_samples_split': [50, 100, 500, 1000], \n",
    "        'min_samples_leaf': [25, 50, 100, 500], \n",
    "        'max_features': ['sqrt', 'log2', None] \n",
    "}\n",
    "\n",
    "# run grid search cross validation\n",
    "best_model_tree = GridSearchCV(tree.DecisionTreeClassifier(random_state=42), \n",
    "                               param_grid=param_grid_tree, \n",
    "                               scoring='accuracy',\n",
    "                               cv=3)\n",
    "\n",
    "# fit model to data\n",
    "best_model_tree = best_model_tree.fit(X_train, y_train)\n",
    "\n",
    "# display params of best model for Decision tree\n",
    "best_model_tree.best_params_"
   ]
  },
  {
   "cell_type": "code",
   "execution_count": null,
   "id": "7699417d",
   "metadata": {},
   "outputs": [
    {
     "data": {
      "text/plain": [
       "0.9832154420034775"
      ]
     },
     "execution_count": 18,
     "metadata": {},
     "output_type": "execute_result"
    }
   ],
   "source": [
    "# create decision tree classifier\n",
    "clf = tree.DecisionTreeClassifier(max_depth = 30, \n",
    "                                  min_samples_split = 1000,\n",
    "                                  min_samples_leaf = 25,\n",
    "                                  max_features = 'log2'\n",
    "                                  )\n",
    "\n",
    "# fit model to training set\n",
    "clf = clf.fit(X_train, y_train)\n",
    "\n",
    "# make predictions on the training set\n",
    "y_train_predict_clf = clf.predict(X_train)\n",
    "\n",
    "# make predictions on the validation set\n",
    "y_val_predict_clf = clf.predict(X_val)\n",
    "\n",
    "# calculate accuracy of train data\n",
    "accuracy_score(y_train, y_train_predict_clf)"
   ]
  },
  {
   "cell_type": "code",
   "execution_count": null,
   "id": "d4ed393e",
   "metadata": {},
   "outputs": [
    {
     "data": {
      "text/plain": [
       "0.983398733323878"
      ]
     },
     "execution_count": 19,
     "metadata": {},
     "output_type": "execute_result"
    }
   ],
   "source": [
    "# calculate accuracy of validation data\n",
    "accuracy_score(y_val, y_val_predict_clf)"
   ]
  },
  {
   "cell_type": "code",
   "execution_count": null,
   "id": "99d547c3",
   "metadata": {},
   "outputs": [
    {
     "name": "stdout",
     "output_type": "stream",
     "text": [
      "              precision    recall  f1-score   support\n",
      "\n",
      "           0       0.98      1.00      0.99    499271\n",
      "           1       1.00      0.87      0.93     71830\n",
      "\n",
      "    accuracy                           0.98    571101\n",
      "   macro avg       0.99      0.93      0.96    571101\n",
      "weighted avg       0.98      0.98      0.98    571101\n",
      "\n"
     ]
    }
   ],
   "source": [
    "print(classification_report(y_val, y_val_predict_clf))"
   ]
  },
  {
   "cell_type": "code",
   "execution_count": null,
   "id": "41011d3f",
   "metadata": {},
   "outputs": [
    {
     "data": {
      "text/html": [
       "<div>\n",
       "<style scoped>\n",
       "    .dataframe tbody tr th:only-of-type {\n",
       "        vertical-align: middle;\n",
       "    }\n",
       "\n",
       "    .dataframe tbody tr th {\n",
       "        vertical-align: top;\n",
       "    }\n",
       "\n",
       "    .dataframe thead th {\n",
       "        text-align: right;\n",
       "    }\n",
       "</style>\n",
       "<table border=\"1\" class=\"dataframe\">\n",
       "  <thead>\n",
       "    <tr style=\"text-align: right;\">\n",
       "      <th></th>\n",
       "      <th>feature_importances</th>\n",
       "    </tr>\n",
       "  </thead>\n",
       "  <tbody>\n",
       "    <tr>\n",
       "      <th>delinq_bal_4yr_log</th>\n",
       "      <td>0.69064</td>\n",
       "    </tr>\n",
       "    <tr>\n",
       "      <th>max_conseq_years_delinq</th>\n",
       "      <td>0.20358</td>\n",
       "    </tr>\n",
       "    <tr>\n",
       "      <th>delinq_3yr</th>\n",
       "      <td>0.06407</td>\n",
       "    </tr>\n",
       "    <tr>\n",
       "      <th>delinq_bal_5yr_log</th>\n",
       "      <td>0.02913</td>\n",
       "    </tr>\n",
       "    <tr>\n",
       "      <th>delinq_bal_2yr_log</th>\n",
       "      <td>0.00490</td>\n",
       "    </tr>\n",
       "    <tr>\n",
       "      <th>taxable_%</th>\n",
       "      <td>0.00266</td>\n",
       "    </tr>\n",
       "    <tr>\n",
       "      <th>chg_taxable_1yr</th>\n",
       "      <td>0.00056</td>\n",
       "    </tr>\n",
       "    <tr>\n",
       "      <th>taxable_building_log</th>\n",
       "      <td>0.00034</td>\n",
       "    </tr>\n",
       "    <tr>\n",
       "      <th>sale_price_log</th>\n",
       "      <td>0.00034</td>\n",
       "    </tr>\n",
       "    <tr>\n",
       "      <th>taxable_log</th>\n",
       "      <td>0.00032</td>\n",
       "    </tr>\n",
       "    <tr>\n",
       "      <th>exempt_1yr_log</th>\n",
       "      <td>0.00031</td>\n",
       "    </tr>\n",
       "    <tr>\n",
       "      <th>vacant_land</th>\n",
       "      <td>0.00031</td>\n",
       "    </tr>\n",
       "    <tr>\n",
       "      <th>year</th>\n",
       "      <td>0.00028</td>\n",
       "    </tr>\n",
       "    <tr>\n",
       "      <th>sale_year</th>\n",
       "      <td>0.00023</td>\n",
       "    </tr>\n",
       "    <tr>\n",
       "      <th>market_value_log</th>\n",
       "      <td>0.00019</td>\n",
       "    </tr>\n",
       "    <tr>\n",
       "      <th>chg_taxable_3yr</th>\n",
       "      <td>0.00019</td>\n",
       "    </tr>\n",
       "    <tr>\n",
       "      <th>chg_taxable_3yr_%</th>\n",
       "      <td>0.00019</td>\n",
       "    </tr>\n",
       "    <tr>\n",
       "      <th>exempt_3yr_log</th>\n",
       "      <td>0.00018</td>\n",
       "    </tr>\n",
       "    <tr>\n",
       "      <th>taxable_3yr_log</th>\n",
       "      <td>0.00016</td>\n",
       "    </tr>\n",
       "    <tr>\n",
       "      <th>chg_taxable_1yr_%</th>\n",
       "      <td>0.00015</td>\n",
       "    </tr>\n",
       "    <tr>\n",
       "      <th>taxable_5yr_log</th>\n",
       "      <td>0.00014</td>\n",
       "    </tr>\n",
       "    <tr>\n",
       "      <th>chg_taxable_5yr_%</th>\n",
       "      <td>0.00013</td>\n",
       "    </tr>\n",
       "    <tr>\n",
       "      <th>taxable_1yr_log</th>\n",
       "      <td>0.00013</td>\n",
       "    </tr>\n",
       "    <tr>\n",
       "      <th>total_livable_area_log</th>\n",
       "      <td>0.00012</td>\n",
       "    </tr>\n",
       "    <tr>\n",
       "      <th>chg_taxable_5yr</th>\n",
       "      <td>0.00011</td>\n",
       "    </tr>\n",
       "    <tr>\n",
       "      <th>total_area_log</th>\n",
       "      <td>0.00009</td>\n",
       "    </tr>\n",
       "    <tr>\n",
       "      <th>year_built</th>\n",
       "      <td>0.00008</td>\n",
       "    </tr>\n",
       "    <tr>\n",
       "      <th>taxable_land_log</th>\n",
       "      <td>0.00007</td>\n",
       "    </tr>\n",
       "    <tr>\n",
       "      <th>interior_condition</th>\n",
       "      <td>0.00007</td>\n",
       "    </tr>\n",
       "    <tr>\n",
       "      <th>exterior_condition</th>\n",
       "      <td>0.00004</td>\n",
       "    </tr>\n",
       "    <tr>\n",
       "      <th>number_of_bedrooms</th>\n",
       "      <td>0.00004</td>\n",
       "    </tr>\n",
       "    <tr>\n",
       "      <th>exempt_5yr_log</th>\n",
       "      <td>0.00004</td>\n",
       "    </tr>\n",
       "    <tr>\n",
       "      <th>number_stories</th>\n",
       "      <td>0.00004</td>\n",
       "    </tr>\n",
       "    <tr>\n",
       "      <th>single_family</th>\n",
       "      <td>0.00003</td>\n",
       "    </tr>\n",
       "    <tr>\n",
       "      <th>number_of_bathrooms</th>\n",
       "      <td>0.00003</td>\n",
       "    </tr>\n",
       "    <tr>\n",
       "      <th>mailing_outside_city</th>\n",
       "      <td>0.00003</td>\n",
       "    </tr>\n",
       "    <tr>\n",
       "      <th>exempt_building_log</th>\n",
       "      <td>0.00002</td>\n",
       "    </tr>\n",
       "    <tr>\n",
       "      <th>homestead_exemption</th>\n",
       "      <td>0.00002</td>\n",
       "    </tr>\n",
       "    <tr>\n",
       "      <th>multi_family</th>\n",
       "      <td>0.00001</td>\n",
       "    </tr>\n",
       "    <tr>\n",
       "      <th>commercial</th>\n",
       "      <td>0.00001</td>\n",
       "    </tr>\n",
       "    <tr>\n",
       "      <th>exempt_land_log</th>\n",
       "      <td>0.00001</td>\n",
       "    </tr>\n",
       "    <tr>\n",
       "      <th>exempt_log</th>\n",
       "      <td>0.00001</td>\n",
       "    </tr>\n",
       "    <tr>\n",
       "      <th>mixed_use</th>\n",
       "      <td>0.00000</td>\n",
       "    </tr>\n",
       "    <tr>\n",
       "      <th>condo</th>\n",
       "      <td>0.00000</td>\n",
       "    </tr>\n",
       "    <tr>\n",
       "      <th>industrial</th>\n",
       "      <td>0.00000</td>\n",
       "    </tr>\n",
       "    <tr>\n",
       "      <th>apartments</th>\n",
       "      <td>0.00000</td>\n",
       "    </tr>\n",
       "    <tr>\n",
       "      <th>offices</th>\n",
       "      <td>0.00000</td>\n",
       "    </tr>\n",
       "    <tr>\n",
       "      <th>retail</th>\n",
       "      <td>0.00000</td>\n",
       "    </tr>\n",
       "    <tr>\n",
       "      <th>special_purpose</th>\n",
       "      <td>0.00000</td>\n",
       "    </tr>\n",
       "    <tr>\n",
       "      <th>hotel</th>\n",
       "      <td>0.00000</td>\n",
       "    </tr>\n",
       "    <tr>\n",
       "      <th>garage</th>\n",
       "      <td>0.00000</td>\n",
       "    </tr>\n",
       "    <tr>\n",
       "      <th>years_delinq</th>\n",
       "      <td>0.00000</td>\n",
       "    </tr>\n",
       "    <tr>\n",
       "      <th>years_since_last_delinq</th>\n",
       "      <td>0.00000</td>\n",
       "    </tr>\n",
       "    <tr>\n",
       "      <th>delinq_4yr</th>\n",
       "      <td>0.00000</td>\n",
       "    </tr>\n",
       "    <tr>\n",
       "      <th>delinq_5yr</th>\n",
       "      <td>0.00000</td>\n",
       "    </tr>\n",
       "    <tr>\n",
       "      <th>delinq_1yr</th>\n",
       "      <td>0.00000</td>\n",
       "    </tr>\n",
       "    <tr>\n",
       "      <th>delinq_2yr</th>\n",
       "      <td>0.00000</td>\n",
       "    </tr>\n",
       "    <tr>\n",
       "      <th>delinq_bal_1yr_log</th>\n",
       "      <td>0.00000</td>\n",
       "    </tr>\n",
       "    <tr>\n",
       "      <th>delinq_bal_3yr_log</th>\n",
       "      <td>0.00000</td>\n",
       "    </tr>\n",
       "    <tr>\n",
       "      <th>del_assessed_ratio_1yr_log</th>\n",
       "      <td>0.00000</td>\n",
       "    </tr>\n",
       "  </tbody>\n",
       "</table>\n",
       "</div>"
      ],
      "text/plain": [
       "                            feature_importances\n",
       "delinq_bal_4yr_log                      0.69064\n",
       "max_conseq_years_delinq                 0.20358\n",
       "delinq_3yr                              0.06407\n",
       "delinq_bal_5yr_log                      0.02913\n",
       "delinq_bal_2yr_log                      0.00490\n",
       "taxable_%                               0.00266\n",
       "chg_taxable_1yr                         0.00056\n",
       "taxable_building_log                    0.00034\n",
       "sale_price_log                          0.00034\n",
       "taxable_log                             0.00032\n",
       "exempt_1yr_log                          0.00031\n",
       "vacant_land                             0.00031\n",
       "year                                    0.00028\n",
       "sale_year                               0.00023\n",
       "market_value_log                        0.00019\n",
       "chg_taxable_3yr                         0.00019\n",
       "chg_taxable_3yr_%                       0.00019\n",
       "exempt_3yr_log                          0.00018\n",
       "taxable_3yr_log                         0.00016\n",
       "chg_taxable_1yr_%                       0.00015\n",
       "taxable_5yr_log                         0.00014\n",
       "chg_taxable_5yr_%                       0.00013\n",
       "taxable_1yr_log                         0.00013\n",
       "total_livable_area_log                  0.00012\n",
       "chg_taxable_5yr                         0.00011\n",
       "total_area_log                          0.00009\n",
       "year_built                              0.00008\n",
       "taxable_land_log                        0.00007\n",
       "interior_condition                      0.00007\n",
       "exterior_condition                      0.00004\n",
       "number_of_bedrooms                      0.00004\n",
       "exempt_5yr_log                          0.00004\n",
       "number_stories                          0.00004\n",
       "single_family                           0.00003\n",
       "number_of_bathrooms                     0.00003\n",
       "mailing_outside_city                    0.00003\n",
       "exempt_building_log                     0.00002\n",
       "homestead_exemption                     0.00002\n",
       "multi_family                            0.00001\n",
       "commercial                              0.00001\n",
       "exempt_land_log                         0.00001\n",
       "exempt_log                              0.00001\n",
       "mixed_use                               0.00000\n",
       "condo                                   0.00000\n",
       "industrial                              0.00000\n",
       "apartments                              0.00000\n",
       "offices                                 0.00000\n",
       "retail                                  0.00000\n",
       "special_purpose                         0.00000\n",
       "hotel                                   0.00000\n",
       "garage                                  0.00000\n",
       "years_delinq                            0.00000\n",
       "years_since_last_delinq                 0.00000\n",
       "delinq_4yr                              0.00000\n",
       "delinq_5yr                              0.00000\n",
       "delinq_1yr                              0.00000\n",
       "delinq_2yr                              0.00000\n",
       "delinq_bal_1yr_log                      0.00000\n",
       "delinq_bal_3yr_log                      0.00000\n",
       "del_assessed_ratio_1yr_log              0.00000"
      ]
     },
     "execution_count": 29,
     "metadata": {},
     "output_type": "execute_result"
    }
   ],
   "source": [
    "# create arrays with importance and column names\n",
    "importances = clf.feature_importances_\n",
    "feature_names = X_train.columns\n",
    "\n",
    "# create feature importances df\n",
    "feat_imp = pd.DataFrame(importances, index=feature_names, columns=['feature_importances'])\n",
    "\n",
    "# dispaly importances\n",
    "feat_imp.sort_values(by='feature_importances', ascending=False)\n"
   ]
  },
  {
   "cell_type": "code",
   "execution_count": null,
   "id": "8855e609",
   "metadata": {},
   "outputs": [
    {
     "data": {
      "image/png": "[encoded data removed]",
      "text/plain": [
       "<Figure size 640x480 with 1 Axes>"
      ]
     },
     "metadata": {},
     "output_type": "display_data"
    }
   ],
   "source": [
    "# plot the feature importances\n",
    "feat_imp[feat_imp.feature_importances > 0.0001].sort_values(by='feature_importances').plot(kind='barh')\n",
    "plt.title(\"Feature Importance\")\n",
    "plt.show()"
   ]
  },
  {
   "cell_type": "markdown",
   "id": "c453025f",
   "metadata": {},
   "source": [
    "## Random Forest"
   ]
  },
  {
   "cell_type": "code",
   "execution_count": 9,
   "id": "88453003",
   "metadata": {},
   "outputs": [
    {
     "data": {
      "text/plain": [
       "{'n_estimators': 100}"
      ]
     },
     "execution_count": 9,
     "metadata": {},
     "output_type": "execute_result"
    }
   ],
   "source": [
    "# set param grid for Random Forest Hyperparameter tuning\n",
    "param_grid_rf = {\n",
    "        'n_estimators': [100, 300, 500],\n",
    "        ##'max_depth': [20, 25, 30]\n",
    "        ##,'max_features': ['sqrt', 'log2', None]\n",
    "}\n",
    "\n",
    "# run grid search cross validation\n",
    "best_model_rf = GridSearchCV(RandomForestClassifier(max_depth = 30, \n",
    "                                                        min_samples_split = 1000,\n",
    "                                                        min_samples_leaf = 25,\n",
    "                                                        max_features = 'log2',\n",
    "                                                        random_state=42), \n",
    "                               param_grid=param_grid_rf, \n",
    "                               scoring='accuracy',\n",
    "                               cv=3)\n",
    "\n",
    "# fit model to data\n",
    "best_model_rf = best_model_rf.fit(X_train, y_train)\n",
    "\n",
    "# display params of best model for Random Forest\n",
    "best_model_rf.best_params_"
   ]
  },
  {
   "cell_type": "code",
   "execution_count": null,
   "id": "1e124e1e",
   "metadata": {},
   "outputs": [
    {
     "data": {
      "text/plain": [
       "0.9832154420034775"
      ]
     },
     "execution_count": 32,
     "metadata": {},
     "output_type": "execute_result"
    }
   ],
   "source": [
    "# create Random Forest classifier\n",
    "rf = RandomForestClassifier(n_estimators=100,\n",
    "                                max_depth = 30, \n",
    "                                min_samples_split = 1000,\n",
    "                                min_samples_leaf = 25,\n",
    "                                max_features = 'log2',\n",
    "                                random_state=42)\n",
    "\n",
    "# fit model to training set\n",
    "rf = rf.fit(X_train, y_train)\n",
    "\n",
    "# make predictions on the training set\n",
    "y_train_predict_rf = rf.predict(X_train)\n",
    "\n",
    "# calculate accuracy of training data\n",
    "accuracy_score(y_train, y_train_predict_rf)"
   ]
  },
  {
   "cell_type": "code",
   "execution_count": null,
   "id": "e1975cf5",
   "metadata": {},
   "outputs": [
    {
     "data": {
      "text/plain": [
       "0.983398733323878"
      ]
     },
     "execution_count": 33,
     "metadata": {},
     "output_type": "execute_result"
    }
   ],
   "source": [
    "# make predictions on the validation set\n",
    "y_val_predict_rf = rf.predict(X_val)\n",
    "\n",
    "# calculate accuracy of validation data\n",
    "accuracy_score(y_val, y_val_predict_rf)"
   ]
  },
  {
   "cell_type": "code",
   "execution_count": null,
   "id": "942c3098",
   "metadata": {},
   "outputs": [
    {
     "name": "stdout",
     "output_type": "stream",
     "text": [
      "              precision    recall  f1-score   support\n",
      "\n",
      "           0       0.98      1.00      0.99    499271\n",
      "           1       1.00      0.87      0.93     71830\n",
      "\n",
      "    accuracy                           0.98    571101\n",
      "   macro avg       0.99      0.93      0.96    571101\n",
      "weighted avg       0.98      0.98      0.98    571101\n",
      "\n"
     ]
    }
   ],
   "source": [
    "print(classification_report(y_val, y_val_predict_rf))"
   ]
  },
  {
   "cell_type": "code",
   "execution_count": null,
   "id": "04e1320b",
   "metadata": {},
   "outputs": [
    {
     "data": {
      "text/html": [
       "<div>\n",
       "<style scoped>\n",
       "    .dataframe tbody tr th:only-of-type {\n",
       "        vertical-align: middle;\n",
       "    }\n",
       "\n",
       "    .dataframe tbody tr th {\n",
       "        vertical-align: top;\n",
       "    }\n",
       "\n",
       "    .dataframe thead th {\n",
       "        text-align: right;\n",
       "    }\n",
       "</style>\n",
       "<table border=\"1\" class=\"dataframe\">\n",
       "  <thead>\n",
       "    <tr style=\"text-align: right;\">\n",
       "      <th></th>\n",
       "      <th>feature_importances</th>\n",
       "    </tr>\n",
       "  </thead>\n",
       "  <tbody>\n",
       "    <tr>\n",
       "      <th>max_conseq_years_delinq</th>\n",
       "      <td>0.15214</td>\n",
       "    </tr>\n",
       "    <tr>\n",
       "      <th>delinq_bal_1yr_log</th>\n",
       "      <td>0.10685</td>\n",
       "    </tr>\n",
       "    <tr>\n",
       "      <th>del_assessed_ratio_1yr_log</th>\n",
       "      <td>0.10365</td>\n",
       "    </tr>\n",
       "    <tr>\n",
       "      <th>years_delinq</th>\n",
       "      <td>0.10237</td>\n",
       "    </tr>\n",
       "    <tr>\n",
       "      <th>years_since_last_delinq</th>\n",
       "      <td>0.08894</td>\n",
       "    </tr>\n",
       "    <tr>\n",
       "      <th>delinq_1yr</th>\n",
       "      <td>0.08862</td>\n",
       "    </tr>\n",
       "    <tr>\n",
       "      <th>delinq_3yr</th>\n",
       "      <td>0.05422</td>\n",
       "    </tr>\n",
       "    <tr>\n",
       "      <th>delinq_2yr</th>\n",
       "      <td>0.05104</td>\n",
       "    </tr>\n",
       "    <tr>\n",
       "      <th>delinq_bal_2yr_log</th>\n",
       "      <td>0.05023</td>\n",
       "    </tr>\n",
       "    <tr>\n",
       "      <th>delinq_bal_4yr_log</th>\n",
       "      <td>0.04662</td>\n",
       "    </tr>\n",
       "    <tr>\n",
       "      <th>delinq_5yr</th>\n",
       "      <td>0.03942</td>\n",
       "    </tr>\n",
       "    <tr>\n",
       "      <th>delinq_4yr</th>\n",
       "      <td>0.03758</td>\n",
       "    </tr>\n",
       "    <tr>\n",
       "      <th>delinq_bal_5yr_log</th>\n",
       "      <td>0.03203</td>\n",
       "    </tr>\n",
       "    <tr>\n",
       "      <th>delinq_bal_3yr_log</th>\n",
       "      <td>0.03046</td>\n",
       "    </tr>\n",
       "    <tr>\n",
       "      <th>sale_price_log</th>\n",
       "      <td>0.00203</td>\n",
       "    </tr>\n",
       "    <tr>\n",
       "      <th>market_value_log</th>\n",
       "      <td>0.00190</td>\n",
       "    </tr>\n",
       "    <tr>\n",
       "      <th>taxable_1yr_log</th>\n",
       "      <td>0.00119</td>\n",
       "    </tr>\n",
       "    <tr>\n",
       "      <th>exterior_condition</th>\n",
       "      <td>0.00096</td>\n",
       "    </tr>\n",
       "    <tr>\n",
       "      <th>total_livable_area_log</th>\n",
       "      <td>0.00082</td>\n",
       "    </tr>\n",
       "    <tr>\n",
       "      <th>taxable_5yr_log</th>\n",
       "      <td>0.00079</td>\n",
       "    </tr>\n",
       "    <tr>\n",
       "      <th>taxable_log</th>\n",
       "      <td>0.00059</td>\n",
       "    </tr>\n",
       "    <tr>\n",
       "      <th>year_built</th>\n",
       "      <td>0.00058</td>\n",
       "    </tr>\n",
       "    <tr>\n",
       "      <th>sale_year</th>\n",
       "      <td>0.00051</td>\n",
       "    </tr>\n",
       "    <tr>\n",
       "      <th>taxable_building_log</th>\n",
       "      <td>0.00046</td>\n",
       "    </tr>\n",
       "    <tr>\n",
       "      <th>vacant_land</th>\n",
       "      <td>0.00046</td>\n",
       "    </tr>\n",
       "    <tr>\n",
       "      <th>taxable_%</th>\n",
       "      <td>0.00045</td>\n",
       "    </tr>\n",
       "    <tr>\n",
       "      <th>interior_condition</th>\n",
       "      <td>0.00043</td>\n",
       "    </tr>\n",
       "    <tr>\n",
       "      <th>chg_taxable_1yr_%</th>\n",
       "      <td>0.00041</td>\n",
       "    </tr>\n",
       "    <tr>\n",
       "      <th>chg_taxable_1yr</th>\n",
       "      <td>0.00038</td>\n",
       "    </tr>\n",
       "    <tr>\n",
       "      <th>chg_taxable_3yr_%</th>\n",
       "      <td>0.00037</td>\n",
       "    </tr>\n",
       "    <tr>\n",
       "      <th>exempt_3yr_log</th>\n",
       "      <td>0.00035</td>\n",
       "    </tr>\n",
       "    <tr>\n",
       "      <th>taxable_land_log</th>\n",
       "      <td>0.00028</td>\n",
       "    </tr>\n",
       "    <tr>\n",
       "      <th>number_stories</th>\n",
       "      <td>0.00026</td>\n",
       "    </tr>\n",
       "    <tr>\n",
       "      <th>exempt_5yr_log</th>\n",
       "      <td>0.00026</td>\n",
       "    </tr>\n",
       "    <tr>\n",
       "      <th>year</th>\n",
       "      <td>0.00026</td>\n",
       "    </tr>\n",
       "    <tr>\n",
       "      <th>exempt_log</th>\n",
       "      <td>0.00025</td>\n",
       "    </tr>\n",
       "    <tr>\n",
       "      <th>taxable_3yr_log</th>\n",
       "      <td>0.00025</td>\n",
       "    </tr>\n",
       "    <tr>\n",
       "      <th>chg_taxable_5yr_%</th>\n",
       "      <td>0.00024</td>\n",
       "    </tr>\n",
       "    <tr>\n",
       "      <th>chg_taxable_3yr</th>\n",
       "      <td>0.00022</td>\n",
       "    </tr>\n",
       "    <tr>\n",
       "      <th>exempt_1yr_log</th>\n",
       "      <td>0.00021</td>\n",
       "    </tr>\n",
       "    <tr>\n",
       "      <th>chg_taxable_5yr</th>\n",
       "      <td>0.00020</td>\n",
       "    </tr>\n",
       "    <tr>\n",
       "      <th>total_area_log</th>\n",
       "      <td>0.00014</td>\n",
       "    </tr>\n",
       "    <tr>\n",
       "      <th>number_of_bathrooms</th>\n",
       "      <td>0.00013</td>\n",
       "    </tr>\n",
       "    <tr>\n",
       "      <th>exempt_building_log</th>\n",
       "      <td>0.00013</td>\n",
       "    </tr>\n",
       "    <tr>\n",
       "      <th>homestead_exemption</th>\n",
       "      <td>0.00010</td>\n",
       "    </tr>\n",
       "    <tr>\n",
       "      <th>condo</th>\n",
       "      <td>0.00006</td>\n",
       "    </tr>\n",
       "    <tr>\n",
       "      <th>number_of_bedrooms</th>\n",
       "      <td>0.00005</td>\n",
       "    </tr>\n",
       "    <tr>\n",
       "      <th>single_family</th>\n",
       "      <td>0.00005</td>\n",
       "    </tr>\n",
       "    <tr>\n",
       "      <th>mailing_outside_city</th>\n",
       "      <td>0.00002</td>\n",
       "    </tr>\n",
       "    <tr>\n",
       "      <th>exempt_land_log</th>\n",
       "      <td>0.00002</td>\n",
       "    </tr>\n",
       "    <tr>\n",
       "      <th>multi_family</th>\n",
       "      <td>0.00001</td>\n",
       "    </tr>\n",
       "    <tr>\n",
       "      <th>commercial</th>\n",
       "      <td>0.00001</td>\n",
       "    </tr>\n",
       "    <tr>\n",
       "      <th>mixed_use</th>\n",
       "      <td>0.00001</td>\n",
       "    </tr>\n",
       "    <tr>\n",
       "      <th>industrial</th>\n",
       "      <td>0.00000</td>\n",
       "    </tr>\n",
       "    <tr>\n",
       "      <th>offices</th>\n",
       "      <td>0.00000</td>\n",
       "    </tr>\n",
       "    <tr>\n",
       "      <th>apartments</th>\n",
       "      <td>0.00000</td>\n",
       "    </tr>\n",
       "    <tr>\n",
       "      <th>garage</th>\n",
       "      <td>0.00000</td>\n",
       "    </tr>\n",
       "    <tr>\n",
       "      <th>hotel</th>\n",
       "      <td>0.00000</td>\n",
       "    </tr>\n",
       "    <tr>\n",
       "      <th>special_purpose</th>\n",
       "      <td>0.00000</td>\n",
       "    </tr>\n",
       "    <tr>\n",
       "      <th>retail</th>\n",
       "      <td>0.00000</td>\n",
       "    </tr>\n",
       "  </tbody>\n",
       "</table>\n",
       "</div>"
      ],
      "text/plain": [
       "                            feature_importances\n",
       "max_conseq_years_delinq                 0.15214\n",
       "delinq_bal_1yr_log                      0.10685\n",
       "del_assessed_ratio_1yr_log              0.10365\n",
       "years_delinq                            0.10237\n",
       "years_since_last_delinq                 0.08894\n",
       "delinq_1yr                              0.08862\n",
       "delinq_3yr                              0.05422\n",
       "delinq_2yr                              0.05104\n",
       "delinq_bal_2yr_log                      0.05023\n",
       "delinq_bal_4yr_log                      0.04662\n",
       "delinq_5yr                              0.03942\n",
       "delinq_4yr                              0.03758\n",
       "delinq_bal_5yr_log                      0.03203\n",
       "delinq_bal_3yr_log                      0.03046\n",
       "sale_price_log                          0.00203\n",
       "market_value_log                        0.00190\n",
       "taxable_1yr_log                         0.00119\n",
       "exterior_condition                      0.00096\n",
       "total_livable_area_log                  0.00082\n",
       "taxable_5yr_log                         0.00079\n",
       "taxable_log                             0.00059\n",
       "year_built                              0.00058\n",
       "sale_year                               0.00051\n",
       "taxable_building_log                    0.00046\n",
       "vacant_land                             0.00046\n",
       "taxable_%                               0.00045\n",
       "interior_condition                      0.00043\n",
       "chg_taxable_1yr_%                       0.00041\n",
       "chg_taxable_1yr                         0.00038\n",
       "chg_taxable_3yr_%                       0.00037\n",
       "exempt_3yr_log                          0.00035\n",
       "taxable_land_log                        0.00028\n",
       "number_stories                          0.00026\n",
       "exempt_5yr_log                          0.00026\n",
       "year                                    0.00026\n",
       "exempt_log                              0.00025\n",
       "taxable_3yr_log                         0.00025\n",
       "chg_taxable_5yr_%                       0.00024\n",
       "chg_taxable_3yr                         0.00022\n",
       "exempt_1yr_log                          0.00021\n",
       "chg_taxable_5yr                         0.00020\n",
       "total_area_log                          0.00014\n",
       "number_of_bathrooms                     0.00013\n",
       "exempt_building_log                     0.00013\n",
       "homestead_exemption                     0.00010\n",
       "condo                                   0.00006\n",
       "number_of_bedrooms                      0.00005\n",
       "single_family                           0.00005\n",
       "mailing_outside_city                    0.00002\n",
       "exempt_land_log                         0.00002\n",
       "multi_family                            0.00001\n",
       "commercial                              0.00001\n",
       "mixed_use                               0.00001\n",
       "industrial                              0.00000\n",
       "offices                                 0.00000\n",
       "apartments                              0.00000\n",
       "garage                                  0.00000\n",
       "hotel                                   0.00000\n",
       "special_purpose                         0.00000\n",
       "retail                                  0.00000"
      ]
     },
     "execution_count": 35,
     "metadata": {},
     "output_type": "execute_result"
    }
   ],
   "source": [
    "# create arrays with importance and column names\n",
    "importances_rf = rf.feature_importances_\n",
    "feature_names_rf = X_train.columns\n",
    "\n",
    "# create feature importances df\n",
    "feat_imp_rf = pd.DataFrame(importances_rf, index=feature_names, columns=['feature_importances'])\n",
    "\n",
    "# dispaly importances\n",
    "feat_imp_rf.sort_values(by=\"feature_importances\",ascending=False)"
   ]
  },
  {
   "cell_type": "code",
   "execution_count": null,
   "id": "2c25cd30",
   "metadata": {},
   "outputs": [
    {
     "data": {
      "image/png": "[encoded data removed]",
      "text/plain": [
       "<Figure size 640x480 with 1 Axes>"
      ]
     },
     "metadata": {},
     "output_type": "display_data"
    }
   ],
   "source": [
    "# plot the feature importances\n",
    "feat_imp_rf[feat_imp_rf.feature_importances >= 0.0005 ].sort_values(by='feature_importances').plot(kind='barh')\n",
    "plt.title(\"Feature Importance\")\n",
    "plt.show()"
   ]
  },
  {
   "cell_type": "code",
   "execution_count": null,
   "id": "6b9643e8",
   "metadata": {},
   "outputs": [],
   "source": [
    "# # shap analysis\n",
    "# explainer_rf = shap.TreeExplainer(rf)\n",
    "# shap_values_rf = explainer_rf.shap_values(X_test)\n",
    "\n",
    "# # Summary plot\n",
    "# shap.summary_plot(shap_values_rf[1], X_test)"
   ]
  },
  {
   "cell_type": "markdown",
   "id": "c8fcd5d7",
   "metadata": {},
   "source": [
    "## XGBoost"
   ]
  },
  {
   "cell_type": "code",
   "execution_count": null,
   "id": "187ea243",
   "metadata": {},
   "outputs": [
    {
     "data": {
      "text/plain": [
       "{'colsample_bytree': 0.5, 'learning_rate': 0.05, 'max_depth': 20}"
      ]
     },
     "execution_count": 8,
     "metadata": {},
     "output_type": "execute_result"
    }
   ],
   "source": [
    "# set param grid for XGBoost Hyperparameter tuning\n",
    "param_grid_xg = {\n",
    "        'max_depth': [10, 15, 20, 25, 30],\n",
    "        'learning_rate': [0.05, 0.1, 0.2],\n",
    "        'colsample_bytree': [0.5, 0.75, 1.0] # columns used by tree\n",
    "}\n",
    "\n",
    "# run grid search cross validation\n",
    "best_model_xg = GridSearchCV(xgb.XGBClassifier(random_state=42), \n",
    "                               param_grid=param_grid_xg, \n",
    "                               scoring='accuracy',\n",
    "                               cv=3)\n",
    "\n",
    "# fit model to data\n",
    "best_model_xg = best_model_xg.fit(X_train, y_train)\n",
    "\n",
    "# display params of best model for Decision tree\n",
    "best_model_xg.best_params_"
   ]
  },
  {
   "cell_type": "code",
   "execution_count": 10,
   "id": "e1099428",
   "metadata": {},
   "outputs": [
    {
     "data": {
      "text/plain": [
       "0.9860176349631501"
      ]
     },
     "execution_count": 10,
     "metadata": {},
     "output_type": "execute_result"
    }
   ],
   "source": [
    "# create XGBoost model\n",
    "xg = xgb.XGBClassifier(max_depth=20,\n",
    "                       learning_rate=0.05,\n",
    "                        colsample_bytree=0.5,\n",
    "                        random_state=42)\n",
    "\n",
    "# fit model on training set\n",
    "xg = xg.fit(X_train, y_train)\n",
    "\n",
    "# make predictions on the training set\n",
    "y_train_predict_xg = xg.predict(X_train)\n",
    "\n",
    "# calculate accuracy score\n",
    "accuracy_score(y_train, y_train_predict_xg)"
   ]
  },
  {
   "cell_type": "code",
   "execution_count": null,
   "id": "5ee0aebe",
   "metadata": {},
   "outputs": [
    {
     "data": {
      "text/plain": [
       "0.9835037935496523"
      ]
     },
     "execution_count": 13,
     "metadata": {},
     "output_type": "execute_result"
    }
   ],
   "source": [
    "# make predictions on the validation set\n",
    "y_val_predict_xg = xg.predict(X_val)\n",
    "\n",
    "# calculate accuracy score of validation set\n",
    "accuracy_score(y_val, y_val_predict_xg)"
   ]
  },
  {
   "cell_type": "code",
   "execution_count": 14,
   "id": "cda7ab49",
   "metadata": {},
   "outputs": [
    {
     "name": "stdout",
     "output_type": "stream",
     "text": [
      "              precision    recall  f1-score   support\n",
      "\n",
      "           0       0.98      1.00      0.99    499271\n",
      "           1       1.00      0.87      0.93     71830\n",
      "\n",
      "    accuracy                           0.98    571101\n",
      "   macro avg       0.99      0.93      0.96    571101\n",
      "weighted avg       0.98      0.98      0.98    571101\n",
      "\n"
     ]
    }
   ],
   "source": [
    "print(classification_report(y_val, y_val_predict_xg))"
   ]
  },
  {
   "cell_type": "code",
   "execution_count": 15,
   "id": "89a7d86a",
   "metadata": {},
   "outputs": [
    {
     "data": {
      "text/html": [
       "<div>\n",
       "<style scoped>\n",
       "    .dataframe tbody tr th:only-of-type {\n",
       "        vertical-align: middle;\n",
       "    }\n",
       "\n",
       "    .dataframe tbody tr th {\n",
       "        vertical-align: top;\n",
       "    }\n",
       "\n",
       "    .dataframe thead th {\n",
       "        text-align: right;\n",
       "    }\n",
       "</style>\n",
       "<table border=\"1\" class=\"dataframe\">\n",
       "  <thead>\n",
       "    <tr style=\"text-align: right;\">\n",
       "      <th></th>\n",
       "      <th>feature_importances</th>\n",
       "    </tr>\n",
       "  </thead>\n",
       "  <tbody>\n",
       "    <tr>\n",
       "      <th>delinq_1yr</th>\n",
       "      <td>0.30539</td>\n",
       "    </tr>\n",
       "    <tr>\n",
       "      <th>years_since_last_delinq</th>\n",
       "      <td>0.21936</td>\n",
       "    </tr>\n",
       "    <tr>\n",
       "      <th>years_delinq</th>\n",
       "      <td>0.14829</td>\n",
       "    </tr>\n",
       "    <tr>\n",
       "      <th>max_conseq_years_delinq</th>\n",
       "      <td>0.09519</td>\n",
       "    </tr>\n",
       "    <tr>\n",
       "      <th>delinq_bal_1yr_log</th>\n",
       "      <td>0.07594</td>\n",
       "    </tr>\n",
       "    <tr>\n",
       "      <th>delinq_3yr</th>\n",
       "      <td>0.07411</td>\n",
       "    </tr>\n",
       "    <tr>\n",
       "      <th>delinq_bal_5yr_log</th>\n",
       "      <td>0.02314</td>\n",
       "    </tr>\n",
       "    <tr>\n",
       "      <th>delinq_5yr</th>\n",
       "      <td>0.01440</td>\n",
       "    </tr>\n",
       "    <tr>\n",
       "      <th>delinq_2yr</th>\n",
       "      <td>0.01317</td>\n",
       "    </tr>\n",
       "    <tr>\n",
       "      <th>del_assessed_ratio_1yr_log</th>\n",
       "      <td>0.01243</td>\n",
       "    </tr>\n",
       "    <tr>\n",
       "      <th>delinq_bal_2yr_log</th>\n",
       "      <td>0.01167</td>\n",
       "    </tr>\n",
       "    <tr>\n",
       "      <th>delinq_4yr</th>\n",
       "      <td>0.00616</td>\n",
       "    </tr>\n",
       "    <tr>\n",
       "      <th>delinq_bal_3yr_log</th>\n",
       "      <td>0.00042</td>\n",
       "    </tr>\n",
       "    <tr>\n",
       "      <th>delinq_bal_4yr_log</th>\n",
       "      <td>0.00009</td>\n",
       "    </tr>\n",
       "    <tr>\n",
       "      <th>exempt_log</th>\n",
       "      <td>0.00002</td>\n",
       "    </tr>\n",
       "    <tr>\n",
       "      <th>year</th>\n",
       "      <td>0.00001</td>\n",
       "    </tr>\n",
       "    <tr>\n",
       "      <th>exempt_1yr_log</th>\n",
       "      <td>0.00001</td>\n",
       "    </tr>\n",
       "    <tr>\n",
       "      <th>single_family</th>\n",
       "      <td>0.00001</td>\n",
       "    </tr>\n",
       "    <tr>\n",
       "      <th>homestead_exemption</th>\n",
       "      <td>0.00001</td>\n",
       "    </tr>\n",
       "    <tr>\n",
       "      <th>taxable_%</th>\n",
       "      <td>0.00001</td>\n",
       "    </tr>\n",
       "    <tr>\n",
       "      <th>exempt_building_log</th>\n",
       "      <td>0.00001</td>\n",
       "    </tr>\n",
       "    <tr>\n",
       "      <th>interior_condition</th>\n",
       "      <td>0.00001</td>\n",
       "    </tr>\n",
       "    <tr>\n",
       "      <th>vacant_land</th>\n",
       "      <td>0.00001</td>\n",
       "    </tr>\n",
       "    <tr>\n",
       "      <th>chg_taxable_1yr_%</th>\n",
       "      <td>0.00001</td>\n",
       "    </tr>\n",
       "    <tr>\n",
       "      <th>sale_year</th>\n",
       "      <td>0.00001</td>\n",
       "    </tr>\n",
       "    <tr>\n",
       "      <th>sale_price_log</th>\n",
       "      <td>0.00001</td>\n",
       "    </tr>\n",
       "    <tr>\n",
       "      <th>chg_taxable_1yr</th>\n",
       "      <td>0.00001</td>\n",
       "    </tr>\n",
       "    <tr>\n",
       "      <th>exempt_3yr_log</th>\n",
       "      <td>0.00001</td>\n",
       "    </tr>\n",
       "    <tr>\n",
       "      <th>taxable_3yr_log</th>\n",
       "      <td>0.00001</td>\n",
       "    </tr>\n",
       "    <tr>\n",
       "      <th>mailing_outside_city</th>\n",
       "      <td>0.00001</td>\n",
       "    </tr>\n",
       "    <tr>\n",
       "      <th>taxable_log</th>\n",
       "      <td>0.00000</td>\n",
       "    </tr>\n",
       "    <tr>\n",
       "      <th>exempt_land_log</th>\n",
       "      <td>0.00000</td>\n",
       "    </tr>\n",
       "    <tr>\n",
       "      <th>offices</th>\n",
       "      <td>0.00000</td>\n",
       "    </tr>\n",
       "    <tr>\n",
       "      <th>taxable_1yr_log</th>\n",
       "      <td>0.00000</td>\n",
       "    </tr>\n",
       "    <tr>\n",
       "      <th>exterior_condition</th>\n",
       "      <td>0.00000</td>\n",
       "    </tr>\n",
       "    <tr>\n",
       "      <th>chg_taxable_3yr_%</th>\n",
       "      <td>0.00000</td>\n",
       "    </tr>\n",
       "    <tr>\n",
       "      <th>taxable_building_log</th>\n",
       "      <td>0.00000</td>\n",
       "    </tr>\n",
       "    <tr>\n",
       "      <th>commercial</th>\n",
       "      <td>0.00000</td>\n",
       "    </tr>\n",
       "    <tr>\n",
       "      <th>multi_family</th>\n",
       "      <td>0.00000</td>\n",
       "    </tr>\n",
       "    <tr>\n",
       "      <th>mixed_use</th>\n",
       "      <td>0.00000</td>\n",
       "    </tr>\n",
       "    <tr>\n",
       "      <th>exempt_5yr_log</th>\n",
       "      <td>0.00000</td>\n",
       "    </tr>\n",
       "    <tr>\n",
       "      <th>chg_taxable_3yr</th>\n",
       "      <td>0.00000</td>\n",
       "    </tr>\n",
       "    <tr>\n",
       "      <th>taxable_5yr_log</th>\n",
       "      <td>0.00000</td>\n",
       "    </tr>\n",
       "    <tr>\n",
       "      <th>taxable_land_log</th>\n",
       "      <td>0.00000</td>\n",
       "    </tr>\n",
       "    <tr>\n",
       "      <th>total_area_log</th>\n",
       "      <td>0.00000</td>\n",
       "    </tr>\n",
       "    <tr>\n",
       "      <th>condo</th>\n",
       "      <td>0.00000</td>\n",
       "    </tr>\n",
       "    <tr>\n",
       "      <th>chg_taxable_5yr_%</th>\n",
       "      <td>0.00000</td>\n",
       "    </tr>\n",
       "    <tr>\n",
       "      <th>total_livable_area_log</th>\n",
       "      <td>0.00000</td>\n",
       "    </tr>\n",
       "    <tr>\n",
       "      <th>chg_taxable_5yr</th>\n",
       "      <td>0.00000</td>\n",
       "    </tr>\n",
       "    <tr>\n",
       "      <th>year_built</th>\n",
       "      <td>0.00000</td>\n",
       "    </tr>\n",
       "    <tr>\n",
       "      <th>market_value_log</th>\n",
       "      <td>0.00000</td>\n",
       "    </tr>\n",
       "    <tr>\n",
       "      <th>number_stories</th>\n",
       "      <td>0.00000</td>\n",
       "    </tr>\n",
       "    <tr>\n",
       "      <th>industrial</th>\n",
       "      <td>0.00000</td>\n",
       "    </tr>\n",
       "    <tr>\n",
       "      <th>number_of_bathrooms</th>\n",
       "      <td>0.00000</td>\n",
       "    </tr>\n",
       "    <tr>\n",
       "      <th>number_of_bedrooms</th>\n",
       "      <td>0.00000</td>\n",
       "    </tr>\n",
       "    <tr>\n",
       "      <th>apartments</th>\n",
       "      <td>0.00000</td>\n",
       "    </tr>\n",
       "    <tr>\n",
       "      <th>garage</th>\n",
       "      <td>0.00000</td>\n",
       "    </tr>\n",
       "    <tr>\n",
       "      <th>hotel</th>\n",
       "      <td>0.00000</td>\n",
       "    </tr>\n",
       "    <tr>\n",
       "      <th>special_purpose</th>\n",
       "      <td>0.00000</td>\n",
       "    </tr>\n",
       "    <tr>\n",
       "      <th>retail</th>\n",
       "      <td>0.00000</td>\n",
       "    </tr>\n",
       "  </tbody>\n",
       "</table>\n",
       "</div>"
      ],
      "text/plain": [
       "                            feature_importances\n",
       "delinq_1yr                              0.30539\n",
       "years_since_last_delinq                 0.21936\n",
       "years_delinq                            0.14829\n",
       "max_conseq_years_delinq                 0.09519\n",
       "delinq_bal_1yr_log                      0.07594\n",
       "delinq_3yr                              0.07411\n",
       "delinq_bal_5yr_log                      0.02314\n",
       "delinq_5yr                              0.01440\n",
       "delinq_2yr                              0.01317\n",
       "del_assessed_ratio_1yr_log              0.01243\n",
       "delinq_bal_2yr_log                      0.01167\n",
       "delinq_4yr                              0.00616\n",
       "delinq_bal_3yr_log                      0.00042\n",
       "delinq_bal_4yr_log                      0.00009\n",
       "exempt_log                              0.00002\n",
       "year                                    0.00001\n",
       "exempt_1yr_log                          0.00001\n",
       "single_family                           0.00001\n",
       "homestead_exemption                     0.00001\n",
       "taxable_%                               0.00001\n",
       "exempt_building_log                     0.00001\n",
       "interior_condition                      0.00001\n",
       "vacant_land                             0.00001\n",
       "chg_taxable_1yr_%                       0.00001\n",
       "sale_year                               0.00001\n",
       "sale_price_log                          0.00001\n",
       "chg_taxable_1yr                         0.00001\n",
       "exempt_3yr_log                          0.00001\n",
       "taxable_3yr_log                         0.00001\n",
       "mailing_outside_city                    0.00001\n",
       "taxable_log                             0.00000\n",
       "exempt_land_log                         0.00000\n",
       "offices                                 0.00000\n",
       "taxable_1yr_log                         0.00000\n",
       "exterior_condition                      0.00000\n",
       "chg_taxable_3yr_%                       0.00000\n",
       "taxable_building_log                    0.00000\n",
       "commercial                              0.00000\n",
       "multi_family                            0.00000\n",
       "mixed_use                               0.00000\n",
       "exempt_5yr_log                          0.00000\n",
       "chg_taxable_3yr                         0.00000\n",
       "taxable_5yr_log                         0.00000\n",
       "taxable_land_log                        0.00000\n",
       "total_area_log                          0.00000\n",
       "condo                                   0.00000\n",
       "chg_taxable_5yr_%                       0.00000\n",
       "total_livable_area_log                  0.00000\n",
       "chg_taxable_5yr                         0.00000\n",
       "year_built                              0.00000\n",
       "market_value_log                        0.00000\n",
       "number_stories                          0.00000\n",
       "industrial                              0.00000\n",
       "number_of_bathrooms                     0.00000\n",
       "number_of_bedrooms                      0.00000\n",
       "apartments                              0.00000\n",
       "garage                                  0.00000\n",
       "hotel                                   0.00000\n",
       "special_purpose                         0.00000\n",
       "retail                                  0.00000"
      ]
     },
     "execution_count": 15,
     "metadata": {},
     "output_type": "execute_result"
    }
   ],
   "source": [
    "# create arrays with importance and column names\n",
    "importances_xg = xg.feature_importances_\n",
    "feature_names = X_train.columns\n",
    "\n",
    "# create feature importances df\n",
    "feat_imp_xg = pd.DataFrame(importances_xg, index=feature_names, columns=['feature_importances'])\n",
    "\n",
    "# dispaly importances\n",
    "feat_imp_xg.sort_values(by='feature_importances', ascending=False)"
   ]
  },
  {
   "cell_type": "code",
   "execution_count": 16,
   "id": "30501e16",
   "metadata": {},
   "outputs": [
    {
     "data": {
      "image/png": "[encoded data removed]",
      "text/plain": [
       "<Figure size 640x480 with 1 Axes>"
      ]
     },
     "metadata": {},
     "output_type": "display_data"
    }
   ],
   "source": [
    "# plot the feature importances\n",
    "feat_imp_xg[feat_imp_xg.feature_importances > 0.00001 ].sort_values(by='feature_importances').plot(kind='barh')\n",
    "plt.title(\"Feature Importance\")\n",
    "plt.show()"
   ]
  },
  {
   "cell_type": "markdown",
   "id": "f55a11da",
   "metadata": {},
   "source": [
    "## Final Model Selection"
   ]
  },
  {
   "cell_type": "code",
   "execution_count": 11,
   "id": "27a1d509",
   "metadata": {},
   "outputs": [
    {
     "data": {
      "text/plain": [
       "0.9833742192711972"
      ]
     },
     "execution_count": 11,
     "metadata": {},
     "output_type": "execute_result"
    }
   ],
   "source": [
    "# make predictions on the test set\n",
    "y_test_predict_xg = xg.predict(X_test)\n",
    "\n",
    "# calculate accuracy score of test set\n",
    "accuracy_score(y_test, y_test_predict_xg)"
   ]
  },
  {
   "cell_type": "code",
   "execution_count": 12,
   "id": "f5395541",
   "metadata": {},
   "outputs": [
    {
     "name": "stdout",
     "output_type": "stream",
     "text": [
      "              precision    recall  f1-score   support\n",
      "\n",
      "           0       0.98      1.00      0.99    499396\n",
      "           1       1.00      0.87      0.93     71705\n",
      "\n",
      "    accuracy                           0.98    571101\n",
      "   macro avg       0.99      0.93      0.96    571101\n",
      "weighted avg       0.98      0.98      0.98    571101\n",
      "\n"
     ]
    }
   ],
   "source": [
    "# print classification report\n",
    "print(classification_report(y_test, y_test_predict_xg))"
   ]
  },
  {
   "cell_type": "code",
   "execution_count": null,
   "id": "899e577b",
   "metadata": {},
   "outputs": [
    {
     "data": {
      "image/png": "[encoded data removed]",
      "text/plain": [
       "<Figure size 640x480 with 2 Axes>"
      ]
     },
     "metadata": {},
     "output_type": "display_data"
    }
   ],
   "source": [
    "# create confusion matrix\n",
    "cm = confusion_matrix(y_test, y_test_predict_xg, labels=xg.classes_)\n",
    "disp = ConfusionMatrixDisplay(confusion_matrix=cm,\n",
    "                               display_labels=xg.classes_)\n",
    "\n",
    "# display plot\n",
    "disp.plot()\n",
    "plt.show()"
   ]
  }
 ],
 "metadata": {
  "kernelspec": {
   "display_name": "Python 3",
   "language": "python",
   "name": "python3"
  },
  "language_info": {
   "codemirror_mode": {
    "name": "ipython",
    "version": 3
   },
   "file_extension": ".py",
   "mimetype": "text/x-python",
   "name": "python",
   "nbconvert_exporter": "python",
   "pygments_lexer": "ipython3",
   "version": "3.13.2"
  }
 },
 "nbformat": 4,
 "nbformat_minor": 5
}
