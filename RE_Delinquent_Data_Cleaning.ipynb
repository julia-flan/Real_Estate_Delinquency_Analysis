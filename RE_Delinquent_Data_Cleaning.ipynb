{
 "cells": [
  {
   "cell_type": "code",
   "execution_count": 1,
   "id": "a4c69a3a",
   "metadata": {},
   "outputs": [],
   "source": [
    "import requests\n",
    "import pandas as pd\n",
    "import numpy as np\n",
    "import json\n",
    "from census import Census\n",
    "from us import states\n",
    "import os\n",
    "import re\n",
    "import time\n",
    "import math"
   ]
  },
  {
   "cell_type": "markdown",
   "id": "3be04e37",
   "metadata": {},
   "source": [
    "# Requesting Data from Open Data Philly\n",
    "\n",
    "The property characteristic and assessment history data in this analysis is sourced from [OpenDataPhilly]([https://opendataphilly.org/datasets/philadelphia-properties-and-assessment-history/), an online repository providing access to data about the Philadelphia region. The data is maintained by the City of Philadelhia's the Office of Property Assessment and contains records for all properties in Philadelphia.\n",
    "\n",
    "The Property and Property Assessment datasets published to Carto and available to query via [SQL API](https://phl.carto.com/api/v2/sql) using PostgreSQL.\n",
    "- **Property table**: opa_properties_public\n",
    "- **Property Assessment table**: assessments"
   ]
  },
  {
   "cell_type": "code",
   "execution_count": 2,
   "id": "38c87de9",
   "metadata": {},
   "outputs": [],
   "source": [
    "def requestOpenDataPhilly(query: str):\n",
    "    '''\n",
    "    Sends request to Open Data Philly's SQL API, and returns the results as a Pandas dataframe\n",
    "\n",
    "    Args:\n",
    "        query (str): query written in PostgreSQL\n",
    "\n",
    "    Return:\n",
    "        dataframe containing the results of the query\n",
    "    '''\n",
    "    print('Sending request to Open Data Philly API.')\n",
    "    url = 'https://phl.carto.com/api/v2/sql'\n",
    "    params = {'q':query}\n",
    "\n",
    "    # send request\n",
    "    response = requests.get(url, params=params)\n",
    "    print(f\"Open Data API Status Code: {response.status_code}\")\n",
    "    \n",
    "    # sleep\n",
    "    time.sleep(2)\n",
    "    \n",
    "    try:\n",
    "        # convert response to df\n",
    "        response_data = json.loads(str(response.text))                          \n",
    "        data = response_data['rows']        \n",
    "        print(f'Returning df for query: {query}.\\n')                                    \n",
    "        return pd.DataFrame.from_dict(data) \n",
    "    except:\n",
    "        return pd.DataFrame() \n",
    "\n",
    "\n"
   ]
  },
  {
   "cell_type": "code",
   "execution_count": 3,
   "id": "042f8c88",
   "metadata": {},
   "outputs": [],
   "source": [
    "# establish queries\n",
    "prop_query = \"SELECT * FROM opa_properties_public\" \n",
    "assess_2025 = \"SELECT * FROM assessments WHERE year = '2025'\"\n",
    "assess_2024 = \"SELECT * FROM assessments WHERE year = '2024'\"\n",
    "assess_2023 = \"SELECT * FROM assessments WHERE year = '2023'\"\n",
    "assess_2022 = \"SELECT * FROM assessments WHERE year = '2022'\"\n",
    "assess_2021 = \"SELECT * FROM assessments WHERE year = '2021'\"\n",
    "assess_2020 = \"SELECT * FROM assessments WHERE year = '2020'\"\n",
    "assess_2019 = \"SELECT * FROM assessments WHERE year = '2019'\"\n",
    "assess_2018 = \"SELECT * FROM assessments WHERE year = '2018'\"\n",
    "assess_2017 = \"SELECT * FROM assessments WHERE year = '2017'\"\n",
    "assess_2016 = \"SELECT * FROM assessments WHERE year = '2016'\"\n",
    "assess_2015 = \"SELECT * FROM assessments WHERE year = '2015'\""
   ]
  },
  {
   "cell_type": "code",
   "execution_count": 4,
   "id": "ec0c93b2",
   "metadata": {},
   "outputs": [],
   "source": [
    "# # get requests\n",
    "# prop = requestOpenDataPhilly(prop_query)\n",
    "# assess_2025 = requestOpenDataPhilly(assess_2025)\n",
    "# assess_2024 = requestOpenDataPhilly(assess_2024)\n",
    "# assess_2023 = requestOpenDataPhilly(assess_2023)\n",
    "# assess_2022 = requestOpenDataPhilly(assess_2022)\n",
    "# assess_2021 = requestOpenDataPhilly(assess_2021)\n",
    "# assess_2020 = requestOpenDataPhilly(assess_2020)\n",
    "# assess_2019 = requestOpenDataPhilly(assess_2019) \n",
    "# assess_2018 = requestOpenDataPhilly(assess_2018)  \n",
    "# assess_2017 = requestOpenDataPhilly(assess_2017)\n",
    "# assess_2016 = requestOpenDataPhilly(assess_2016)\n",
    "# assess_2015 = requestOpenDataPhilly(assess_2015)"
   ]
  },
  {
   "cell_type": "code",
   "execution_count": 5,
   "id": "1c99cf36",
   "metadata": {},
   "outputs": [],
   "source": [
    "# # export files\n",
    "# prop.to_csv(\"Data/properties.csv\", index=False)\n",
    "# assess_2025.to_csv(\"Data/assess_2025.csv\", index=False)\n",
    "# assess_2024.to_csv(\"Data/assess_2024.csv\", index=False)\n",
    "# assess_2023.to_csv(\"Data/assess_2023.csv\", index=False)\n",
    "# assess_2022.to_csv(\"Data/assess_2022.csv\", index=False)\n",
    "# assess_2021.to_csv(\"Data/assess_2021.csv\", index=False)\n",
    "# assess_2020.to_csv(\"Data/assess_2020.csv\", index=False)\n",
    "# assess_2019.to_csv(\"Data/assess_2019.csv\", index=False)\n",
    "# assess_2018.to_csv(\"Data/assess_2018.csv\", index=False)\n",
    "# assess_2017.to_csv(\"Data/assess_2017.csv\", index=False)\n",
    "# assess_2016.to_csv(\"Data/assess_2016.csv\", index=False)\n",
    "# assess_2015.to_csv(\"Data/assess_2015.csv\", index=False)\n"
   ]
  },
  {
   "cell_type": "code",
   "execution_count": 6,
   "id": "468aaabd",
   "metadata": {},
   "outputs": [
    {
     "name": "stderr",
     "output_type": "stream",
     "text": [
      "C:\\Users\\julia\\AppData\\Local\\Temp\\ipykernel_64272\\2771757085.py:2: DtypeWarning: Columns (6,18,27,29,78) have mixed types. Specify dtype option on import or set low_memory=False.\n",
      "  prop = pd.read_csv(\"Data/properties.csv\")\n"
     ]
    }
   ],
   "source": [
    "# read csvs\n",
    "prop = pd.read_csv(\"Data/properties.csv\")\n",
    "assess_2025 = pd.read_csv(\"Data/assess_2025.csv\")\n",
    "assess_2024 = pd.read_csv(\"Data/assess_2024.csv\")\n",
    "assess_2023 = pd.read_csv(\"Data/assess_2023.csv\")\n",
    "assess_2022 = pd.read_csv(\"Data/assess_2022.csv\")\n",
    "assess_2021 = pd.read_csv(\"Data/assess_2021.csv\")\n",
    "assess_2020 = pd.read_csv(\"Data/assess_2020.csv\")\n",
    "assess_2019 = pd.read_csv(\"Data/assess_2019.csv\")\n",
    "assess_2018 = pd.read_csv(\"Data/assess_2018.csv\")\n",
    "assess_2017 = pd.read_csv(\"Data/assess_2017.csv\")\n",
    "assess_2016 = pd.read_csv(\"Data/assess_2016.csv\")\n",
    "assess_2015 = pd.read_csv(\"Data/assess_2015.csv\")"
   ]
  },
  {
   "cell_type": "markdown",
   "id": "c86adbf0",
   "metadata": {},
   "source": [
    "## Reading Real Estate Delinquency Data\n",
    "\n",
    "Real Estate Delinquency data is available on Open Data Philly aggregated by location. To access this data at the parcel level, email Roman Stratkovsky <roman.stratkovsky@phila.gov>, Chief Data Intelligence Officer at the City of Philadelphia's Department of Revenue."
   ]
  },
  {
   "cell_type": "code",
   "execution_count": 7,
   "id": "32a90614",
   "metadata": {},
   "outputs": [],
   "source": [
    "delinq = pd.read_csv(\"Data/real_estate_delinquency.csv\")"
   ]
  },
  {
   "cell_type": "markdown",
   "id": "f34a2da9",
   "metadata": {},
   "source": [
    "## Check the shape of each dataframe"
   ]
  },
  {
   "cell_type": "code",
   "execution_count": 8,
   "id": "8dbf1dba",
   "metadata": {},
   "outputs": [
    {
     "data": {
      "text/plain": [
       "(584103, 81)"
      ]
     },
     "execution_count": 8,
     "metadata": {},
     "output_type": "execute_result"
    }
   ],
   "source": [
    "# property df size\n",
    "prop.shape"
   ]
  },
  {
   "cell_type": "code",
   "execution_count": 9,
   "id": "d70158e5",
   "metadata": {},
   "outputs": [
    {
     "name": "stdout",
     "output_type": "stream",
     "text": [
      "(584014, 10)\n",
      "(582676, 10)\n",
      "(581527, 10)\n",
      "(579221, 10)\n",
      "(578012, 10)\n",
      "(576751, 10)\n",
      "(574880, 10)\n",
      "(573566, 10)\n",
      "(573539, 10)\n",
      "(573552, 10)\n",
      "(573545, 10)\n"
     ]
    }
   ],
   "source": [
    "# assessment df size\n",
    "for df in [assess_2025, assess_2024, assess_2023, assess_2022, assess_2021, assess_2020, assess_2019, assess_2018, assess_2017, assess_2016, assess_2015]:\n",
    "    print(df.shape)"
   ]
  },
  {
   "cell_type": "code",
   "execution_count": 10,
   "id": "0f442d1d",
   "metadata": {},
   "outputs": [
    {
     "data": {
      "text/plain": [
       "(1400509, 7)"
      ]
     },
     "execution_count": 10,
     "metadata": {},
     "output_type": "execute_result"
    }
   ],
   "source": [
    "# real delinquency data\n",
    "delinq.shape"
   ]
  },
  {
   "cell_type": "markdown",
   "id": "0dc8b40b",
   "metadata": {},
   "source": [
    "The property characteristics dataframe has 81 columns, many of which are of no relevance to Real Estate Delinquency. Therefore, a subset of the columns was selected based on institutional knowledge and relevance to the research question."
   ]
  },
  {
   "cell_type": "code",
   "execution_count": 11,
   "id": "53d8aef8",
   "metadata": {},
   "outputs": [],
   "source": [
    "# create copy of properties df\n",
    "prop_clean = prop.loc[:,['parcel_number', 'category_code_description','exterior_condition','interior_condition','homestead_exemption','mailing_zip','number_of_bathrooms'\n",
    "                         ,'number_of_bedrooms','number_stories','sale_date','sale_price','total_area','total_livable_area','unit','year_built','zip_code']].copy(deep=True)"
   ]
  },
  {
   "cell_type": "markdown",
   "id": "e27509cc",
   "metadata": {},
   "source": [
    "### Concat and join Assessment dataframe\n",
    "\n",
    "Assessment dataframes contain the property assessment for each year from 2015 to 2025. Join the individual dataframes so we can have a 1-year, 3-year, and 5-year look back for the years 2025-2020."
   ]
  },
  {
   "cell_type": "code",
   "execution_count": 47,
   "id": "71546ebc",
   "metadata": {},
   "outputs": [],
   "source": [
    "# create copies of the asessments df\n",
    "assess_2025_clean = assess_2025.loc[:,['parcel_number','year','market_value','taxable_land','taxable_building','exempt_land','exempt_building']].copy(deep=True)\n",
    "assess_2024_clean = assess_2024.loc[:,['parcel_number','year','market_value','taxable_land','taxable_building','exempt_land','exempt_building']].copy(deep=True)\n",
    "assess_2023_clean = assess_2023.loc[:,['parcel_number','year','market_value','taxable_land','taxable_building','exempt_land','exempt_building']].copy(deep=True)\n",
    "assess_2022_clean = assess_2022.loc[:,['parcel_number','year','market_value','taxable_land','taxable_building','exempt_land','exempt_building']].copy(deep=True)\n",
    "assess_2021_clean = assess_2021.loc[:,['parcel_number','year','market_value','taxable_land','taxable_building','exempt_land','exempt_building']].copy(deep=True)\n",
    "assess_2020_clean = assess_2020.loc[:,['parcel_number','year','market_value','taxable_land','taxable_building','exempt_land','exempt_building']].copy(deep=True)\n",
    "assess_2019_clean = assess_2019.loc[:,['parcel_number','year','market_value','taxable_land','taxable_building','exempt_land','exempt_building']].copy(deep=True)\n",
    "assess_2018_clean = assess_2018.loc[:,['parcel_number','year','market_value','taxable_land','taxable_building','exempt_land','exempt_building']].copy(deep=True)\n",
    "assess_2017_clean = assess_2017.loc[:,['parcel_number','year','market_value','taxable_land','taxable_building','exempt_land','exempt_building']].copy(deep=True)\n",
    "assess_2016_clean = assess_2016.loc[:,['parcel_number','year','market_value','taxable_land','taxable_building','exempt_land','exempt_building']].copy(deep=True)\n",
    "assess_2015_clean = assess_2015.loc[:,['parcel_number','year','market_value','taxable_land','taxable_building','exempt_land','exempt_building']].copy(deep=True)"
   ]
  },
  {
   "cell_type": "code",
   "execution_count": 48,
   "id": "3c942826",
   "metadata": {},
   "outputs": [],
   "source": [
    "# concat the assessment years together\n",
    "assess_all = pd.concat([assess_2025_clean, assess_2024_clean, assess_2023_clean, assess_2022_clean, assess_2021_clean, assess_2020_clean, \n",
    "                        assess_2019_clean,assess_2018_clean, assess_2017_clean, assess_2016_clean, assess_2015_clean], axis=0, ignore_index=True)\n",
    "\n",
    "# create taxable and exempt fields\n",
    "assess_all['taxable'] = assess_all['taxable_land'] + assess_all['taxable_building']\n",
    "assess_all['exempt'] = assess_all['exempt_land'] + assess_all['exempt_building']\n",
    "\n",
    "# create fields for the 1, 3, and 5 year joins\n",
    "assess_all['1yr'] = assess_all['year'] - 1\n",
    "assess_all['3yr'] = assess_all['year'] - 3\n",
    "assess_all['5yr'] = assess_all['year'] - 5\n",
    "\n",
    "# select a subset of columns for each df\n",
    "assess_1yr = assess_all.loc[:,['parcel_number','year','taxable','exempt']].copy(deep=True)\n",
    "assess_3yr = assess_all.loc[:,['parcel_number','year','taxable','exempt']].copy(deep=True)\n",
    "assess_5yr = assess_all.loc[:,['parcel_number','year','taxable','exempt']].copy(deep=True)\n",
    "\n",
    "# rename columns to indicate the year of assessment\n",
    "assess_1yr.rename(columns={'taxable':'taxable_1yr','exempt':'exempt_1yr'}, inplace=True)\n",
    "assess_3yr.rename(columns={'taxable':'taxable_3yr','exempt':'exempt_3yr'}, inplace=True)\n",
    "assess_5yr.rename(columns={'taxable':'taxable_5yr','exempt':'exempt_5yr'}, inplace=True)"
   ]
  },
  {
   "cell_type": "code",
   "execution_count": 49,
   "id": "ca9ae5b4",
   "metadata": {},
   "outputs": [],
   "source": [
    "\n",
    "# join to last year's assessments\n",
    "assess_clean = pd.merge(assess_all, assess_1yr, how='inner', left_on=['parcel_number','1yr'], right_on=['parcel_number','year'])\n",
    "assess_clean.drop(columns=['year_y'], inplace=True)\n",
    "assess_clean.rename(columns={'year_x':'year'}, inplace=True)\n",
    "\n",
    "# join to the assessments from 3 years ago\n",
    "assess_clean = pd.merge(assess_clean, assess_3yr, how='inner', left_on=['parcel_number','3yr'], right_on=['parcel_number','year'])\n",
    "assess_clean.drop(columns=['year_y'], inplace=True)\n",
    "assess_clean.rename(columns={'year_x':'year'}, inplace=True)\n",
    "\n",
    "# join to the assessments from 5 years ago\n",
    "assess_clean = pd.merge(assess_clean, assess_5yr, how='inner', left_on=['parcel_number','5yr'], right_on=['parcel_number','year'])\n",
    "assess_clean.drop(columns=['year_y'], inplace=True)\n",
    "assess_clean.rename(columns={'year_x':'year'}, inplace=True)\n",
    "\n",
    "# drop the additional year columns\n",
    "assess_clean.drop(columns=['1yr','3yr','5yr'], inplace=True)"
   ]
  },
  {
   "cell_type": "code",
   "execution_count": 50,
   "id": "1bb2f3db",
   "metadata": {},
   "outputs": [
    {
     "data": {
      "text/plain": [
       "(3445780, 15)"
      ]
     },
     "execution_count": 50,
     "metadata": {},
     "output_type": "execute_result"
    }
   ],
   "source": [
    "assess_clean.shape"
   ]
  },
  {
   "cell_type": "markdown",
   "id": "b8a15965",
   "metadata": {},
   "source": [
    "## Pivot Delinquent dataframe\n",
    "\n",
    "Pivot table so there is one record per property instead of one record per property and year."
   ]
  },
  {
   "cell_type": "code",
   "execution_count": 63,
   "id": "769cbec1",
   "metadata": {},
   "outputs": [],
   "source": [
    "# create copy of the delinquency df\n",
    "delinq_copy = delinq.copy(deep=True)"
   ]
  },
  {
   "cell_type": "code",
   "execution_count": 72,
   "id": "da6777e7",
   "metadata": {},
   "outputs": [],
   "source": [
    "# rename columns\n",
    "delinq_copy.rename(columns={'snapshot_year':'year',\n",
    "                            'principal_balance':'principal',\n",
    "                            'interest_balance':'interest',\n",
    "                            'penalty_balance':'penalty',\n",
    "                            'other_balance':'other',\n",
    "                            'total_balance':'total'},\n",
    "                            inplace=True)"
   ]
  },
  {
   "cell_type": "code",
   "execution_count": 74,
   "id": "3f07710f",
   "metadata": {},
   "outputs": [],
   "source": [
    "# drop years before 2019\n",
    "delinq_copy = delinq_copy[delinq_copy.year >= 2019]"
   ]
  },
  {
   "cell_type": "code",
   "execution_count": 76,
   "id": "91594c69",
   "metadata": {},
   "outputs": [],
   "source": [
    "# pivot table\n",
    "delinq_clean = delinq_copy.pivot(\n",
    "    index = 'parcel_number',\n",
    "    columns = 'year',\n",
    "    values = ['principal','interest','penalty','other','total']\n",
    ")\n",
    "\n",
    "# flatten multiindex\n",
    "delinq_clean.columns = [f'{col[0]}_{col[1]}' for col in delinq_clean.columns]\n",
    "\n",
    "# reset index\n",
    "delinq_clean = delinq_clean.reset_index()"
   ]
  },
  {
   "cell_type": "code",
   "execution_count": 78,
   "id": "b5515cea",
   "metadata": {},
   "outputs": [
    {
     "data": {
      "text/plain": [
       "(141840, 31)"
      ]
     },
     "execution_count": 78,
     "metadata": {},
     "output_type": "execute_result"
    }
   ],
   "source": [
    "delinq_clean.shape"
   ]
  },
  {
   "cell_type": "markdown",
   "id": "84d9095d",
   "metadata": {},
   "source": [
    "## Check and convert data types"
   ]
  },
  {
   "cell_type": "code",
   "execution_count": 16,
   "id": "67d52707",
   "metadata": {},
   "outputs": [
    {
     "data": {
      "text/plain": [
       "parcel_number                  int64\n",
       "category_code_description     object\n",
       "exterior_condition            object\n",
       "interior_condition            object\n",
       "homestead_exemption            int64\n",
       "mailing_zip                   object\n",
       "number_of_bathrooms          float64\n",
       "number_of_bedrooms           float64\n",
       "number_stories               float64\n",
       "sale_date                     object\n",
       "sale_price                   float64\n",
       "total_area                   float64\n",
       "total_livable_area           float64\n",
       "unit                          object\n",
       "year_built                   float64\n",
       "zip_code                     float64\n",
       "dtype: object"
      ]
     },
     "execution_count": 16,
     "metadata": {},
     "output_type": "execute_result"
    }
   ],
   "source": [
    "prop_clean.dtypes"
   ]
  },
  {
   "cell_type": "markdown",
   "id": "976323ef",
   "metadata": {},
   "source": [
    "Exterior condition is a numerical scale from 1 to 9 where 1 indicates newer construction, 9 indicates properties that are structurally compromised, and 0 indicates that exterior condition is not applicable. Remove errornous values, change 0s to NAs, and convert to float type."
   ]
  },
  {
   "cell_type": "code",
   "execution_count": 17,
   "id": "a76cc5bf",
   "metadata": {},
   "outputs": [
    {
     "data": {
      "text/plain": [
       "array([nan,  4.,  1.,  3.,  5.,  7.,  2.,  6.,  8.])"
      ]
     },
     "execution_count": 17,
     "metadata": {},
     "output_type": "execute_result"
    }
   ],
   "source": [
    "# check unique values for exterior condition\n",
    "prop_clean.exterior_condition.unique()\n",
    "\n",
    "# 6 records where exterior condition is an invalid value\n",
    "prop_clean[prop_clean.exterior_condition.isin(['P','E','A'])].head(10)\n",
    "\n",
    "# change invalid records to NA\n",
    "prop_clean.loc[(prop_clean.exterior_condition.isin(['P','E','A'])), 'exterior_condition'] = np.nan\n",
    "\n",
    "# convert exterior condition to float\n",
    "prop_clean.exterior_condition = prop_clean.exterior_condition.astype(float)\n",
    "\n",
    "# change 0 (not applicable) records to NA\n",
    "prop_clean.loc[(prop_clean.exterior_condition == 0), 'exterior_condition'] = np.nan\n",
    "\n",
    "# confirm unqiue values of exterior condition\n",
    "prop_clean.exterior_condition.unique()"
   ]
  },
  {
   "cell_type": "markdown",
   "id": "3af4bc67",
   "metadata": {},
   "source": [
    "Interior condition is a numerical scale from 1 to 8 where 1 indicates newer construction, 7 indicates properties that are structurally compromised, and 0 indicates that interior condition is not applicable. Remove errornous values, change 0s to NAs, and convert to float type."
   ]
  },
  {
   "cell_type": "code",
   "execution_count": 18,
   "id": "6692cdaa",
   "metadata": {},
   "outputs": [
    {
     "data": {
      "text/plain": [
       "array([nan,  4.,  1.,  2.,  3.,  5.,  6.,  7.,  8.])"
      ]
     },
     "execution_count": 18,
     "metadata": {},
     "output_type": "execute_result"
    }
   ],
   "source": [
    "# check unique values for interior condition\n",
    "prop_clean.interior_condition.unique()\n",
    "\n",
    "# 6 records where exterior condition is an invalid value\n",
    "prop_clean[prop_clean.interior_condition.isin(['P','E','A'])].head(10)\n",
    "\n",
    "# change invalid records to NA\n",
    "prop_clean.loc[(prop_clean.interior_condition.isin(['P','E','A'])), 'interior_condition'] = np.nan\n",
    "\n",
    "# convert interior condition to float\n",
    "prop_clean.interior_condition = prop_clean.interior_condition.astype(float)\n",
    "\n",
    "# change 0 (not applicable) records to NA\n",
    "prop_clean.loc[(prop_clean.interior_condition == 0), 'interior_condition'] = np.nan\n",
    "\n",
    "# confirm unqiue values of exterior condition\n",
    "prop_clean.interior_condition.unique()"
   ]
  },
  {
   "cell_type": "markdown",
   "id": "cecce2c1",
   "metadata": {},
   "source": [
    "Unit, if exists, is a condo unit number. We care whether of not a property is a condo so we will convert unit to a boolean."
   ]
  },
  {
   "cell_type": "code",
   "execution_count": 19,
   "id": "4a68c344",
   "metadata": {},
   "outputs": [],
   "source": [
    "prop_clean.unit = prop_clean.unit.apply(lambda x: 0 if x == None else 1)"
   ]
  },
  {
   "cell_type": "code",
   "execution_count": 20,
   "id": "25c6bfda",
   "metadata": {},
   "outputs": [],
   "source": [
    "# convert from float to int for count data\n",
    "prop_clean.number_of_bathrooms = prop_clean.number_of_bathrooms.astype('Int64')\n",
    "prop_clean.number_of_bedrooms = prop_clean.number_of_bedrooms.astype('Int64')\n",
    "prop_clean.number_stories = prop_clean.number_stories.astype('Int64')\n",
    "\n",
    "# convert year built from float to string and remove floating point values\n",
    "prop_clean.year_built = prop_clean.year_built.apply(lambda x: np.nan if pd.isna(x) else str(x)[:-2])\n",
    "\n",
    "# convert zip code from float to string and remove floating point values\n",
    "prop_clean.zip_code = prop_clean.zip_code.apply(lambda x: np.nan if pd.isna(x) else str(x)[:-2])\n",
    "\n",
    "# convert from object to date\n",
    "prop_clean.sale_date = pd.to_datetime(prop_clean.sale_date, format='%Y-%m-%dT%H:%M:%SZ', errors='coerce')"
   ]
  },
  {
   "cell_type": "code",
   "execution_count": 21,
   "id": "f7d26b7a",
   "metadata": {},
   "outputs": [
    {
     "data": {
      "text/plain": [
       "parcel_number                         int64\n",
       "category_code_description            object\n",
       "exterior_condition                  float64\n",
       "interior_condition                  float64\n",
       "homestead_exemption                   int64\n",
       "mailing_zip                          object\n",
       "number_of_bathrooms                   Int64\n",
       "number_of_bedrooms                    Int64\n",
       "number_stories                        Int64\n",
       "sale_date                    datetime64[ns]\n",
       "sale_price                          float64\n",
       "total_area                          float64\n",
       "total_livable_area                  float64\n",
       "unit                                  int64\n",
       "year_built                           object\n",
       "zip_code                             object\n",
       "dtype: object"
      ]
     },
     "execution_count": 21,
     "metadata": {},
     "output_type": "execute_result"
    }
   ],
   "source": [
    "prop_clean.dtypes"
   ]
  },
  {
   "cell_type": "code",
   "execution_count": 22,
   "id": "7419692d",
   "metadata": {},
   "outputs": [
    {
     "data": {
      "text/plain": [
       "parcel_number         int64\n",
       "year                  int64\n",
       "market_value          int64\n",
       "taxable_land        float64\n",
       "taxable_building    float64\n",
       "exempt_land         float64\n",
       "exempt_building     float64\n",
       "dtype: object"
      ]
     },
     "execution_count": 22,
     "metadata": {},
     "output_type": "execute_result"
    }
   ],
   "source": [
    "assess_2025_clean.dtypes"
   ]
  },
  {
   "cell_type": "code",
   "execution_count": 23,
   "id": "d7a80782",
   "metadata": {},
   "outputs": [
    {
     "data": {
      "text/plain": [
       "parcel_number          int64\n",
       "snapshot_year          int64\n",
       "principal_balance    float64\n",
       "interest_balance     float64\n",
       "penalty_balance      float64\n",
       "other_balance        float64\n",
       "total_balance        float64\n",
       "dtype: object"
      ]
     },
     "execution_count": 23,
     "metadata": {},
     "output_type": "execute_result"
    }
   ],
   "source": [
    "delinq_clean.dtypes"
   ]
  },
  {
   "cell_type": "markdown",
   "id": "c3c2897a",
   "metadata": {},
   "source": [
    "## Check for missing values in the Property dataset"
   ]
  },
  {
   "cell_type": "markdown",
   "id": "fe526928",
   "metadata": {},
   "source": [
    "The property characteristics dataset is rife with missing values due to the method of data collection. This dataset is supported and maintained by the City of Philadelphia’s Office of Property Assessment (OPA). According to the OPA Mass Appraisal [Methodology Documentation](https://www.phila.gov/media/20240920162052/opa-tax-year-2025-mass-appraisal-valuation-methodology.pdf), data on individual properties is collected by OPA evaluators either in-person or virtually. In-person data collections consist of physically visiting a property and collecting observations from the curb. OPA evaluators may only conduct an internal inspection if they are invited in by an occupant. Virtual inspections are conducted by utilizing aerial photography or online listings. Therefore, data is limited by circumstance and online availability."
   ]
  },
  {
   "cell_type": "code",
   "execution_count": 24,
   "id": "78d274a6",
   "metadata": {},
   "outputs": [
    {
     "data": {
      "text/plain": [
       "parcel_number                    0\n",
       "category_code_description       17\n",
       "exterior_condition           43666\n",
       "interior_condition           43689\n",
       "homestead_exemption              0\n",
       "mailing_zip                   2513\n",
       "number_of_bathrooms          86243\n",
       "number_of_bedrooms           81463\n",
       "number_stories               72963\n",
       "sale_date                     2725\n",
       "sale_price                    2750\n",
       "total_area                     726\n",
       "total_livable_area           43203\n",
       "unit                             0\n",
       "year_built                   43200\n",
       "zip_code                       146\n",
       "dtype: int64"
      ]
     },
     "execution_count": 24,
     "metadata": {},
     "output_type": "execute_result"
    }
   ],
   "source": [
    "# count missing values\n",
    "prop_clean.isna().sum()"
   ]
  },
  {
   "cell_type": "markdown",
   "id": "2d9f7fd9",
   "metadata": {},
   "source": [
    "## Many missing values are coming from vacant properties\n",
    "\n",
    "There are around 42,000 missing values for exterior condition, interior condition, number of bathrooms, number of bedrooms, number of stories, total livable area, and year built where the property is vacant. Vacant properties don't have bathrooms, bedrooms, stories, livable areas, or a year built since there is no structure. Therefore, we must correct these values."
   ]
  },
  {
   "cell_type": "code",
   "execution_count": 25,
   "id": "2ca9e81c",
   "metadata": {},
   "outputs": [
    {
     "data": {
      "text/plain": [
       "parcel_number                    0\n",
       "category_code_description        0\n",
       "exterior_condition           42862\n",
       "interior_condition           42865\n",
       "homestead_exemption              0\n",
       "mailing_zip                     96\n",
       "number_of_bathrooms          42828\n",
       "number_of_bedrooms           42824\n",
       "number_stories               42850\n",
       "sale_date                      760\n",
       "sale_price                     765\n",
       "total_area                     193\n",
       "total_livable_area           42745\n",
       "unit                             0\n",
       "year_built                   42745\n",
       "zip_code                       106\n",
       "dtype: int64"
      ]
     },
     "execution_count": 25,
     "metadata": {},
     "output_type": "execute_result"
    }
   ],
   "source": [
    "prop_clean[prop_clean.category_code_description.isin(['VACANT LAND','VACANT LAND - RESIDENTIAL','VACANT LAND - NON-RESIDENTIAL'])].isna().sum()"
   ]
  },
  {
   "cell_type": "markdown",
   "id": "8f302a1d",
   "metadata": {},
   "source": [
    "## Fix records for vacant properties"
   ]
  },
  {
   "cell_type": "code",
   "execution_count": 26,
   "id": "9a6fdf77",
   "metadata": {},
   "outputs": [],
   "source": [
    "# change the bathrooms from NA to 0 if the property is vacant\n",
    "prop_clean.loc[(prop_clean.category_code_description.isin(['VACANT LAND','VACANT LAND - RESIDENTIAL','VACANT LAND - NON-RESIDENTIAL'])) & (prop_clean.number_of_bathrooms.isna()), 'number_of_bathrooms'] = 0\n",
    "\n",
    "# change the bedrooms from NA to 0 if the property is vacant\n",
    "prop_clean.loc[(prop_clean.category_code_description.isin(['VACANT LAND','VACANT LAND - RESIDENTIAL','VACANT LAND - NON-RESIDENTIAL'])) & (prop_clean.number_of_bedrooms.isna()), 'number_of_bedrooms'] = 0\n",
    "\n",
    "# change the stories from NA to 0 if the property is vacant\n",
    "prop_clean.loc[(prop_clean.category_code_description.isin(['VACANT LAND','VACANT LAND - RESIDENTIAL','VACANT LAND - NON-RESIDENTIAL'])) & (prop_clean.number_stories.isna()), 'number_stories'] = 0\n",
    "\n",
    "# change the total livable area from NA to 0 if the property is vacant\n",
    "prop_clean.loc[(prop_clean.category_code_description.isin(['VACANT LAND','VACANT LAND - RESIDENTIAL','VACANT LAND - NON-RESIDENTIAL'])) & (prop_clean.total_livable_area.isna()), 'total_livable_area'] = 0\n",
    "\n",
    "# change year built to 2029\n",
    "prop_clean.loc[(prop_clean.category_code_description.isin(['VACANT LAND','VACANT LAND - RESIDENTIAL','VACANT LAND - NON-RESIDENTIAL'])) & (prop_clean.year_built.isna()), 'year_built'] = 2029\n"
   ]
  },
  {
   "cell_type": "markdown",
   "id": "2739d9c8",
   "metadata": {},
   "source": [
    "Exterior conditions is a numerical scale from 1 to 9 where 1 indicates newer construction and 9 indictates properties that are structurally compromised. Therefore, we will change NA to 10 for vacant properties. "
   ]
  },
  {
   "cell_type": "code",
   "execution_count": 27,
   "id": "a58cb354",
   "metadata": {},
   "outputs": [],
   "source": [
    "# change the exterior condition from NA to 10 if the property is vacant\n",
    "prop_clean.loc[(prop_clean.category_code_description.isin(['VACANT LAND','VACANT LAND - RESIDENTIAL','VACANT LAND - NON-RESIDENTIAL'])) & (prop_clean.exterior_condition.isna()), 'exterior_condition'] = 10"
   ]
  },
  {
   "cell_type": "markdown",
   "id": "53cc6c3b",
   "metadata": {},
   "source": [
    "Interior condition is a numerical scale from 1 to 7 where 1 is new and or newly rehabed and 7 is structurally compromised. Therefore, we will change NA to 9 for vacant properties."
   ]
  },
  {
   "cell_type": "code",
   "execution_count": 28,
   "id": "7821da08",
   "metadata": {},
   "outputs": [],
   "source": [
    "# change the interior condition from NA to 8 if the property is vacant\n",
    "prop_clean.loc[(prop_clean.category_code_description.isin(['VACANT LAND','VACANT LAND - RESIDENTIAL','VACANT LAND - NON-RESIDENTIAL'])) & (prop_clean.interior_condition.isna()), 'interior_condition'] = 9"
   ]
  },
  {
   "cell_type": "code",
   "execution_count": 29,
   "id": "9b561d38",
   "metadata": {},
   "outputs": [
    {
     "data": {
      "text/plain": [
       "parcel_number                  0\n",
       "category_code_description      0\n",
       "exterior_condition             0\n",
       "interior_condition             0\n",
       "homestead_exemption            0\n",
       "mailing_zip                   96\n",
       "number_of_bathrooms            0\n",
       "number_of_bedrooms             0\n",
       "number_stories                 0\n",
       "sale_date                    760\n",
       "sale_price                   765\n",
       "total_area                   193\n",
       "total_livable_area             0\n",
       "unit                           0\n",
       "year_built                     0\n",
       "zip_code                     106\n",
       "dtype: int64"
      ]
     },
     "execution_count": 29,
     "metadata": {},
     "output_type": "execute_result"
    }
   ],
   "source": [
    "prop_clean[prop_clean.category_code_description.isin(['VACANT LAND','VACANT LAND - RESIDENTIAL','VACANT LAND - NON-RESIDENTIAL'])].isna().sum()"
   ]
  },
  {
   "cell_type": "markdown",
   "id": "15c23153",
   "metadata": {},
   "source": [
    "There still exists many records with the number of bedrooms, bathrooms, and stories missing. "
   ]
  },
  {
   "cell_type": "code",
   "execution_count": 30,
   "id": "6ebdd944",
   "metadata": {},
   "outputs": [
    {
     "data": {
      "text/plain": [
       "parcel_number                    0\n",
       "category_code_description       17\n",
       "exterior_condition             804\n",
       "interior_condition             824\n",
       "homestead_exemption              0\n",
       "mailing_zip                   2513\n",
       "number_of_bathrooms          43415\n",
       "number_of_bedrooms           38639\n",
       "number_stories               30113\n",
       "sale_date                     2725\n",
       "sale_price                    2750\n",
       "total_area                     726\n",
       "total_livable_area             458\n",
       "unit                             0\n",
       "year_built                     455\n",
       "zip_code                       146\n",
       "dtype: int64"
      ]
     },
     "execution_count": 30,
     "metadata": {},
     "output_type": "execute_result"
    }
   ],
   "source": [
    "prop_clean.isna().sum()"
   ]
  },
  {
   "cell_type": "markdown",
   "id": "e9aa5d8a",
   "metadata": {},
   "source": [
    "As discussed earlier, missing values for number of bedrooms, bathrooms, and stories in the OPA property dataset are a result of circumstance and online availability. The unavailability of these variables seems to follow a pattern with the category code description. Single family and multifamily homes are more likely to have counts of bedrooms and bathrooms than other non-residential building types. Simiarly, commercial, industrial, and mixed use properties tend to have missing values for number of stories. This is most likely because online real estate marketplaces like Zillow advertise or estimate the number of bedrooms, bathrooms, and bathrooms for residential properties. Therefore, we suspect that the missingness of these variables is random, but not completely random. "
   ]
  },
  {
   "cell_type": "code",
   "execution_count": 31,
   "id": "0c2a9d4e",
   "metadata": {},
   "outputs": [
    {
     "data": {
      "text/html": [
       "<div>\n",
       "<style scoped>\n",
       "    .dataframe tbody tr th:only-of-type {\n",
       "        vertical-align: middle;\n",
       "    }\n",
       "\n",
       "    .dataframe tbody tr th {\n",
       "        vertical-align: top;\n",
       "    }\n",
       "\n",
       "    .dataframe thead tr th {\n",
       "        text-align: left;\n",
       "    }\n",
       "\n",
       "    .dataframe thead tr:last-of-type th {\n",
       "        text-align: right;\n",
       "    }\n",
       "</style>\n",
       "<table border=\"1\" class=\"dataframe\">\n",
       "  <thead>\n",
       "    <tr>\n",
       "      <th></th>\n",
       "      <th>parcel_number</th>\n",
       "      <th>number_of_bedrooms</th>\n",
       "      <th>number_of_bathrooms</th>\n",
       "      <th>number_stories</th>\n",
       "    </tr>\n",
       "    <tr>\n",
       "      <th></th>\n",
       "      <th>count</th>\n",
       "      <th>count</th>\n",
       "      <th>count</th>\n",
       "      <th>count</th>\n",
       "    </tr>\n",
       "    <tr>\n",
       "      <th>category_code_description</th>\n",
       "      <th></th>\n",
       "      <th></th>\n",
       "      <th></th>\n",
       "      <th></th>\n",
       "    </tr>\n",
       "  </thead>\n",
       "  <tbody>\n",
       "    <tr>\n",
       "      <th>APARTMENTS  &gt; 4 UNITS</th>\n",
       "      <td>3476</td>\n",
       "      <td>96</td>\n",
       "      <td>85</td>\n",
       "      <td>3235</td>\n",
       "    </tr>\n",
       "    <tr>\n",
       "      <th>COMMERCIAL</th>\n",
       "      <td>12665</td>\n",
       "      <td>29</td>\n",
       "      <td>25</td>\n",
       "      <td>303</td>\n",
       "    </tr>\n",
       "    <tr>\n",
       "      <th>GARAGE - COMMERCIAL</th>\n",
       "      <td>108</td>\n",
       "      <td>25</td>\n",
       "      <td>27</td>\n",
       "      <td>63</td>\n",
       "    </tr>\n",
       "    <tr>\n",
       "      <th>GARAGE - RESIDENTIAL</th>\n",
       "      <td>584</td>\n",
       "      <td>514</td>\n",
       "      <td>514</td>\n",
       "      <td>547</td>\n",
       "    </tr>\n",
       "    <tr>\n",
       "      <th>HOTEL</th>\n",
       "      <td>127</td>\n",
       "      <td>1</td>\n",
       "      <td>0</td>\n",
       "      <td>110</td>\n",
       "    </tr>\n",
       "    <tr>\n",
       "      <th>INDUSTRIAL</th>\n",
       "      <td>4082</td>\n",
       "      <td>4</td>\n",
       "      <td>4</td>\n",
       "      <td>589</td>\n",
       "    </tr>\n",
       "    <tr>\n",
       "      <th>MIXED USE</th>\n",
       "      <td>14274</td>\n",
       "      <td>206</td>\n",
       "      <td>187</td>\n",
       "      <td>1152</td>\n",
       "    </tr>\n",
       "    <tr>\n",
       "      <th>MULTI FAMILY</th>\n",
       "      <td>41141</td>\n",
       "      <td>38354</td>\n",
       "      <td>37735</td>\n",
       "      <td>40755</td>\n",
       "    </tr>\n",
       "    <tr>\n",
       "      <th>OFFICES</th>\n",
       "      <td>863</td>\n",
       "      <td>3</td>\n",
       "      <td>3</td>\n",
       "      <td>720</td>\n",
       "    </tr>\n",
       "    <tr>\n",
       "      <th>RETAIL</th>\n",
       "      <td>29</td>\n",
       "      <td>2</td>\n",
       "      <td>2</td>\n",
       "      <td>12</td>\n",
       "    </tr>\n",
       "    <tr>\n",
       "      <th>SINGLE FAMILY</th>\n",
       "      <td>463587</td>\n",
       "      <td>463102</td>\n",
       "      <td>458978</td>\n",
       "      <td>463363</td>\n",
       "    </tr>\n",
       "    <tr>\n",
       "      <th>SPECIAL PURPOSE</th>\n",
       "      <td>35</td>\n",
       "      <td>11</td>\n",
       "      <td>11</td>\n",
       "      <td>18</td>\n",
       "    </tr>\n",
       "    <tr>\n",
       "      <th>VACANT LAND</th>\n",
       "      <td>41894</td>\n",
       "      <td>41894</td>\n",
       "      <td>41894</td>\n",
       "      <td>41894</td>\n",
       "    </tr>\n",
       "    <tr>\n",
       "      <th>VACANT LAND - NON-RESIDENTIAL</th>\n",
       "      <td>131</td>\n",
       "      <td>131</td>\n",
       "      <td>131</td>\n",
       "      <td>131</td>\n",
       "    </tr>\n",
       "    <tr>\n",
       "      <th>VACANT LAND - RESIDENTIAL</th>\n",
       "      <td>1090</td>\n",
       "      <td>1090</td>\n",
       "      <td>1090</td>\n",
       "      <td>1090</td>\n",
       "    </tr>\n",
       "  </tbody>\n",
       "</table>\n",
       "</div>"
      ],
      "text/plain": [
       "                              parcel_number number_of_bedrooms  \\\n",
       "                                      count              count   \n",
       "category_code_description                                        \n",
       "APARTMENTS  > 4 UNITS                  3476                 96   \n",
       "COMMERCIAL                            12665                 29   \n",
       "GARAGE - COMMERCIAL                     108                 25   \n",
       "GARAGE - RESIDENTIAL                    584                514   \n",
       "HOTEL                                   127                  1   \n",
       "INDUSTRIAL                             4082                  4   \n",
       "MIXED USE                             14274                206   \n",
       "MULTI FAMILY                          41141              38354   \n",
       "OFFICES                                 863                  3   \n",
       "RETAIL                                   29                  2   \n",
       "SINGLE FAMILY                        463587             463102   \n",
       "SPECIAL PURPOSE                          35                 11   \n",
       "VACANT LAND                           41894              41894   \n",
       "VACANT LAND - NON-RESIDENTIAL           131                131   \n",
       "VACANT LAND - RESIDENTIAL              1090               1090   \n",
       "\n",
       "                              number_of_bathrooms number_stories  \n",
       "                                            count          count  \n",
       "category_code_description                                         \n",
       "APARTMENTS  > 4 UNITS                          85           3235  \n",
       "COMMERCIAL                                     25            303  \n",
       "GARAGE - COMMERCIAL                            27             63  \n",
       "GARAGE - RESIDENTIAL                          514            547  \n",
       "HOTEL                                           0            110  \n",
       "INDUSTRIAL                                      4            589  \n",
       "MIXED USE                                     187           1152  \n",
       "MULTI FAMILY                                37735          40755  \n",
       "OFFICES                                         3            720  \n",
       "RETAIL                                          2             12  \n",
       "SINGLE FAMILY                              458978         463363  \n",
       "SPECIAL PURPOSE                                11             18  \n",
       "VACANT LAND                                 41894          41894  \n",
       "VACANT LAND - NON-RESIDENTIAL                 131            131  \n",
       "VACANT LAND - RESIDENTIAL                    1090           1090  "
      ]
     },
     "execution_count": 31,
     "metadata": {},
     "output_type": "execute_result"
    }
   ],
   "source": [
    "# counts by category code description\n",
    "prop_clean[['parcel_number','number_of_bedrooms','number_of_bathrooms','number_stories']].groupby(prop_clean.category_code_description).agg(['count']) "
   ]
  },
  {
   "cell_type": "code",
   "execution_count": 32,
   "id": "88b5de46",
   "metadata": {},
   "outputs": [
    {
     "data": {
      "text/html": [
       "<div>\n",
       "<style scoped>\n",
       "    .dataframe tbody tr th:only-of-type {\n",
       "        vertical-align: middle;\n",
       "    }\n",
       "\n",
       "    .dataframe tbody tr th {\n",
       "        vertical-align: top;\n",
       "    }\n",
       "\n",
       "    .dataframe thead tr th {\n",
       "        text-align: left;\n",
       "    }\n",
       "\n",
       "    .dataframe thead tr:last-of-type th {\n",
       "        text-align: right;\n",
       "    }\n",
       "</style>\n",
       "<table border=\"1\" class=\"dataframe\">\n",
       "  <thead>\n",
       "    <tr>\n",
       "      <th></th>\n",
       "      <th colspan=\"4\" halign=\"left\">number_of_bedrooms</th>\n",
       "    </tr>\n",
       "    <tr>\n",
       "      <th></th>\n",
       "      <th>count</th>\n",
       "      <th>mean</th>\n",
       "      <th>median</th>\n",
       "      <th>mode</th>\n",
       "    </tr>\n",
       "    <tr>\n",
       "      <th>category_code_description</th>\n",
       "      <th></th>\n",
       "      <th></th>\n",
       "      <th></th>\n",
       "      <th></th>\n",
       "    </tr>\n",
       "  </thead>\n",
       "  <tbody>\n",
       "    <tr>\n",
       "      <th>APARTMENTS  &gt; 4 UNITS</th>\n",
       "      <td>96</td>\n",
       "      <td>3.9375</td>\n",
       "      <td>3.0</td>\n",
       "      <td>0</td>\n",
       "    </tr>\n",
       "    <tr>\n",
       "      <th>COMMERCIAL</th>\n",
       "      <td>29</td>\n",
       "      <td>0.827586</td>\n",
       "      <td>0.0</td>\n",
       "      <td>0</td>\n",
       "    </tr>\n",
       "    <tr>\n",
       "      <th>GARAGE - COMMERCIAL</th>\n",
       "      <td>25</td>\n",
       "      <td>0.64</td>\n",
       "      <td>0.0</td>\n",
       "      <td>0</td>\n",
       "    </tr>\n",
       "    <tr>\n",
       "      <th>GARAGE - RESIDENTIAL</th>\n",
       "      <td>514</td>\n",
       "      <td>0.031128</td>\n",
       "      <td>0.0</td>\n",
       "      <td>0</td>\n",
       "    </tr>\n",
       "    <tr>\n",
       "      <th>HOTEL</th>\n",
       "      <td>1</td>\n",
       "      <td>8.0</td>\n",
       "      <td>8.0</td>\n",
       "      <td>8</td>\n",
       "    </tr>\n",
       "    <tr>\n",
       "      <th>INDUSTRIAL</th>\n",
       "      <td>4</td>\n",
       "      <td>0.75</td>\n",
       "      <td>0.0</td>\n",
       "      <td>0</td>\n",
       "    </tr>\n",
       "    <tr>\n",
       "      <th>MIXED USE</th>\n",
       "      <td>206</td>\n",
       "      <td>2.271845</td>\n",
       "      <td>3.0</td>\n",
       "      <td>0</td>\n",
       "    </tr>\n",
       "    <tr>\n",
       "      <th>MULTI FAMILY</th>\n",
       "      <td>38354</td>\n",
       "      <td>1.857329</td>\n",
       "      <td>0.0</td>\n",
       "      <td>0</td>\n",
       "    </tr>\n",
       "    <tr>\n",
       "      <th>OFFICES</th>\n",
       "      <td>3</td>\n",
       "      <td>0.0</td>\n",
       "      <td>0.0</td>\n",
       "      <td>0</td>\n",
       "    </tr>\n",
       "    <tr>\n",
       "      <th>RETAIL</th>\n",
       "      <td>2</td>\n",
       "      <td>1.0</td>\n",
       "      <td>1.0</td>\n",
       "      <td>[0, 2]</td>\n",
       "    </tr>\n",
       "    <tr>\n",
       "      <th>SINGLE FAMILY</th>\n",
       "      <td>463102</td>\n",
       "      <td>2.48916</td>\n",
       "      <td>3.0</td>\n",
       "      <td>3</td>\n",
       "    </tr>\n",
       "    <tr>\n",
       "      <th>SPECIAL PURPOSE</th>\n",
       "      <td>11</td>\n",
       "      <td>1.0</td>\n",
       "      <td>0.0</td>\n",
       "      <td>0</td>\n",
       "    </tr>\n",
       "    <tr>\n",
       "      <th>VACANT LAND</th>\n",
       "      <td>41894</td>\n",
       "      <td>0.006445</td>\n",
       "      <td>0.0</td>\n",
       "      <td>0</td>\n",
       "    </tr>\n",
       "    <tr>\n",
       "      <th>VACANT LAND - NON-RESIDENTIAL</th>\n",
       "      <td>131</td>\n",
       "      <td>0.0</td>\n",
       "      <td>0.0</td>\n",
       "      <td>0</td>\n",
       "    </tr>\n",
       "    <tr>\n",
       "      <th>VACANT LAND - RESIDENTIAL</th>\n",
       "      <td>1090</td>\n",
       "      <td>0.022936</td>\n",
       "      <td>0.0</td>\n",
       "      <td>0</td>\n",
       "    </tr>\n",
       "  </tbody>\n",
       "</table>\n",
       "</div>"
      ],
      "text/plain": [
       "                              number_of_bedrooms                         \n",
       "                                           count      mean median    mode\n",
       "category_code_description                                                \n",
       "APARTMENTS  > 4 UNITS                         96    3.9375    3.0       0\n",
       "COMMERCIAL                                    29  0.827586    0.0       0\n",
       "GARAGE - COMMERCIAL                           25      0.64    0.0       0\n",
       "GARAGE - RESIDENTIAL                         514  0.031128    0.0       0\n",
       "HOTEL                                          1       8.0    8.0       8\n",
       "INDUSTRIAL                                     4      0.75    0.0       0\n",
       "MIXED USE                                    206  2.271845    3.0       0\n",
       "MULTI FAMILY                               38354  1.857329    0.0       0\n",
       "OFFICES                                        3       0.0    0.0       0\n",
       "RETAIL                                         2       1.0    1.0  [0, 2]\n",
       "SINGLE FAMILY                             463102   2.48916    3.0       3\n",
       "SPECIAL PURPOSE                               11       1.0    0.0       0\n",
       "VACANT LAND                                41894  0.006445    0.0       0\n",
       "VACANT LAND - NON-RESIDENTIAL                131       0.0    0.0       0\n",
       "VACANT LAND - RESIDENTIAL                   1090  0.022936    0.0       0"
      ]
     },
     "execution_count": 32,
     "metadata": {},
     "output_type": "execute_result"
    }
   ],
   "source": [
    "# count, mean, and mode for number of bedrooms by building category\n",
    "prop_clean[['number_of_bedrooms']].groupby(prop_clean.category_code_description).agg(['count','mean', 'median', pd.Series.mode]) "
   ]
  },
  {
   "cell_type": "code",
   "execution_count": 33,
   "id": "81c0f8e6",
   "metadata": {},
   "outputs": [
    {
     "data": {
      "text/html": [
       "<div>\n",
       "<style scoped>\n",
       "    .dataframe tbody tr th:only-of-type {\n",
       "        vertical-align: middle;\n",
       "    }\n",
       "\n",
       "    .dataframe tbody tr th {\n",
       "        vertical-align: top;\n",
       "    }\n",
       "\n",
       "    .dataframe thead tr th {\n",
       "        text-align: left;\n",
       "    }\n",
       "\n",
       "    .dataframe thead tr:last-of-type th {\n",
       "        text-align: right;\n",
       "    }\n",
       "</style>\n",
       "<table border=\"1\" class=\"dataframe\">\n",
       "  <thead>\n",
       "    <tr>\n",
       "      <th></th>\n",
       "      <th colspan=\"4\" halign=\"left\">number_of_bathrooms</th>\n",
       "    </tr>\n",
       "    <tr>\n",
       "      <th></th>\n",
       "      <th>count</th>\n",
       "      <th>mean</th>\n",
       "      <th>median</th>\n",
       "      <th>mode</th>\n",
       "    </tr>\n",
       "    <tr>\n",
       "      <th>category_code_description</th>\n",
       "      <th></th>\n",
       "      <th></th>\n",
       "      <th></th>\n",
       "      <th></th>\n",
       "    </tr>\n",
       "  </thead>\n",
       "  <tbody>\n",
       "    <tr>\n",
       "      <th>APARTMENTS  &gt; 4 UNITS</th>\n",
       "      <td>85</td>\n",
       "      <td>2.317647</td>\n",
       "      <td>0.0</td>\n",
       "      <td>0</td>\n",
       "    </tr>\n",
       "    <tr>\n",
       "      <th>COMMERCIAL</th>\n",
       "      <td>25</td>\n",
       "      <td>0.32</td>\n",
       "      <td>0.0</td>\n",
       "      <td>0</td>\n",
       "    </tr>\n",
       "    <tr>\n",
       "      <th>GARAGE - COMMERCIAL</th>\n",
       "      <td>27</td>\n",
       "      <td>0.259259</td>\n",
       "      <td>0.0</td>\n",
       "      <td>0</td>\n",
       "    </tr>\n",
       "    <tr>\n",
       "      <th>GARAGE - RESIDENTIAL</th>\n",
       "      <td>514</td>\n",
       "      <td>0.013619</td>\n",
       "      <td>0.0</td>\n",
       "      <td>0</td>\n",
       "    </tr>\n",
       "    <tr>\n",
       "      <th>HOTEL</th>\n",
       "      <td>0</td>\n",
       "      <td>&lt;NA&gt;</td>\n",
       "      <td>&lt;NA&gt;</td>\n",
       "      <td>[]</td>\n",
       "    </tr>\n",
       "    <tr>\n",
       "      <th>INDUSTRIAL</th>\n",
       "      <td>4</td>\n",
       "      <td>0.25</td>\n",
       "      <td>0.0</td>\n",
       "      <td>0</td>\n",
       "    </tr>\n",
       "    <tr>\n",
       "      <th>MIXED USE</th>\n",
       "      <td>187</td>\n",
       "      <td>1.149733</td>\n",
       "      <td>1.0</td>\n",
       "      <td>0</td>\n",
       "    </tr>\n",
       "    <tr>\n",
       "      <th>MULTI FAMILY</th>\n",
       "      <td>37735</td>\n",
       "      <td>1.001034</td>\n",
       "      <td>0.0</td>\n",
       "      <td>0</td>\n",
       "    </tr>\n",
       "    <tr>\n",
       "      <th>OFFICES</th>\n",
       "      <td>3</td>\n",
       "      <td>0.0</td>\n",
       "      <td>0.0</td>\n",
       "      <td>0</td>\n",
       "    </tr>\n",
       "    <tr>\n",
       "      <th>RETAIL</th>\n",
       "      <td>2</td>\n",
       "      <td>0.5</td>\n",
       "      <td>0.5</td>\n",
       "      <td>[0, 1]</td>\n",
       "    </tr>\n",
       "    <tr>\n",
       "      <th>SINGLE FAMILY</th>\n",
       "      <td>458978</td>\n",
       "      <td>0.982903</td>\n",
       "      <td>1.0</td>\n",
       "      <td>1</td>\n",
       "    </tr>\n",
       "    <tr>\n",
       "      <th>SPECIAL PURPOSE</th>\n",
       "      <td>11</td>\n",
       "      <td>0.454545</td>\n",
       "      <td>0.0</td>\n",
       "      <td>0</td>\n",
       "    </tr>\n",
       "    <tr>\n",
       "      <th>VACANT LAND</th>\n",
       "      <td>41894</td>\n",
       "      <td>0.00265</td>\n",
       "      <td>0.0</td>\n",
       "      <td>0</td>\n",
       "    </tr>\n",
       "    <tr>\n",
       "      <th>VACANT LAND - NON-RESIDENTIAL</th>\n",
       "      <td>131</td>\n",
       "      <td>0.0</td>\n",
       "      <td>0.0</td>\n",
       "      <td>0</td>\n",
       "    </tr>\n",
       "    <tr>\n",
       "      <th>VACANT LAND - RESIDENTIAL</th>\n",
       "      <td>1090</td>\n",
       "      <td>0.006422</td>\n",
       "      <td>0.0</td>\n",
       "      <td>0</td>\n",
       "    </tr>\n",
       "  </tbody>\n",
       "</table>\n",
       "</div>"
      ],
      "text/plain": [
       "                              number_of_bathrooms                         \n",
       "                                            count      mean median    mode\n",
       "category_code_description                                                 \n",
       "APARTMENTS  > 4 UNITS                          85  2.317647    0.0       0\n",
       "COMMERCIAL                                     25      0.32    0.0       0\n",
       "GARAGE - COMMERCIAL                            27  0.259259    0.0       0\n",
       "GARAGE - RESIDENTIAL                          514  0.013619    0.0       0\n",
       "HOTEL                                           0      <NA>   <NA>      []\n",
       "INDUSTRIAL                                      4      0.25    0.0       0\n",
       "MIXED USE                                     187  1.149733    1.0       0\n",
       "MULTI FAMILY                                37735  1.001034    0.0       0\n",
       "OFFICES                                         3       0.0    0.0       0\n",
       "RETAIL                                          2       0.5    0.5  [0, 1]\n",
       "SINGLE FAMILY                              458978  0.982903    1.0       1\n",
       "SPECIAL PURPOSE                                11  0.454545    0.0       0\n",
       "VACANT LAND                                 41894   0.00265    0.0       0\n",
       "VACANT LAND - NON-RESIDENTIAL                 131       0.0    0.0       0\n",
       "VACANT LAND - RESIDENTIAL                    1090  0.006422    0.0       0"
      ]
     },
     "execution_count": 33,
     "metadata": {},
     "output_type": "execute_result"
    }
   ],
   "source": [
    "# count, mean, and mode for number of bathrooms by building category\n",
    "prop_clean[['number_of_bathrooms']].groupby(prop_clean.category_code_description).agg(['count','mean', 'median', pd.Series.mode]) "
   ]
  },
  {
   "cell_type": "code",
   "execution_count": 34,
   "id": "75f33c92",
   "metadata": {},
   "outputs": [
    {
     "data": {
      "text/html": [
       "<div>\n",
       "<style scoped>\n",
       "    .dataframe tbody tr th:only-of-type {\n",
       "        vertical-align: middle;\n",
       "    }\n",
       "\n",
       "    .dataframe tbody tr th {\n",
       "        vertical-align: top;\n",
       "    }\n",
       "\n",
       "    .dataframe thead tr th {\n",
       "        text-align: left;\n",
       "    }\n",
       "\n",
       "    .dataframe thead tr:last-of-type th {\n",
       "        text-align: right;\n",
       "    }\n",
       "</style>\n",
       "<table border=\"1\" class=\"dataframe\">\n",
       "  <thead>\n",
       "    <tr>\n",
       "      <th></th>\n",
       "      <th colspan=\"4\" halign=\"left\">number_stories</th>\n",
       "    </tr>\n",
       "    <tr>\n",
       "      <th></th>\n",
       "      <th>count</th>\n",
       "      <th>mean</th>\n",
       "      <th>median</th>\n",
       "      <th>mode</th>\n",
       "    </tr>\n",
       "    <tr>\n",
       "      <th>category_code_description</th>\n",
       "      <th></th>\n",
       "      <th></th>\n",
       "      <th></th>\n",
       "      <th></th>\n",
       "    </tr>\n",
       "  </thead>\n",
       "  <tbody>\n",
       "    <tr>\n",
       "      <th>APARTMENTS  &gt; 4 UNITS</th>\n",
       "      <td>3235</td>\n",
       "      <td>3.868006</td>\n",
       "      <td>3.0</td>\n",
       "      <td>3</td>\n",
       "    </tr>\n",
       "    <tr>\n",
       "      <th>COMMERCIAL</th>\n",
       "      <td>303</td>\n",
       "      <td>2.09901</td>\n",
       "      <td>2.0</td>\n",
       "      <td>1</td>\n",
       "    </tr>\n",
       "    <tr>\n",
       "      <th>GARAGE - COMMERCIAL</th>\n",
       "      <td>63</td>\n",
       "      <td>2.761905</td>\n",
       "      <td>1.0</td>\n",
       "      <td>1</td>\n",
       "    </tr>\n",
       "    <tr>\n",
       "      <th>GARAGE - RESIDENTIAL</th>\n",
       "      <td>547</td>\n",
       "      <td>1.023766</td>\n",
       "      <td>1.0</td>\n",
       "      <td>1</td>\n",
       "    </tr>\n",
       "    <tr>\n",
       "      <th>HOTEL</th>\n",
       "      <td>110</td>\n",
       "      <td>8.672727</td>\n",
       "      <td>5.0</td>\n",
       "      <td>4</td>\n",
       "    </tr>\n",
       "    <tr>\n",
       "      <th>INDUSTRIAL</th>\n",
       "      <td>589</td>\n",
       "      <td>1.612903</td>\n",
       "      <td>1.0</td>\n",
       "      <td>1</td>\n",
       "    </tr>\n",
       "    <tr>\n",
       "      <th>MIXED USE</th>\n",
       "      <td>1152</td>\n",
       "      <td>2.583333</td>\n",
       "      <td>3.0</td>\n",
       "      <td>3</td>\n",
       "    </tr>\n",
       "    <tr>\n",
       "      <th>MULTI FAMILY</th>\n",
       "      <td>40755</td>\n",
       "      <td>2.375537</td>\n",
       "      <td>2.0</td>\n",
       "      <td>2</td>\n",
       "    </tr>\n",
       "    <tr>\n",
       "      <th>OFFICES</th>\n",
       "      <td>720</td>\n",
       "      <td>4.770833</td>\n",
       "      <td>3.0</td>\n",
       "      <td>1</td>\n",
       "    </tr>\n",
       "    <tr>\n",
       "      <th>RETAIL</th>\n",
       "      <td>12</td>\n",
       "      <td>1.75</td>\n",
       "      <td>1.5</td>\n",
       "      <td>1</td>\n",
       "    </tr>\n",
       "    <tr>\n",
       "      <th>SINGLE FAMILY</th>\n",
       "      <td>463363</td>\n",
       "      <td>1.914288</td>\n",
       "      <td>2.0</td>\n",
       "      <td>2</td>\n",
       "    </tr>\n",
       "    <tr>\n",
       "      <th>SPECIAL PURPOSE</th>\n",
       "      <td>18</td>\n",
       "      <td>2.111111</td>\n",
       "      <td>2.0</td>\n",
       "      <td>2</td>\n",
       "    </tr>\n",
       "    <tr>\n",
       "      <th>VACANT LAND</th>\n",
       "      <td>41894</td>\n",
       "      <td>0.006254</td>\n",
       "      <td>0.0</td>\n",
       "      <td>0</td>\n",
       "    </tr>\n",
       "    <tr>\n",
       "      <th>VACANT LAND - NON-RESIDENTIAL</th>\n",
       "      <td>131</td>\n",
       "      <td>0.0</td>\n",
       "      <td>0.0</td>\n",
       "      <td>0</td>\n",
       "    </tr>\n",
       "    <tr>\n",
       "      <th>VACANT LAND - RESIDENTIAL</th>\n",
       "      <td>1090</td>\n",
       "      <td>0.113761</td>\n",
       "      <td>0.0</td>\n",
       "      <td>0</td>\n",
       "    </tr>\n",
       "  </tbody>\n",
       "</table>\n",
       "</div>"
      ],
      "text/plain": [
       "                              number_stories                      \n",
       "                                       count      mean median mode\n",
       "category_code_description                                         \n",
       "APARTMENTS  > 4 UNITS                   3235  3.868006    3.0    3\n",
       "COMMERCIAL                               303   2.09901    2.0    1\n",
       "GARAGE - COMMERCIAL                       63  2.761905    1.0    1\n",
       "GARAGE - RESIDENTIAL                     547  1.023766    1.0    1\n",
       "HOTEL                                    110  8.672727    5.0    4\n",
       "INDUSTRIAL                               589  1.612903    1.0    1\n",
       "MIXED USE                               1152  2.583333    3.0    3\n",
       "MULTI FAMILY                           40755  2.375537    2.0    2\n",
       "OFFICES                                  720  4.770833    3.0    1\n",
       "RETAIL                                    12      1.75    1.5    1\n",
       "SINGLE FAMILY                         463363  1.914288    2.0    2\n",
       "SPECIAL PURPOSE                           18  2.111111    2.0    2\n",
       "VACANT LAND                            41894  0.006254    0.0    0\n",
       "VACANT LAND - NON-RESIDENTIAL            131       0.0    0.0    0\n",
       "VACANT LAND - RESIDENTIAL               1090  0.113761    0.0    0"
      ]
     },
     "execution_count": 34,
     "metadata": {},
     "output_type": "execute_result"
    }
   ],
   "source": [
    "# count, mean, and mode for number of stories by building category\n",
    "prop_clean[['number_stories']].groupby(prop_clean.category_code_description).agg(['count','mean', 'median', pd.Series.mode]) "
   ]
  },
  {
   "cell_type": "markdown",
   "id": "77c1a714",
   "metadata": {},
   "source": [
    "## Impute or drop missing values in the property dataset"
   ]
  },
  {
   "cell_type": "markdown",
   "id": "c5c632b5",
   "metadata": {},
   "source": [
    "We will impute the missing values of number of bedrooms, bathrooms, and stories with a stratified imputation. Based on subject matter knowledge, we will round the number of bedrooms down, the number of bathrooms up, and the number of stories to the closest digit to have interger counts."
   ]
  },
  {
   "cell_type": "code",
   "execution_count": 35,
   "id": "32b482db",
   "metadata": {},
   "outputs": [],
   "source": [
    "prop_clean.number_of_bedrooms = prop_clean.groupby('category_code_description')['number_of_bedrooms'].transform(lambda x: x.fillna(value= math.floor(x.mean())))"
   ]
  },
  {
   "cell_type": "code",
   "execution_count": 36,
   "id": "6f7bbda7",
   "metadata": {},
   "outputs": [],
   "source": [
    "prop_clean.number_of_bathrooms = prop_clean.groupby('category_code_description')['number_of_bathrooms'].transform(lambda x: x.fillna(math.ceil(x.mean())) if not pd.isna(x.mean()) else x)"
   ]
  },
  {
   "cell_type": "code",
   "execution_count": 37,
   "id": "e943d4e5",
   "metadata": {},
   "outputs": [],
   "source": [
    "prop_clean.number_stories = prop_clean.groupby('category_code_description')['number_stories'].transform(lambda x: x.fillna(value= round(x.mean())))"
   ]
  },
  {
   "cell_type": "code",
   "execution_count": 38,
   "id": "0eb217d6",
   "metadata": {},
   "outputs": [
    {
     "data": {
      "text/plain": [
       "parcel_number                   0\n",
       "category_code_description      17\n",
       "exterior_condition            804\n",
       "interior_condition            824\n",
       "homestead_exemption             0\n",
       "mailing_zip                  2513\n",
       "number_of_bathrooms           144\n",
       "number_of_bedrooms             17\n",
       "number_stories                 17\n",
       "sale_date                    2725\n",
       "sale_price                   2750\n",
       "total_area                    726\n",
       "total_livable_area            458\n",
       "unit                            0\n",
       "year_built                    455\n",
       "zip_code                      146\n",
       "dtype: int64"
      ]
     },
     "execution_count": 38,
     "metadata": {},
     "output_type": "execute_result"
    }
   ],
   "source": [
    "prop_clean.isna().sum()"
   ]
  },
  {
   "cell_type": "code",
   "execution_count": 39,
   "id": "4eff6a38",
   "metadata": {},
   "outputs": [
    {
     "data": {
      "text/plain": [
       "6365"
      ]
     },
     "execution_count": 39,
     "metadata": {},
     "output_type": "execute_result"
    }
   ],
   "source": [
    "# count the number of records that would be dropped if any records with missing values were dropped\n",
    "len(prop_clean[prop_clean.isna().any(axis = 'columns')])"
   ]
  },
  {
   "cell_type": "markdown",
   "id": "fad59e77",
   "metadata": {},
   "source": [
    "We will drop the rest of the records with missing values since missingness in the property dataset is a random or completely random and less then 5% of the records would be dropped."
   ]
  },
  {
   "cell_type": "code",
   "execution_count": 40,
   "id": "429f1e14",
   "metadata": {},
   "outputs": [],
   "source": [
    "# drop missing records\n",
    "prop_clean.dropna(inplace=True)"
   ]
  },
  {
   "cell_type": "code",
   "execution_count": 45,
   "id": "e3858bcc",
   "metadata": {},
   "outputs": [
    {
     "data": {
      "text/plain": [
       "parcel_number                0\n",
       "category_code_description    0\n",
       "exterior_condition           0\n",
       "interior_condition           0\n",
       "homestead_exemption          0\n",
       "mailing_zip                  0\n",
       "number_of_bathrooms          0\n",
       "number_of_bedrooms           0\n",
       "number_stories               0\n",
       "sale_date                    0\n",
       "sale_price                   0\n",
       "total_area                   0\n",
       "total_livable_area           0\n",
       "unit                         0\n",
       "year_built                   0\n",
       "zip_code                     0\n",
       "dtype: int64"
      ]
     },
     "execution_count": 45,
     "metadata": {},
     "output_type": "execute_result"
    }
   ],
   "source": [
    "# check missing values\n",
    "prop_clean.isna().sum()"
   ]
  },
  {
   "cell_type": "markdown",
   "id": "ecb7a74c",
   "metadata": {},
   "source": [
    "## Check for missing values in the property assessment and Real Estate Delinquency datasets"
   ]
  },
  {
   "cell_type": "code",
   "execution_count": 57,
   "id": "c879b0e7",
   "metadata": {},
   "outputs": [
    {
     "data": {
      "text/plain": [
       "parcel_number       0\n",
       "year                0\n",
       "market_value        0\n",
       "taxable_land        1\n",
       "taxable_building    3\n",
       "exempt_land         0\n",
       "exempt_building     0\n",
       "taxable             4\n",
       "exempt              0\n",
       "taxable_1yr         5\n",
       "exempt_1yr          0\n",
       "taxable_3yr         2\n",
       "exempt_3yr          0\n",
       "taxable_5yr         1\n",
       "exempt_5yr          0\n",
       "dtype: int64"
      ]
     },
     "execution_count": 57,
     "metadata": {},
     "output_type": "execute_result"
    }
   ],
   "source": [
    "assess_clean.isna().sum()"
   ]
  },
  {
   "cell_type": "code",
   "execution_count": 58,
   "id": "23a6b33a",
   "metadata": {},
   "outputs": [
    {
     "data": {
      "text/html": [
       "<div>\n",
       "<style scoped>\n",
       "    .dataframe tbody tr th:only-of-type {\n",
       "        vertical-align: middle;\n",
       "    }\n",
       "\n",
       "    .dataframe tbody tr th {\n",
       "        vertical-align: top;\n",
       "    }\n",
       "\n",
       "    .dataframe thead th {\n",
       "        text-align: right;\n",
       "    }\n",
       "</style>\n",
       "<table border=\"1\" class=\"dataframe\">\n",
       "  <thead>\n",
       "    <tr style=\"text-align: right;\">\n",
       "      <th></th>\n",
       "      <th>parcel_number</th>\n",
       "      <th>year</th>\n",
       "      <th>market_value</th>\n",
       "      <th>taxable_land</th>\n",
       "      <th>taxable_building</th>\n",
       "      <th>exempt_land</th>\n",
       "      <th>exempt_building</th>\n",
       "      <th>taxable</th>\n",
       "      <th>exempt</th>\n",
       "      <th>taxable_1yr</th>\n",
       "      <th>exempt_1yr</th>\n",
       "      <th>taxable_3yr</th>\n",
       "      <th>exempt_3yr</th>\n",
       "      <th>taxable_5yr</th>\n",
       "      <th>exempt_5yr</th>\n",
       "    </tr>\n",
       "  </thead>\n",
       "  <tbody>\n",
       "    <tr>\n",
       "      <th>1263613</th>\n",
       "      <td>191397500</td>\n",
       "      <td>2023</td>\n",
       "      <td>408000</td>\n",
       "      <td>89700.0</td>\n",
       "      <td>NaN</td>\n",
       "      <td>318300.0</td>\n",
       "      <td>0.0</td>\n",
       "      <td>NaN</td>\n",
       "      <td>318300.0</td>\n",
       "      <td>59800.0</td>\n",
       "      <td>0.0</td>\n",
       "      <td>59800.0</td>\n",
       "      <td>0.0</td>\n",
       "      <td>59800.0</td>\n",
       "      <td>0.0</td>\n",
       "    </tr>\n",
       "    <tr>\n",
       "      <th>1337472</th>\n",
       "      <td>302150100</td>\n",
       "      <td>2023</td>\n",
       "      <td>256000</td>\n",
       "      <td>61200.0</td>\n",
       "      <td>NaN</td>\n",
       "      <td>194800.0</td>\n",
       "      <td>0.0</td>\n",
       "      <td>NaN</td>\n",
       "      <td>194800.0</td>\n",
       "      <td>61200.0</td>\n",
       "      <td>194800.0</td>\n",
       "      <td>61200.0</td>\n",
       "      <td>194800.0</td>\n",
       "      <td>256000.0</td>\n",
       "      <td>0.0</td>\n",
       "    </tr>\n",
       "    <tr>\n",
       "      <th>1688473</th>\n",
       "      <td>885948280</td>\n",
       "      <td>2023</td>\n",
       "      <td>317500</td>\n",
       "      <td>317500.0</td>\n",
       "      <td>NaN</td>\n",
       "      <td>0.0</td>\n",
       "      <td>0.0</td>\n",
       "      <td>NaN</td>\n",
       "      <td>0.0</td>\n",
       "      <td>245300.0</td>\n",
       "      <td>0.0</td>\n",
       "      <td>204417.0</td>\n",
       "      <td>40883.0</td>\n",
       "      <td>0.0</td>\n",
       "      <td>108900.0</td>\n",
       "    </tr>\n",
       "  </tbody>\n",
       "</table>\n",
       "</div>"
      ],
      "text/plain": [
       "         parcel_number  year  market_value  taxable_land  taxable_building  \\\n",
       "1263613      191397500  2023        408000       89700.0               NaN   \n",
       "1337472      302150100  2023        256000       61200.0               NaN   \n",
       "1688473      885948280  2023        317500      317500.0               NaN   \n",
       "\n",
       "         exempt_land  exempt_building  taxable    exempt  taxable_1yr  \\\n",
       "1263613     318300.0              0.0      NaN  318300.0      59800.0   \n",
       "1337472     194800.0              0.0      NaN  194800.0      61200.0   \n",
       "1688473          0.0              0.0      NaN       0.0     245300.0   \n",
       "\n",
       "         exempt_1yr  taxable_3yr  exempt_3yr  taxable_5yr  exempt_5yr  \n",
       "1263613         0.0      59800.0         0.0      59800.0         0.0  \n",
       "1337472    194800.0      61200.0    194800.0     256000.0         0.0  \n",
       "1688473         0.0     204417.0     40883.0          0.0    108900.0  "
      ]
     },
     "execution_count": 58,
     "metadata": {},
     "output_type": "execute_result"
    }
   ],
   "source": [
    "assess_clean[assess_clean.taxable_building.isna()]"
   ]
  },
  {
   "cell_type": "markdown",
   "id": "023adfbe",
   "metadata": {},
   "source": [
    "The final assessment table is the result of inner joins, so we have all properties that have an assessment for the past 5 years. Missing values here seem to be the result of input error so we will drop those records."
   ]
  },
  {
   "cell_type": "code",
   "execution_count": 59,
   "id": "2ac94c56",
   "metadata": {},
   "outputs": [],
   "source": [
    "assess_clean.dropna(inplace=True)"
   ]
  },
  {
   "cell_type": "markdown",
   "id": "3442d9db",
   "metadata": {},
   "source": []
  },
  {
   "cell_type": "markdown",
   "id": "f38f3227",
   "metadata": {},
   "source": []
  },
  {
   "cell_type": "code",
   "execution_count": 39,
   "id": "3e5b5048",
   "metadata": {},
   "outputs": [],
   "source": [
    "def clean_assessments(df, year: int):\n",
    "    '''\n",
    "    Cleans the assessment dataframe by removing and renaming columns.\n",
    "\n",
    "    Args:\n",
    "        df (DataFrame): The dataframe to be cleaned.\n",
    "\n",
    "    Returns:\n",
    "        DataFrame: The cleaned dataframe.\n",
    "    '''\n",
    "    # Remove unnecessary columns\n",
    "    df_clean = df.loc[:,['parcel_number','market_value','taxable_land','taxable_building','exempt_land','exempt_building']].copy(deep=True)\n",
    "    \n",
    "    # Rename columns for clarity\n",
    "    df_clean.rename(columns={\n",
    "        'market_value':'market_value_' + str(year),\n",
    "        'taxable_land':'taxable_land_' + str(year),\n",
    "        'taxable_building':'taxable_building_' + str(year),\n",
    "        'exempt_land':'exempt_land_'  + str(year),\n",
    "        'exempt_building':'exempt_building_'  + str(year)\n",
    "    }, inplace=True)\n",
    "    \n",
    "    return df_clean\n",
    "\n",
    "\n",
    "assess_2025_clean = clean_assessments(assess_2025, 2025)\n",
    "assess_2024_clean = clean_assessments(assess_2024, 2024)    \n",
    "assess_2023_clean = clean_assessments(assess_2023, 2023)\n",
    "assess_2022_clean = clean_assessments(assess_2022, 2022)\n",
    "assess_2021_clean = clean_assessments(assess_2021, 2021)\n",
    "assess_2020_clean = clean_assessments(assess_2020, 2020)\n",
    "assess_2019_clean = clean_assessments(assess_2019, 2019)"
   ]
  },
  {
   "cell_type": "code",
   "execution_count": 40,
   "id": "8dd7022a",
   "metadata": {},
   "outputs": [],
   "source": [
    "# merge assessment df\n",
    "assess_clean = pd.merge(assess_2025_clean, assess_2024_clean, how='inner', on='parcel_number')\n",
    "assess_clean = pd.merge(assess_clean, assess_2023_clean, how='inner', on='parcel_number')\n",
    "assess_clean = pd.merge(assess_clean, assess_2022_clean, how='inner', on='parcel_number')\n",
    "assess_clean = pd.merge(assess_clean, assess_2021_clean, how='inner', on='parcel_number')\n",
    "assess_clean = pd.merge(assess_clean, assess_2020_clean, how='inner', on='parcel_number')\n",
    "assess_clean = pd.merge(assess_clean, assess_2019_clean, how='inner', on='parcel_number')"
   ]
  },
  {
   "cell_type": "code",
   "execution_count": null,
   "id": "5df1c2c3",
   "metadata": {},
   "outputs": [],
   "source": []
  },
  {
   "cell_type": "code",
   "execution_count": null,
   "id": "9161b82e",
   "metadata": {},
   "outputs": [
    {
     "data": {
      "text/plain": [
       "(574865, 36)"
      ]
     },
     "execution_count": 43,
     "metadata": {},
     "output_type": "execute_result"
    }
   ],
   "source": [
    "assess_clean['taxable_chg_1_yr'] = assess_clean['taxable_land_2025'] + assess_clean['taxable_building_2025'] - assess_clean['taxable_land_2024'] - assess_clean['taxable_land_2024']\n",
    "assess_clean['taxable_chg_2_yr'] = assess_clean['taxable_land_2025'] + assess_clean['taxable_building_2025'] - assess_clean['taxable_land_2023'] - assess_clean['taxable_land_2023']\n",
    "assess_clean['taxable_chg_3_yr'] = assess_clean['taxable_land_2025'] + assess_clean['taxable_building_2025'] - assess_clean['taxable_land_2022'] - assess_clean['taxable_land_2022']\n",
    "assess_clean['taxable_chg_4_yr'] = assess_clean['taxable_land_2025'] + assess_clean['taxable_building_2025'] - assess_clean['taxable_land_2021'] - assess_clean['taxable_land_2021']\n",
    "assess_clean['taxable_chg_5_yr'] = assess_clean['taxable_land_2025'] + assess_clean['taxable_building_2025'] - assess_clean['taxable_land_2020'] - assess_clean['taxable_land_2020']"
   ]
  },
  {
   "cell_type": "code",
   "execution_count": 9,
   "id": "5a6a7f4c",
   "metadata": {},
   "outputs": [],
   "source": [
    "# set max rows in pandas to 100 \n",
    "pd.set_option('display.max_rows', 100)"
   ]
  },
  {
   "cell_type": "markdown",
   "id": "df023c88",
   "metadata": {},
   "source": [
    "https://www.phila.gov/media/20240920162052/opa-tax-year-2025-mass-appraisal-valuation-methodology.pdf\n",
    "\n",
    "Inspections are limited to what can be seen from the curb. Interior inspections are done by owner\n",
    "invitation. This process helps OPA evaluators to collect data on characteristics of properties throughout\n",
    "the City. Other tools, such as permit information from the Department of Licenses + Inspections, aerial\n",
    "and street level photography, and private property listings that describe other characteristics are also\n",
    "used. \n",
    "\n",
    "parcel_number                     0\n",
    "category_code_description        17 \n",
    "exterior_condition            43556 -- impute mode\n",
    "interior_condition            43570 -- impute mode\n",
    "homestead_exemption               0 \n",
    "mailing_zip                    2513 \n",
    "number_of_bathrooms           86243 -- model\n",
    "number_of_bedrooms            81463 -- model\n",
    "number_stories                72963 -- model\n",
    "sale_date                      2723 -- check to see if these are old properties\n",
    "sale_price                     2750 -- ?\n",
    "total_area                      726 -- \n",
    "total_livable_area            43203 -- model \n",
    "unit                         542962\n",
    "year_built                    43200\n",
    "zip_code                        146"
   ]
  },
  {
   "cell_type": "code",
   "execution_count": 10,
   "id": "26ab3e82",
   "metadata": {},
   "outputs": [
    {
     "data": {
      "text/plain": [
       "parcel_number                     0\n",
       "category_code_description        17\n",
       "exterior_condition            43556\n",
       "interior_condition            43570\n",
       "homestead_exemption               0\n",
       "mailing_zip                    2513\n",
       "number_of_bathrooms           86243\n",
       "number_of_bedrooms            81463\n",
       "number_stories                72963\n",
       "sale_date                      2723\n",
       "sale_price                     2750\n",
       "total_area                      726\n",
       "total_livable_area            43203\n",
       "unit                         542962\n",
       "year_built                    43200\n",
       "zip_code                        146\n",
       "dtype: int64"
      ]
     },
     "execution_count": 10,
     "metadata": {},
     "output_type": "execute_result"
    }
   ],
   "source": [
    "prop_clean.isna().sum()"
   ]
  },
  {
   "cell_type": "code",
   "execution_count": null,
   "id": "bf7cb137",
   "metadata": {},
   "outputs": [],
   "source": [
    "# reformat the category_code_description column and create dummies\n",
    "prop_clean.category_code_description = prop_clean.category_code_description.apply(lambda x: None if x == None else x.split('-')[0].strip().replace(' ', '_').lower()) \n",
    "prop_clean = pd.get_dummies(prop_clean, columns=['category_code_description'], prefix= '', prefix_sep='')\n",
    "\n",
    "# create indicator for homestead exemption\n",
    "prop_clean['homestead_exemption'] = prop_clean.homestead_exemption.apply(lambda x: 0 if x < 1 else 1)\n",
    "\n",
    "# create indicator for mailing zip outside of the city limits\n",
    "prop_clean['mailing_outside_city'] = prop_clean.mailing_zip.apply(lambda x: 0 if x == None else (0 if x[:3] == '191' else 1))\n",
    "\n",
    "# view total libable area by number of bedrooms\n",
    "prop_clean.total_livable_area.groupby(prop_clean['number_of_bedrooms']).describe() ## bedrooms over 30 are incorrect\n",
    "prop_clean.total_livable_area.groupby(prop_clean['number_of_bathrooms']).describe() ## bathrooms over 20 are incorrect\n",
    "\n",
    "# indicator for whether a property has a condo unit\n",
    "prop_clean['condo'] = prop_clean['unit'].apply(lambda x: 0 if x == None else 1)"
   ]
  },
  {
   "cell_type": "code",
   "execution_count": null,
   "id": "c880ead6",
   "metadata": {},
   "outputs": [
    {
     "data": {
      "text/plain": [
       "Index(['cartodb_id', 'the_geom', 'the_geom_webmercator', 'assessment_date',\n",
       "       'basements', 'beginning_point', 'book_and_page', 'building_code',\n",
       "       'building_code_description', 'category_code', 'census_tract',\n",
       "       'central_air', 'cross_reference', 'date_exterior_condition', 'depth',\n",
       "       'exempt_building', 'exempt_land', 'exterior_condition', 'fireplaces',\n",
       "       'frontage', 'fuel', 'garage_spaces', 'garage_type',\n",
       "       'general_construction', 'geographic_ward', 'homestead_exemption',\n",
       "       'house_extension', 'house_number', 'interior_condition', 'location',\n",
       "       'mailing_address_1', 'mailing_address_2', 'mailing_care_of',\n",
       "       'mailing_city_state', 'mailing_street', 'mailing_zip', 'market_value',\n",
       "       'market_value_date', 'number_of_bathrooms', 'number_of_bedrooms',\n",
       "       'number_of_rooms', 'number_stories', 'off_street_open',\n",
       "       'other_building', 'owner_1', 'owner_2', 'parcel_number', 'parcel_shape',\n",
       "       'quality_grade', 'recording_date', 'registry_number', 'sale_date',\n",
       "       'sale_price', 'separate_utilities', 'sewer', 'site_type', 'state_code',\n",
       "       'street_code', 'street_designation', 'street_direction', 'street_name',\n",
       "       'suffix', 'taxable_building', 'taxable_land', 'topography',\n",
       "       'total_area', 'total_livable_area', 'type_heater', 'unfinished', 'unit',\n",
       "       'utility', 'view_type', 'year_built', 'year_built_estimate', 'zip_code',\n",
       "       'zoning', 'pin', 'building_code_new', 'building_code_description_new',\n",
       "       'objectid', 'apartments__>_4_units', 'commercial', 'garage', 'hotel',\n",
       "       'industrial', 'mixed_use', 'multi_family', 'offices', 'retail',\n",
       "       'single_family', 'special_purpose', 'vacant_land'],\n",
       "      dtype='object')"
      ]
     },
     "execution_count": 80,
     "metadata": {},
     "output_type": "execute_result"
    }
   ],
   "source": [
    "prop_clean.columns"
   ]
  },
  {
   "cell_type": "code",
   "execution_count": null,
   "id": "de5f0c8b",
   "metadata": {},
   "outputs": [
    {
     "data": {
      "text/plain": [
       "cartodb_id                         int64\n",
       "the_geom                          object\n",
       "the_geom_webmercator              object\n",
       "assessment_date                   object\n",
       "basements                         object\n",
       "beginning_point                   object\n",
       "book_and_page                     object\n",
       "building_code                     object\n",
       "building_code_description         object\n",
       "category_code                     object\n",
       "category_code_description         object\n",
       "census_tract                      object\n",
       "central_air                       object\n",
       "cross_reference                   object\n",
       "date_exterior_condition           object\n",
       "depth                            float64\n",
       "exempt_building                  float64\n",
       "exempt_land                      float64\n",
       "exterior_condition                object\n",
       "fireplaces                       float64\n",
       "frontage                         float64\n",
       "fuel                              object\n",
       "garage_spaces                    float64\n",
       "garage_type                       object\n",
       "general_construction              object\n",
       "geographic_ward                   object\n",
       "homestead_exemption                int64\n",
       "house_extension                   object\n",
       "house_number                      object\n",
       "interior_condition                object\n",
       "location                          object\n",
       "mailing_address_1                 object\n",
       "mailing_address_2                 object\n",
       "mailing_care_of                   object\n",
       "mailing_city_state                object\n",
       "mailing_street                    object\n",
       "mailing_zip                       object\n",
       "market_value                     float64\n",
       "market_value_date                 object\n",
       "number_of_bathrooms              float64\n",
       "number_of_bedrooms               float64\n",
       "number_of_rooms                  float64\n",
       "number_stories                   float64\n",
       "off_street_open                  float64\n",
       "other_building                    object\n",
       "owner_1                           object\n",
       "owner_2                           object\n",
       "parcel_number                     object\n",
       "parcel_shape                      object\n",
       "quality_grade                     object\n",
       "recording_date                    object\n",
       "registry_number                   object\n",
       "sale_date                         object\n",
       "sale_price                       float64\n",
       "separate_utilities                object\n",
       "sewer                             object\n",
       "site_type                         object\n",
       "state_code                        object\n",
       "street_code                       object\n",
       "street_designation                object\n",
       "street_direction                  object\n",
       "street_name                       object\n",
       "suffix                            object\n",
       "taxable_building                 float64\n",
       "taxable_land                     float64\n",
       "topography                        object\n",
       "total_area                       float64\n",
       "total_livable_area               float64\n",
       "type_heater                       object\n",
       "unfinished                        object\n",
       "unit                              object\n",
       "utility                           object\n",
       "view_type                         object\n",
       "year_built                        object\n",
       "year_built_estimate               object\n",
       "zip_code                          object\n",
       "zoning                            object\n",
       "pin                                int64\n",
       "building_code_new                 object\n",
       "building_code_description_new     object\n",
       "objectid                           int64\n",
       "dtype: object"
      ]
     },
     "execution_count": 11,
     "metadata": {},
     "output_type": "execute_result"
    }
   ],
   "source": [
    "# check columns and data types\n",
    "prop.dtypes\n",
    "\n",
    "['parcel_number', 'category_code_description','homestead_exemption','mailing_zip','number_of_bathrooms','number_of_bedrooms',\n",
    " 'number_stories','sale_date','sale_price','total_area','total_livable_area','unit','year_built','zip_code']"
   ]
  },
  {
   "cell_type": "code",
   "execution_count": null,
   "id": "0471b212",
   "metadata": {},
   "outputs": [
    {
     "data": {
      "text/plain": [
       "cartodb_id                int64\n",
       "the_geom                 object\n",
       "the_geom_webmercator     object\n",
       "parcel_number            object\n",
       "year                      int64\n",
       "market_value              int64\n",
       "taxable_land            float64\n",
       "taxable_building        float64\n",
       "exempt_land             float64\n",
       "exempt_building         float64\n",
       "dtype: object"
      ]
     },
     "execution_count": 12,
     "metadata": {},
     "output_type": "execute_result"
    }
   ],
   "source": [
    "# check column and data types\n",
    "assess.dtypes"
   ]
  }
 ],
 "metadata": {
  "kernelspec": {
   "display_name": "Python 3",
   "language": "python",
   "name": "python3"
  },
  "language_info": {
   "codemirror_mode": {
    "name": "ipython",
    "version": 3
   },
   "file_extension": ".py",
   "mimetype": "text/x-python",
   "name": "python",
   "nbconvert_exporter": "python",
   "pygments_lexer": "ipython3",
   "version": "3.13.2"
  }
 },
 "nbformat": 4,
 "nbformat_minor": 5
}
