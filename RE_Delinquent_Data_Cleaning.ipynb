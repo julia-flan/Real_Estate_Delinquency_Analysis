{
 "cells": [
  {
   "cell_type": "code",
   "execution_count": 1,
   "id": "a4c69a3a",
   "metadata": {},
   "outputs": [],
   "source": [
    "import requests\n",
    "import pandas as pd\n",
    "import numpy as np\n",
    "import json\n",
    "import time\n",
    "import math\n",
    "import matplotlib.pyplot as plt\n",
    "import seaborn as sns\n",
    "import sklearn\n",
    "from sklearn.preprocessing import RobustScaler"
   ]
  },
  {
   "cell_type": "markdown",
   "id": "9cd1aeea",
   "metadata": {},
   "source": [
    "# Data Extraction"
   ]
  },
  {
   "cell_type": "markdown",
   "id": "3be04e37",
   "metadata": {},
   "source": [
    "## Requesting Data from Open Data Philly\n",
    "\n",
    "The property characteristic and assessment history data in this analysis is sourced from [OpenDataPhilly]([https://opendataphilly.org/datasets/philadelphia-properties-and-assessment-history/), an online repository providing access to data about the Philadelphia region. The data is maintained by the City of Philadelhia's the Office of Property Assessment and contains records for all properties in Philadelphia.\n",
    "\n",
    "The Property and Property Assessment datasets published to Carto and available to query via [SQL API](https://phl.carto.com/api/v2/sql) using PostgreSQL.\n",
    "- **Property table**: opa_properties_public\n",
    "- **Property Assessment table**: assessments"
   ]
  },
  {
   "cell_type": "code",
   "execution_count": 2,
   "id": "38c87de9",
   "metadata": {},
   "outputs": [],
   "source": [
    "def requestOpenDataPhilly(query: str):\n",
    "    '''\n",
    "    Sends request to Open Data Philly's SQL API, and returns the results as a Pandas dataframe\n",
    "\n",
    "    Args:\n",
    "        query (str): query written in PostgreSQL\n",
    "\n",
    "    Return:\n",
    "        dataframe containing the results of the query\n",
    "    '''\n",
    "    print('Sending request to Open Data Philly API.')\n",
    "    url = 'https://phl.carto.com/api/v2/sql'\n",
    "    params = {'q':query}\n",
    "\n",
    "    # send request\n",
    "    response = requests.get(url, params=params)\n",
    "    print(f\"Open Data API Status Code: {response.status_code}\")\n",
    "    \n",
    "    # sleep\n",
    "    time.sleep(2)\n",
    "    \n",
    "    try:\n",
    "        # convert response to df\n",
    "        response_data = json.loads(str(response.text))                          \n",
    "        data = response_data['rows']        \n",
    "        print(f'Returning df for query: {query}.\\n')                                    \n",
    "        return pd.DataFrame.from_dict(data) \n",
    "    except:\n",
    "        return pd.DataFrame() \n",
    "\n",
    "\n"
   ]
  },
  {
   "cell_type": "code",
   "execution_count": 3,
   "id": "042f8c88",
   "metadata": {},
   "outputs": [],
   "source": [
    "# establish queries\n",
    "prop_query = \"SELECT * FROM opa_properties_public\" \n",
    "assess_2025 = \"SELECT * FROM assessments WHERE year = '2025'\"\n",
    "assess_2024 = \"SELECT * FROM assessments WHERE year = '2024'\"\n",
    "assess_2023 = \"SELECT * FROM assessments WHERE year = '2023'\"\n",
    "assess_2022 = \"SELECT * FROM assessments WHERE year = '2022'\"\n",
    "assess_2021 = \"SELECT * FROM assessments WHERE year = '2021'\"\n",
    "assess_2020 = \"SELECT * FROM assessments WHERE year = '2020'\"\n",
    "assess_2019 = \"SELECT * FROM assessments WHERE year = '2019'\"\n",
    "assess_2018 = \"SELECT * FROM assessments WHERE year = '2018'\"\n",
    "assess_2017 = \"SELECT * FROM assessments WHERE year = '2017'\"\n",
    "assess_2016 = \"SELECT * FROM assessments WHERE year = '2016'\"\n",
    "assess_2015 = \"SELECT * FROM assessments WHERE year = '2015'\""
   ]
  },
  {
   "cell_type": "code",
   "execution_count": 4,
   "id": "ec0c93b2",
   "metadata": {},
   "outputs": [],
   "source": [
    "# # get requests\n",
    "# prop = requestOpenDataPhilly(prop_query)\n",
    "# assess_2025 = requestOpenDataPhilly(assess_2025)\n",
    "# assess_2024 = requestOpenDataPhilly(assess_2024)\n",
    "# assess_2023 = requestOpenDataPhilly(assess_2023)\n",
    "# assess_2022 = requestOpenDataPhilly(assess_2022)\n",
    "# assess_2021 = requestOpenDataPhilly(assess_2021)\n",
    "# assess_2020 = requestOpenDataPhilly(assess_2020)\n",
    "# assess_2019 = requestOpenDataPhilly(assess_2019) \n",
    "# assess_2018 = requestOpenDataPhilly(assess_2018)  \n",
    "# assess_2017 = requestOpenDataPhilly(assess_2017)\n",
    "# assess_2016 = requestOpenDataPhilly(assess_2016)\n",
    "# assess_2015 = requestOpenDataPhilly(assess_2015)"
   ]
  },
  {
   "cell_type": "code",
   "execution_count": 5,
   "id": "1c99cf36",
   "metadata": {},
   "outputs": [],
   "source": [
    "# # export files\n",
    "# prop.to_csv(\"Data/properties.csv\", index=False)\n",
    "# assess_2025.to_csv(\"Data/assess_2025.csv\", index=False)\n",
    "# assess_2024.to_csv(\"Data/assess_2024.csv\", index=False)\n",
    "# assess_2023.to_csv(\"Data/assess_2023.csv\", index=False)\n",
    "# assess_2022.to_csv(\"Data/assess_2022.csv\", index=False)\n",
    "# assess_2021.to_csv(\"Data/assess_2021.csv\", index=False)\n",
    "# assess_2020.to_csv(\"Data/assess_2020.csv\", index=False)\n",
    "# assess_2019.to_csv(\"Data/assess_2019.csv\", index=False)\n",
    "# assess_2018.to_csv(\"Data/assess_2018.csv\", index=False)\n",
    "# assess_2017.to_csv(\"Data/assess_2017.csv\", index=False)\n",
    "# assess_2016.to_csv(\"Data/assess_2016.csv\", index=False)\n",
    "# assess_2015.to_csv(\"Data/assess_2015.csv\", index=False)\n"
   ]
  },
  {
   "cell_type": "code",
   "execution_count": 6,
   "id": "468aaabd",
   "metadata": {},
   "outputs": [
    {
     "name": "stderr",
     "output_type": "stream",
     "text": [
      "C:\\Users\\julia\\AppData\\Local\\Temp\\ipykernel_138084\\2771757085.py:2: DtypeWarning: Columns (6,18,27,29,78) have mixed types. Specify dtype option on import or set low_memory=False.\n",
      "  prop = pd.read_csv(\"Data/properties.csv\")\n"
     ]
    }
   ],
   "source": [
    "# read csvs\n",
    "prop = pd.read_csv(\"Data/properties.csv\")\n",
    "assess_2025 = pd.read_csv(\"Data/assess_2025.csv\")\n",
    "assess_2024 = pd.read_csv(\"Data/assess_2024.csv\")\n",
    "assess_2023 = pd.read_csv(\"Data/assess_2023.csv\")\n",
    "assess_2022 = pd.read_csv(\"Data/assess_2022.csv\")\n",
    "assess_2021 = pd.read_csv(\"Data/assess_2021.csv\")\n",
    "assess_2020 = pd.read_csv(\"Data/assess_2020.csv\")\n",
    "assess_2019 = pd.read_csv(\"Data/assess_2019.csv\")\n",
    "assess_2018 = pd.read_csv(\"Data/assess_2018.csv\")\n",
    "assess_2017 = pd.read_csv(\"Data/assess_2017.csv\")\n",
    "assess_2016 = pd.read_csv(\"Data/assess_2016.csv\")\n",
    "assess_2015 = pd.read_csv(\"Data/assess_2015.csv\")"
   ]
  },
  {
   "cell_type": "markdown",
   "id": "c86adbf0",
   "metadata": {},
   "source": [
    "## Retrieving Real Estate Delinquency Data\n",
    "\n",
    "Real Estate Delinquency data is available on Open Data Philly aggregated by location. To access this data at the parcel level, email Roman Stratkovsky <roman.stratkovsky@phila.gov>, Chief Data Intelligence Officer at the City of Philadelphia's Department of Revenue."
   ]
  },
  {
   "cell_type": "code",
   "execution_count": 7,
   "id": "32a90614",
   "metadata": {},
   "outputs": [],
   "source": [
    "delinq = pd.read_csv(\"Data/real_estate_delinquency.csv\")"
   ]
  },
  {
   "cell_type": "markdown",
   "id": "d1b7e4bf",
   "metadata": {},
   "source": [
    "# Data Cleaning"
   ]
  },
  {
   "cell_type": "markdown",
   "id": "f34a2da9",
   "metadata": {},
   "source": [
    "## Check the shape of each dataframe"
   ]
  },
  {
   "cell_type": "code",
   "execution_count": 8,
   "id": "8dbf1dba",
   "metadata": {},
   "outputs": [
    {
     "data": {
      "text/plain": [
       "(584103, 81)"
      ]
     },
     "execution_count": 8,
     "metadata": {},
     "output_type": "execute_result"
    }
   ],
   "source": [
    "# property df size\n",
    "prop.shape"
   ]
  },
  {
   "cell_type": "code",
   "execution_count": 9,
   "id": "d70158e5",
   "metadata": {},
   "outputs": [
    {
     "name": "stdout",
     "output_type": "stream",
     "text": [
      "(584014, 10)\n",
      "(582676, 10)\n",
      "(581527, 10)\n",
      "(579221, 10)\n",
      "(578012, 10)\n",
      "(576751, 10)\n",
      "(574880, 10)\n",
      "(573566, 10)\n",
      "(573539, 10)\n",
      "(573552, 10)\n",
      "(573545, 10)\n"
     ]
    }
   ],
   "source": [
    "# assessment df size\n",
    "for df in [assess_2025, assess_2024, assess_2023, assess_2022, assess_2021, assess_2020, assess_2019, assess_2018, assess_2017, assess_2016, assess_2015]:\n",
    "    print(df.shape)"
   ]
  },
  {
   "cell_type": "code",
   "execution_count": 10,
   "id": "0f442d1d",
   "metadata": {},
   "outputs": [
    {
     "data": {
      "text/plain": [
       "(1400509, 7)"
      ]
     },
     "execution_count": 10,
     "metadata": {},
     "output_type": "execute_result"
    }
   ],
   "source": [
    "# real delinquency data\n",
    "delinq.shape"
   ]
  },
  {
   "cell_type": "markdown",
   "id": "0dc8b40b",
   "metadata": {},
   "source": [
    "The property characteristics dataframe has 81 columns, many of which are of no relevance to Real Estate Delinquency. Therefore, a subset of the columns was selected based on institutional knowledge and relevance to the research question."
   ]
  },
  {
   "cell_type": "code",
   "execution_count": 11,
   "id": "53d8aef8",
   "metadata": {},
   "outputs": [],
   "source": [
    "# create copy of properties df\n",
    "prop_clean = prop.loc[:,['parcel_number', 'category_code_description','exterior_condition','interior_condition','homestead_exemption','mailing_zip','number_of_bathrooms'\n",
    "                         ,'number_of_bedrooms','number_stories','sale_date','sale_price','total_area','total_livable_area','unit','year_built','zip_code']].copy(deep=True)"
   ]
  },
  {
   "cell_type": "markdown",
   "id": "e27509cc",
   "metadata": {},
   "source": [
    "## Union and Pivot the Assessment dataframe\n",
    "\n",
    "Assessment dataframes contain the property assessment for each year from 2015 to 2025. Union the individual dataframes then pivot the data so we can have a 1-year, 3-year, and 5-year look back for each property-year combination."
   ]
  },
  {
   "cell_type": "code",
   "execution_count": 12,
   "id": "71546ebc",
   "metadata": {},
   "outputs": [],
   "source": [
    "# create copies of the asessments df\n",
    "assess_2025_clean = assess_2025.loc[:,['parcel_number','year','market_value','taxable_land','taxable_building','exempt_land','exempt_building']].copy(deep=True)\n",
    "assess_2024_clean = assess_2024.loc[:,['parcel_number','year','market_value','taxable_land','taxable_building','exempt_land','exempt_building']].copy(deep=True)\n",
    "assess_2023_clean = assess_2023.loc[:,['parcel_number','year','market_value','taxable_land','taxable_building','exempt_land','exempt_building']].copy(deep=True)\n",
    "assess_2022_clean = assess_2022.loc[:,['parcel_number','year','market_value','taxable_land','taxable_building','exempt_land','exempt_building']].copy(deep=True)\n",
    "assess_2021_clean = assess_2021.loc[:,['parcel_number','year','market_value','taxable_land','taxable_building','exempt_land','exempt_building']].copy(deep=True)\n",
    "assess_2020_clean = assess_2020.loc[:,['parcel_number','year','market_value','taxable_land','taxable_building','exempt_land','exempt_building']].copy(deep=True)\n",
    "assess_2019_clean = assess_2019.loc[:,['parcel_number','year','market_value','taxable_land','taxable_building','exempt_land','exempt_building']].copy(deep=True)\n",
    "assess_2018_clean = assess_2018.loc[:,['parcel_number','year','market_value','taxable_land','taxable_building','exempt_land','exempt_building']].copy(deep=True)\n",
    "assess_2017_clean = assess_2017.loc[:,['parcel_number','year','market_value','taxable_land','taxable_building','exempt_land','exempt_building']].copy(deep=True)\n",
    "assess_2016_clean = assess_2016.loc[:,['parcel_number','year','market_value','taxable_land','taxable_building','exempt_land','exempt_building']].copy(deep=True)\n",
    "assess_2015_clean = assess_2015.loc[:,['parcel_number','year','market_value','taxable_land','taxable_building','exempt_land','exempt_building']].copy(deep=True)"
   ]
  },
  {
   "cell_type": "code",
   "execution_count": 13,
   "id": "3c942826",
   "metadata": {},
   "outputs": [],
   "source": [
    "# concat the assessment years together\n",
    "assess_all = pd.concat([assess_2025_clean, assess_2024_clean, assess_2023_clean, assess_2022_clean, assess_2021_clean, assess_2020_clean, \n",
    "                        assess_2019_clean,assess_2018_clean, assess_2017_clean, assess_2016_clean, assess_2015_clean], axis=0, ignore_index=True)\n",
    "\n",
    "# create taxable and exempt fields\n",
    "assess_all['taxable'] = assess_all['taxable_land'] + assess_all['taxable_building']\n",
    "assess_all['exempt'] = assess_all['exempt_land'] + assess_all['exempt_building']\n",
    "\n",
    "# create fields for the 1, 3, and 5 year joins\n",
    "assess_all['1yr'] = assess_all['year'] - 1\n",
    "assess_all['3yr'] = assess_all['year'] - 3\n",
    "assess_all['5yr'] = assess_all['year'] - 5\n",
    "\n",
    "# select a subset of columns for each df\n",
    "assess_1yr = assess_all.loc[:,['parcel_number','year','taxable','exempt']].copy(deep=True)\n",
    "assess_3yr = assess_all.loc[:,['parcel_number','year','taxable','exempt']].copy(deep=True)\n",
    "assess_5yr = assess_all.loc[:,['parcel_number','year','taxable','exempt']].copy(deep=True)\n",
    "\n",
    "# rename columns to indicate the year of assessment\n",
    "assess_1yr.rename(columns={'taxable':'taxable_1yr','exempt':'exempt_1yr'}, inplace=True)\n",
    "assess_3yr.rename(columns={'taxable':'taxable_3yr','exempt':'exempt_3yr'}, inplace=True)\n",
    "assess_5yr.rename(columns={'taxable':'taxable_5yr','exempt':'exempt_5yr'}, inplace=True)"
   ]
  },
  {
   "cell_type": "code",
   "execution_count": 14,
   "id": "ca9ae5b4",
   "metadata": {},
   "outputs": [],
   "source": [
    "\n",
    "# join to last year's assessments\n",
    "assess_clean = pd.merge(assess_all, assess_1yr, how='inner', left_on=['parcel_number','1yr'], right_on=['parcel_number','year'])\n",
    "assess_clean.drop(columns=['year_y'], inplace=True)\n",
    "assess_clean.rename(columns={'year_x':'year'}, inplace=True)\n",
    "\n",
    "# join to the assessments from 3 years ago\n",
    "assess_clean = pd.merge(assess_clean, assess_3yr, how='inner', left_on=['parcel_number','3yr'], right_on=['parcel_number','year'])\n",
    "assess_clean.drop(columns=['year_y'], inplace=True)\n",
    "assess_clean.rename(columns={'year_x':'year'}, inplace=True)\n",
    "\n",
    "# join to the assessments from 5 years ago\n",
    "assess_clean = pd.merge(assess_clean, assess_5yr, how='inner', left_on=['parcel_number','5yr'], right_on=['parcel_number','year'])\n",
    "assess_clean.drop(columns=['year_y'], inplace=True)\n",
    "assess_clean.rename(columns={'year_x':'year'}, inplace=True)\n",
    "\n",
    "# drop the additional year columns\n",
    "assess_clean.drop(columns=['1yr','3yr','5yr'], inplace=True)"
   ]
  },
  {
   "cell_type": "code",
   "execution_count": 15,
   "id": "1bb2f3db",
   "metadata": {},
   "outputs": [
    {
     "data": {
      "text/plain": [
       "(3445780, 15)"
      ]
     },
     "execution_count": 15,
     "metadata": {},
     "output_type": "execute_result"
    }
   ],
   "source": [
    "assess_clean.shape"
   ]
  },
  {
   "cell_type": "markdown",
   "id": "b8a15965",
   "metadata": {},
   "source": [
    "## Pivot Delinquent dataframe\n",
    "\n",
    "Pivot table so there is one record per property (with delinquency from 2020 - 2024) instead of one record per property and year."
   ]
  },
  {
   "cell_type": "code",
   "execution_count": 16,
   "id": "769cbec1",
   "metadata": {},
   "outputs": [],
   "source": [
    "# create copy of the delinquency df\n",
    "delinq_copy = delinq.loc[:,['parcel_number', 'snapshot_year', 'total_balance']].copy(deep=True)"
   ]
  },
  {
   "cell_type": "code",
   "execution_count": 17,
   "id": "da6777e7",
   "metadata": {},
   "outputs": [],
   "source": [
    "# rename columns\n",
    "delinq_copy.rename(columns={'snapshot_year':'year',\n",
    "                            'total_balance':'total'},\n",
    "                            inplace=True)"
   ]
  },
  {
   "cell_type": "code",
   "execution_count": 18,
   "id": "3f07710f",
   "metadata": {},
   "outputs": [],
   "source": [
    "# drop years before 2015\n",
    "delinq_copy = delinq_copy[delinq_copy.year >= 2015]"
   ]
  },
  {
   "cell_type": "code",
   "execution_count": 19,
   "id": "91594c69",
   "metadata": {},
   "outputs": [],
   "source": [
    "# create fields for the 1, 3, and 5 year joins\n",
    "delinq_copy['1yr'] = delinq_copy['year'] - 1\n",
    "delinq_copy['2yr'] = delinq_copy['year'] - 2\n",
    "delinq_copy['3yr'] = delinq_copy['year'] - 3\n",
    "delinq_copy['4yr'] = delinq_copy['year'] - 4\n",
    "delinq_copy['5yr'] = delinq_copy['year'] - 5\n",
    "\n",
    "# select a subset of columns for each df\n",
    "delinq_1yr = delinq_copy.loc[:,['parcel_number', 'year', 'total']].copy(deep=True)\n",
    "delinq_2yr = delinq_copy.loc[:,['parcel_number', 'year', 'total']].copy(deep=True)\n",
    "delinq_3yr = delinq_copy.loc[:,['parcel_number', 'year', 'total']].copy(deep=True)\n",
    "delinq_4yr = delinq_copy.loc[:,['parcel_number', 'year', 'total']].copy(deep=True)\n",
    "delinq_5yr = delinq_copy.loc[:,['parcel_number', 'year', 'total']].copy(deep=True)\n",
    "\n",
    "# rename columns to indicate the year of assessment\n",
    "delinq_1yr.rename(columns={'total':'total_1yr'}, inplace=True)\n",
    "delinq_2yr.rename(columns={'total':'total_2yr'}, inplace=True)\n",
    "delinq_3yr.rename(columns={'total':'total_3yr'}, inplace=True)\n",
    "delinq_4yr.rename(columns={'total':'total_4yr'}, inplace=True)\n",
    "delinq_5yr.rename(columns={'total':'total_5yr'}, inplace=True)\n"
   ]
  },
  {
   "cell_type": "code",
   "execution_count": 91,
   "id": "ed293f73",
   "metadata": {},
   "outputs": [],
   "source": [
    "# join to last year's assessments\n",
    "delinq_clean = pd.merge(delinq_copy, delinq_1yr, how='left', left_on=['parcel_number','1yr'], right_on=['parcel_number','year'])\n",
    "delinq_clean.drop(columns=['year_y'], inplace=True)\n",
    "delinq_clean.rename(columns={'year_x':'year'}, inplace=True)\n",
    "\n",
    "# join to the assessments from 2 years ago\n",
    "delinq_clean = pd.merge(delinq_clean, delinq_2yr, how='left', left_on=['parcel_number','2yr'], right_on=['parcel_number','year'])\n",
    "delinq_clean.drop(columns=['year_y'], inplace=True)\n",
    "delinq_clean.rename(columns={'year_x':'year'}, inplace=True)\n",
    "\n",
    "# join to the assessments from 3 years ago\n",
    "delinq_clean = pd.merge(delinq_clean, delinq_3yr, how='left', left_on=['parcel_number','3yr'], right_on=['parcel_number','year'])\n",
    "delinq_clean.drop(columns=['year_y'], inplace=True)\n",
    "delinq_clean.rename(columns={'year_x':'year'}, inplace=True)\n",
    "\n",
    "# join to the assessments from 4 years ago\n",
    "delinq_clean = pd.merge(delinq_clean, delinq_4yr, how='left', left_on=['parcel_number','4yr'], right_on=['parcel_number','year'])\n",
    "delinq_clean.drop(columns=['year_y'], inplace=True)\n",
    "delinq_clean.rename(columns={'year_x':'year'}, inplace=True)\n",
    "\n",
    "# join to the assessments from 5 years ago\n",
    "delinq_clean = pd.merge(delinq_clean, delinq_5yr, how='left', left_on=['parcel_number','5yr'], right_on=['parcel_number','year'])\n",
    "delinq_clean.drop(columns=['year_y'], inplace=True)\n",
    "delinq_clean.rename(columns={'year_x':'year'}, inplace=True)\n",
    "\n",
    "# drop the additional year columns\n",
    "delinq_clean.drop(columns=['1yr','2yr','3yr','4yr','5yr'], inplace=True)\n",
    "\n",
    "# drop years before 2020\n",
    "delinq_clean = delinq_clean[delinq_clean.year >= 2020]"
   ]
  },
  {
   "cell_type": "markdown",
   "id": "78d0291b",
   "metadata": {},
   "source": [
    "Records in the Delinquency dataframe that don't have a delinquent Real Estate tax balance have missing values. Fill those missing values with 0s."
   ]
  },
  {
   "cell_type": "code",
   "execution_count": 21,
   "id": "b5515cea",
   "metadata": {},
   "outputs": [],
   "source": [
    "delinq_clean.fillna(0, inplace=True)"
   ]
  },
  {
   "cell_type": "code",
   "execution_count": 22,
   "id": "38bee567",
   "metadata": {},
   "outputs": [
    {
     "data": {
      "text/plain": [
       "(813883, 8)"
      ]
     },
     "execution_count": 22,
     "metadata": {},
     "output_type": "execute_result"
    }
   ],
   "source": [
    "delinq_clean.shape"
   ]
  },
  {
   "cell_type": "markdown",
   "id": "84d9095d",
   "metadata": {},
   "source": [
    "## Fix inconsistent data types"
   ]
  },
  {
   "cell_type": "code",
   "execution_count": 23,
   "id": "67d52707",
   "metadata": {},
   "outputs": [
    {
     "data": {
      "text/plain": [
       "parcel_number                  int64\n",
       "category_code_description     object\n",
       "exterior_condition            object\n",
       "interior_condition            object\n",
       "homestead_exemption            int64\n",
       "mailing_zip                   object\n",
       "number_of_bathrooms          float64\n",
       "number_of_bedrooms           float64\n",
       "number_stories               float64\n",
       "sale_date                     object\n",
       "sale_price                   float64\n",
       "total_area                   float64\n",
       "total_livable_area           float64\n",
       "unit                          object\n",
       "year_built                   float64\n",
       "zip_code                     float64\n",
       "dtype: object"
      ]
     },
     "execution_count": 23,
     "metadata": {},
     "output_type": "execute_result"
    }
   ],
   "source": [
    "prop_clean.dtypes"
   ]
  },
  {
   "cell_type": "markdown",
   "id": "976323ef",
   "metadata": {},
   "source": [
    "Exterior condition is a numerical scale from 1 to 9 where 1 indicates newer construction, 9 indicates properties that are structurally compromised, and 0 indicates that exterior condition is not applicable. Remove errornous values, change 0s to NAs, and convert to float type."
   ]
  },
  {
   "cell_type": "code",
   "execution_count": 24,
   "id": "a76cc5bf",
   "metadata": {},
   "outputs": [
    {
     "data": {
      "text/plain": [
       "array([nan,  4.,  1.,  3.,  5.,  7.,  2.,  6.,  8.])"
      ]
     },
     "execution_count": 24,
     "metadata": {},
     "output_type": "execute_result"
    }
   ],
   "source": [
    "# check unique values for exterior condition\n",
    "prop_clean.exterior_condition.unique()\n",
    "\n",
    "# 6 records where exterior condition is an invalid value\n",
    "prop_clean[prop_clean.exterior_condition.isin(['P','E','A'])].head(10)\n",
    "\n",
    "# change invalid records to NA\n",
    "prop_clean.loc[(prop_clean.exterior_condition.isin(['P','E','A'])), 'exterior_condition'] = np.nan\n",
    "\n",
    "# convert exterior condition to float\n",
    "prop_clean.exterior_condition = prop_clean.exterior_condition.astype(float)\n",
    "\n",
    "# change 0 (not applicable) records to NA\n",
    "prop_clean.loc[(prop_clean.exterior_condition == 0), 'exterior_condition'] = np.nan\n",
    "\n",
    "# confirm unqiue values of exterior condition\n",
    "prop_clean.exterior_condition.unique()"
   ]
  },
  {
   "cell_type": "markdown",
   "id": "3af4bc67",
   "metadata": {},
   "source": [
    "Interior condition is a numerical scale from 1 to 8 where 1 indicates newer construction, 7 indicates properties that are structurally compromised, and 0 indicates that interior condition is not applicable. Remove errornous values, change 0s to NAs, and convert to float type."
   ]
  },
  {
   "cell_type": "code",
   "execution_count": 25,
   "id": "6692cdaa",
   "metadata": {},
   "outputs": [
    {
     "data": {
      "text/plain": [
       "array([nan,  4.,  1.,  2.,  3.,  5.,  6.,  7.,  8.])"
      ]
     },
     "execution_count": 25,
     "metadata": {},
     "output_type": "execute_result"
    }
   ],
   "source": [
    "# check unique values for interior condition\n",
    "prop_clean.interior_condition.unique()\n",
    "\n",
    "# 6 records where exterior condition is an invalid value\n",
    "prop_clean[prop_clean.interior_condition.isin(['P','E','A'])].head(10)\n",
    "\n",
    "# change invalid records to NA\n",
    "prop_clean.loc[(prop_clean.interior_condition.isin(['P','E','A'])), 'interior_condition'] = np.nan\n",
    "\n",
    "# convert interior condition to float\n",
    "prop_clean.interior_condition = prop_clean.interior_condition.astype(float)\n",
    "\n",
    "# change 0 (not applicable) records to NA\n",
    "prop_clean.loc[(prop_clean.interior_condition == 0), 'interior_condition'] = np.nan\n",
    "\n",
    "# confirm unqiue values of exterior condition\n",
    "prop_clean.interior_condition.unique()"
   ]
  },
  {
   "cell_type": "markdown",
   "id": "cecce2c1",
   "metadata": {},
   "source": [
    "Unit, if exists, is a condo unit number. We care whether of not a property is a condo so we will convert unit to a boolean."
   ]
  },
  {
   "cell_type": "code",
   "execution_count": 26,
   "id": "4a68c344",
   "metadata": {},
   "outputs": [],
   "source": [
    "prop_clean.unit = prop_clean.unit.apply(lambda x: 0 if pd.isna(x) else 1)"
   ]
  },
  {
   "cell_type": "code",
   "execution_count": 27,
   "id": "25c6bfda",
   "metadata": {},
   "outputs": [],
   "source": [
    "# convert from float to int for count data\n",
    "prop_clean.number_of_bathrooms = prop_clean.number_of_bathrooms.astype('Int64')\n",
    "prop_clean.number_of_bedrooms = prop_clean.number_of_bedrooms.astype('Int64')\n",
    "prop_clean.number_stories = prop_clean.number_stories.astype('Int64')\n",
    "\n",
    "# convert year built from float to string and remove floating point values\n",
    "prop_clean.year_built = prop_clean.year_built.apply(lambda x: np.nan if pd.isna(x) else str(x)[:-2])\n",
    "\n",
    "# convert zip code from float to string and remove floating point values\n",
    "prop_clean.zip_code = prop_clean.zip_code.apply(lambda x: np.nan if pd.isna(x) else str(x)[:-2])\n",
    "\n",
    "# convert from object to date\n",
    "prop_clean.sale_date = pd.to_datetime(prop_clean.sale_date, format='%Y-%m-%dT%H:%M:%SZ', errors='coerce')"
   ]
  },
  {
   "cell_type": "code",
   "execution_count": 28,
   "id": "f7d26b7a",
   "metadata": {},
   "outputs": [
    {
     "data": {
      "text/plain": [
       "parcel_number                         int64\n",
       "category_code_description            object\n",
       "exterior_condition                  float64\n",
       "interior_condition                  float64\n",
       "homestead_exemption                   int64\n",
       "mailing_zip                          object\n",
       "number_of_bathrooms                   Int64\n",
       "number_of_bedrooms                    Int64\n",
       "number_stories                        Int64\n",
       "sale_date                    datetime64[ns]\n",
       "sale_price                          float64\n",
       "total_area                          float64\n",
       "total_livable_area                  float64\n",
       "unit                                  int64\n",
       "year_built                           object\n",
       "zip_code                             object\n",
       "dtype: object"
      ]
     },
     "execution_count": 28,
     "metadata": {},
     "output_type": "execute_result"
    }
   ],
   "source": [
    "prop_clean.dtypes"
   ]
  },
  {
   "cell_type": "code",
   "execution_count": 29,
   "id": "7419692d",
   "metadata": {},
   "outputs": [
    {
     "data": {
      "text/plain": [
       "parcel_number         int64\n",
       "year                  int64\n",
       "market_value          int64\n",
       "taxable_land        float64\n",
       "taxable_building    float64\n",
       "exempt_land         float64\n",
       "exempt_building     float64\n",
       "dtype: object"
      ]
     },
     "execution_count": 29,
     "metadata": {},
     "output_type": "execute_result"
    }
   ],
   "source": [
    "assess_2025_clean.dtypes"
   ]
  },
  {
   "cell_type": "code",
   "execution_count": 30,
   "id": "d7a80782",
   "metadata": {},
   "outputs": [
    {
     "data": {
      "text/plain": [
       "parcel_number      int64\n",
       "year               int64\n",
       "total            float64\n",
       "total_1yr        float64\n",
       "total_2yr        float64\n",
       "total_3yr        float64\n",
       "total_4yr        float64\n",
       "total_5yr        float64\n",
       "dtype: object"
      ]
     },
     "execution_count": 30,
     "metadata": {},
     "output_type": "execute_result"
    }
   ],
   "source": [
    "delinq_clean.dtypes"
   ]
  },
  {
   "cell_type": "markdown",
   "id": "c3c2897a",
   "metadata": {},
   "source": [
    "## Handle missing values in the Property dataset"
   ]
  },
  {
   "cell_type": "markdown",
   "id": "fe526928",
   "metadata": {},
   "source": [
    "The property characteristics dataset is rife with missing values due to the method of data collection. This dataset is supported and maintained by the City of Philadelphia’s Office of Property Assessment (OPA). According to the OPA Mass Appraisal [Methodology Documentation](https://www.phila.gov/media/20240920162052/opa-tax-year-2025-mass-appraisal-valuation-methodology.pdf), data on individual properties is collected by OPA evaluators either in-person or virtually. In-person data collections consist of physically visiting a property and collecting observations from the curb. OPA evaluators may only conduct an internal inspection if they are invited in by an occupant. Virtual inspections are conducted by utilizing aerial photography or online listings. Therefore, data is limited by circumstance and online availability."
   ]
  },
  {
   "cell_type": "code",
   "execution_count": 31,
   "id": "78d274a6",
   "metadata": {},
   "outputs": [
    {
     "data": {
      "text/plain": [
       "parcel_number                    0\n",
       "category_code_description       17\n",
       "exterior_condition           43666\n",
       "interior_condition           43689\n",
       "homestead_exemption              0\n",
       "mailing_zip                   2513\n",
       "number_of_bathrooms          86243\n",
       "number_of_bedrooms           81463\n",
       "number_stories               72963\n",
       "sale_date                     2725\n",
       "sale_price                    2750\n",
       "total_area                     726\n",
       "total_livable_area           43203\n",
       "unit                             0\n",
       "year_built                   43200\n",
       "zip_code                       146\n",
       "dtype: int64"
      ]
     },
     "execution_count": 31,
     "metadata": {},
     "output_type": "execute_result"
    }
   ],
   "source": [
    "# count missing values\n",
    "prop_clean.isna().sum()"
   ]
  },
  {
   "cell_type": "markdown",
   "id": "2d9f7fd9",
   "metadata": {},
   "source": [
    "### Many missing values are coming from vacant properties\n",
    "\n",
    "There are around 42,000 missing values for exterior condition, interior condition, number of bathrooms, number of bedrooms, number of stories, total livable area, and year built where the property is vacant. Vacant properties don't have bathrooms, bedrooms, stories, livable areas, or a year built since there is no structure. Therefore, we must correct these values."
   ]
  },
  {
   "cell_type": "code",
   "execution_count": 32,
   "id": "2ca9e81c",
   "metadata": {},
   "outputs": [
    {
     "data": {
      "text/plain": [
       "parcel_number                    0\n",
       "category_code_description        0\n",
       "exterior_condition           42862\n",
       "interior_condition           42865\n",
       "homestead_exemption              0\n",
       "mailing_zip                     96\n",
       "number_of_bathrooms          42828\n",
       "number_of_bedrooms           42824\n",
       "number_stories               42850\n",
       "sale_date                      760\n",
       "sale_price                     765\n",
       "total_area                     193\n",
       "total_livable_area           42745\n",
       "unit                             0\n",
       "year_built                   42745\n",
       "zip_code                       106\n",
       "dtype: int64"
      ]
     },
     "execution_count": 32,
     "metadata": {},
     "output_type": "execute_result"
    }
   ],
   "source": [
    "prop_clean[prop_clean.category_code_description.isin(['VACANT LAND','VACANT LAND - RESIDENTIAL','VACANT LAND - NON-RESIDENTIAL'])].isna().sum()"
   ]
  },
  {
   "cell_type": "markdown",
   "id": "8f302a1d",
   "metadata": {},
   "source": [
    "### Fix records for vacant properties"
   ]
  },
  {
   "cell_type": "code",
   "execution_count": 33,
   "id": "9a6fdf77",
   "metadata": {},
   "outputs": [],
   "source": [
    "# change the bathrooms from NA to 0 if the property is vacant\n",
    "prop_clean.loc[(prop_clean.category_code_description.isin(['VACANT LAND','VACANT LAND - RESIDENTIAL','VACANT LAND - NON-RESIDENTIAL'])) & (prop_clean.number_of_bathrooms.isna()), 'number_of_bathrooms'] = 0\n",
    "\n",
    "# change the bedrooms from NA to 0 if the property is vacant\n",
    "prop_clean.loc[(prop_clean.category_code_description.isin(['VACANT LAND','VACANT LAND - RESIDENTIAL','VACANT LAND - NON-RESIDENTIAL'])) & (prop_clean.number_of_bedrooms.isna()), 'number_of_bedrooms'] = 0\n",
    "\n",
    "# change the stories from NA to 0 if the property is vacant\n",
    "prop_clean.loc[(prop_clean.category_code_description.isin(['VACANT LAND','VACANT LAND - RESIDENTIAL','VACANT LAND - NON-RESIDENTIAL'])) & (prop_clean.number_stories.isna()), 'number_stories'] = 0\n",
    "\n",
    "# change the total livable area from NA to 0 if the property is vacant\n",
    "prop_clean.loc[(prop_clean.category_code_description.isin(['VACANT LAND','VACANT LAND - RESIDENTIAL','VACANT LAND - NON-RESIDENTIAL'])) & (prop_clean.total_livable_area.isna()), 'total_livable_area'] = 0\n",
    "\n",
    "# change year built to 2029\n",
    "prop_clean.loc[(prop_clean.category_code_description.isin(['VACANT LAND','VACANT LAND - RESIDENTIAL','VACANT LAND - NON-RESIDENTIAL'])) & (prop_clean.year_built.isna()), 'year_built'] = 2029\n"
   ]
  },
  {
   "cell_type": "markdown",
   "id": "2739d9c8",
   "metadata": {},
   "source": [
    "Exterior conditions is a numerical scale from 1 to 9 where 1 indicates newer construction and 9 indictates properties that are structurally compromised. Therefore, we will change NA to 10 for vacant properties. "
   ]
  },
  {
   "cell_type": "code",
   "execution_count": 34,
   "id": "a58cb354",
   "metadata": {},
   "outputs": [],
   "source": [
    "# change the exterior condition from NA to 10 if the property is vacant\n",
    "prop_clean.loc[(prop_clean.category_code_description.isin(['VACANT LAND','VACANT LAND - RESIDENTIAL','VACANT LAND - NON-RESIDENTIAL'])) & (prop_clean.exterior_condition.isna()), 'exterior_condition'] = 10"
   ]
  },
  {
   "cell_type": "markdown",
   "id": "53cc6c3b",
   "metadata": {},
   "source": [
    "Interior condition is a numerical scale from 1 to 7 where 1 is new and or newly rehabed and 7 is structurally compromised. Therefore, we will change NA to 9 for vacant properties."
   ]
  },
  {
   "cell_type": "code",
   "execution_count": 35,
   "id": "7821da08",
   "metadata": {},
   "outputs": [],
   "source": [
    "# change the interior condition from NA to 8 if the property is vacant\n",
    "prop_clean.loc[(prop_clean.category_code_description.isin(['VACANT LAND','VACANT LAND - RESIDENTIAL','VACANT LAND - NON-RESIDENTIAL'])) & (prop_clean.interior_condition.isna()), 'interior_condition'] = 9"
   ]
  },
  {
   "cell_type": "code",
   "execution_count": 36,
   "id": "9b561d38",
   "metadata": {},
   "outputs": [
    {
     "data": {
      "text/plain": [
       "parcel_number                  0\n",
       "category_code_description      0\n",
       "exterior_condition             0\n",
       "interior_condition             0\n",
       "homestead_exemption            0\n",
       "mailing_zip                   96\n",
       "number_of_bathrooms            0\n",
       "number_of_bedrooms             0\n",
       "number_stories                 0\n",
       "sale_date                    760\n",
       "sale_price                   765\n",
       "total_area                   193\n",
       "total_livable_area             0\n",
       "unit                           0\n",
       "year_built                     0\n",
       "zip_code                     106\n",
       "dtype: int64"
      ]
     },
     "execution_count": 36,
     "metadata": {},
     "output_type": "execute_result"
    }
   ],
   "source": [
    "prop_clean[prop_clean.category_code_description.isin(['VACANT LAND','VACANT LAND - RESIDENTIAL','VACANT LAND - NON-RESIDENTIAL'])].isna().sum()"
   ]
  },
  {
   "cell_type": "markdown",
   "id": "15c23153",
   "metadata": {},
   "source": [
    "There still exists many records with the number of bedrooms, bathrooms, and stories missing. "
   ]
  },
  {
   "cell_type": "code",
   "execution_count": 37,
   "id": "6ebdd944",
   "metadata": {},
   "outputs": [
    {
     "data": {
      "text/plain": [
       "parcel_number                    0\n",
       "category_code_description       17\n",
       "exterior_condition             804\n",
       "interior_condition             824\n",
       "homestead_exemption              0\n",
       "mailing_zip                   2513\n",
       "number_of_bathrooms          43415\n",
       "number_of_bedrooms           38639\n",
       "number_stories               30113\n",
       "sale_date                     2725\n",
       "sale_price                    2750\n",
       "total_area                     726\n",
       "total_livable_area             458\n",
       "unit                             0\n",
       "year_built                     455\n",
       "zip_code                       146\n",
       "dtype: int64"
      ]
     },
     "execution_count": 37,
     "metadata": {},
     "output_type": "execute_result"
    }
   ],
   "source": [
    "prop_clean.isna().sum()"
   ]
  },
  {
   "cell_type": "markdown",
   "id": "e9aa5d8a",
   "metadata": {},
   "source": [
    "As discussed earlier, missing values for number of bedrooms, bathrooms, and stories in the OPA property dataset are a result of circumstance and online availability. The unavailability of these variables seems to follow a pattern with the category code description. Single family and multifamily homes are more likely to have counts of bedrooms and bathrooms than other non-residential building types. Simiarly, commercial, industrial, and mixed use properties tend to have missing values for number of stories. This is most likely because online real estate marketplaces like Zillow advertise or estimate the number of bedrooms, bathrooms, and bathrooms for residential properties. Therefore, we suspect that the missingness of these variables is random, but not completely random. "
   ]
  },
  {
   "cell_type": "code",
   "execution_count": 38,
   "id": "0c2a9d4e",
   "metadata": {},
   "outputs": [
    {
     "data": {
      "text/html": [
       "<div>\n",
       "<style scoped>\n",
       "    .dataframe tbody tr th:only-of-type {\n",
       "        vertical-align: middle;\n",
       "    }\n",
       "\n",
       "    .dataframe tbody tr th {\n",
       "        vertical-align: top;\n",
       "    }\n",
       "\n",
       "    .dataframe thead tr th {\n",
       "        text-align: left;\n",
       "    }\n",
       "\n",
       "    .dataframe thead tr:last-of-type th {\n",
       "        text-align: right;\n",
       "    }\n",
       "</style>\n",
       "<table border=\"1\" class=\"dataframe\">\n",
       "  <thead>\n",
       "    <tr>\n",
       "      <th></th>\n",
       "      <th>parcel_number</th>\n",
       "      <th>number_of_bedrooms</th>\n",
       "      <th>number_of_bathrooms</th>\n",
       "      <th>number_stories</th>\n",
       "    </tr>\n",
       "    <tr>\n",
       "      <th></th>\n",
       "      <th>count</th>\n",
       "      <th>count</th>\n",
       "      <th>count</th>\n",
       "      <th>count</th>\n",
       "    </tr>\n",
       "    <tr>\n",
       "      <th>category_code_description</th>\n",
       "      <th></th>\n",
       "      <th></th>\n",
       "      <th></th>\n",
       "      <th></th>\n",
       "    </tr>\n",
       "  </thead>\n",
       "  <tbody>\n",
       "    <tr>\n",
       "      <th>APARTMENTS  &gt; 4 UNITS</th>\n",
       "      <td>3476</td>\n",
       "      <td>96</td>\n",
       "      <td>85</td>\n",
       "      <td>3235</td>\n",
       "    </tr>\n",
       "    <tr>\n",
       "      <th>COMMERCIAL</th>\n",
       "      <td>12665</td>\n",
       "      <td>29</td>\n",
       "      <td>25</td>\n",
       "      <td>303</td>\n",
       "    </tr>\n",
       "    <tr>\n",
       "      <th>GARAGE - COMMERCIAL</th>\n",
       "      <td>108</td>\n",
       "      <td>25</td>\n",
       "      <td>27</td>\n",
       "      <td>63</td>\n",
       "    </tr>\n",
       "    <tr>\n",
       "      <th>GARAGE - RESIDENTIAL</th>\n",
       "      <td>584</td>\n",
       "      <td>514</td>\n",
       "      <td>514</td>\n",
       "      <td>547</td>\n",
       "    </tr>\n",
       "    <tr>\n",
       "      <th>HOTEL</th>\n",
       "      <td>127</td>\n",
       "      <td>1</td>\n",
       "      <td>0</td>\n",
       "      <td>110</td>\n",
       "    </tr>\n",
       "    <tr>\n",
       "      <th>INDUSTRIAL</th>\n",
       "      <td>4082</td>\n",
       "      <td>4</td>\n",
       "      <td>4</td>\n",
       "      <td>589</td>\n",
       "    </tr>\n",
       "    <tr>\n",
       "      <th>MIXED USE</th>\n",
       "      <td>14274</td>\n",
       "      <td>206</td>\n",
       "      <td>187</td>\n",
       "      <td>1152</td>\n",
       "    </tr>\n",
       "    <tr>\n",
       "      <th>MULTI FAMILY</th>\n",
       "      <td>41141</td>\n",
       "      <td>38354</td>\n",
       "      <td>37735</td>\n",
       "      <td>40755</td>\n",
       "    </tr>\n",
       "    <tr>\n",
       "      <th>OFFICES</th>\n",
       "      <td>863</td>\n",
       "      <td>3</td>\n",
       "      <td>3</td>\n",
       "      <td>720</td>\n",
       "    </tr>\n",
       "    <tr>\n",
       "      <th>RETAIL</th>\n",
       "      <td>29</td>\n",
       "      <td>2</td>\n",
       "      <td>2</td>\n",
       "      <td>12</td>\n",
       "    </tr>\n",
       "    <tr>\n",
       "      <th>SINGLE FAMILY</th>\n",
       "      <td>463587</td>\n",
       "      <td>463102</td>\n",
       "      <td>458978</td>\n",
       "      <td>463363</td>\n",
       "    </tr>\n",
       "    <tr>\n",
       "      <th>SPECIAL PURPOSE</th>\n",
       "      <td>35</td>\n",
       "      <td>11</td>\n",
       "      <td>11</td>\n",
       "      <td>18</td>\n",
       "    </tr>\n",
       "    <tr>\n",
       "      <th>VACANT LAND</th>\n",
       "      <td>41894</td>\n",
       "      <td>41894</td>\n",
       "      <td>41894</td>\n",
       "      <td>41894</td>\n",
       "    </tr>\n",
       "    <tr>\n",
       "      <th>VACANT LAND - NON-RESIDENTIAL</th>\n",
       "      <td>131</td>\n",
       "      <td>131</td>\n",
       "      <td>131</td>\n",
       "      <td>131</td>\n",
       "    </tr>\n",
       "    <tr>\n",
       "      <th>VACANT LAND - RESIDENTIAL</th>\n",
       "      <td>1090</td>\n",
       "      <td>1090</td>\n",
       "      <td>1090</td>\n",
       "      <td>1090</td>\n",
       "    </tr>\n",
       "  </tbody>\n",
       "</table>\n",
       "</div>"
      ],
      "text/plain": [
       "                              parcel_number number_of_bedrooms  \\\n",
       "                                      count              count   \n",
       "category_code_description                                        \n",
       "APARTMENTS  > 4 UNITS                  3476                 96   \n",
       "COMMERCIAL                            12665                 29   \n",
       "GARAGE - COMMERCIAL                     108                 25   \n",
       "GARAGE - RESIDENTIAL                    584                514   \n",
       "HOTEL                                   127                  1   \n",
       "INDUSTRIAL                             4082                  4   \n",
       "MIXED USE                             14274                206   \n",
       "MULTI FAMILY                          41141              38354   \n",
       "OFFICES                                 863                  3   \n",
       "RETAIL                                   29                  2   \n",
       "SINGLE FAMILY                        463587             463102   \n",
       "SPECIAL PURPOSE                          35                 11   \n",
       "VACANT LAND                           41894              41894   \n",
       "VACANT LAND - NON-RESIDENTIAL           131                131   \n",
       "VACANT LAND - RESIDENTIAL              1090               1090   \n",
       "\n",
       "                              number_of_bathrooms number_stories  \n",
       "                                            count          count  \n",
       "category_code_description                                         \n",
       "APARTMENTS  > 4 UNITS                          85           3235  \n",
       "COMMERCIAL                                     25            303  \n",
       "GARAGE - COMMERCIAL                            27             63  \n",
       "GARAGE - RESIDENTIAL                          514            547  \n",
       "HOTEL                                           0            110  \n",
       "INDUSTRIAL                                      4            589  \n",
       "MIXED USE                                     187           1152  \n",
       "MULTI FAMILY                                37735          40755  \n",
       "OFFICES                                         3            720  \n",
       "RETAIL                                          2             12  \n",
       "SINGLE FAMILY                              458978         463363  \n",
       "SPECIAL PURPOSE                                11             18  \n",
       "VACANT LAND                                 41894          41894  \n",
       "VACANT LAND - NON-RESIDENTIAL                 131            131  \n",
       "VACANT LAND - RESIDENTIAL                    1090           1090  "
      ]
     },
     "execution_count": 38,
     "metadata": {},
     "output_type": "execute_result"
    }
   ],
   "source": [
    "# counts by category code description\n",
    "prop_clean[['parcel_number','number_of_bedrooms','number_of_bathrooms','number_stories']].groupby(prop_clean.category_code_description).agg(['count']) "
   ]
  },
  {
   "cell_type": "code",
   "execution_count": 39,
   "id": "88b5de46",
   "metadata": {},
   "outputs": [
    {
     "data": {
      "text/html": [
       "<div>\n",
       "<style scoped>\n",
       "    .dataframe tbody tr th:only-of-type {\n",
       "        vertical-align: middle;\n",
       "    }\n",
       "\n",
       "    .dataframe tbody tr th {\n",
       "        vertical-align: top;\n",
       "    }\n",
       "\n",
       "    .dataframe thead tr th {\n",
       "        text-align: left;\n",
       "    }\n",
       "\n",
       "    .dataframe thead tr:last-of-type th {\n",
       "        text-align: right;\n",
       "    }\n",
       "</style>\n",
       "<table border=\"1\" class=\"dataframe\">\n",
       "  <thead>\n",
       "    <tr>\n",
       "      <th></th>\n",
       "      <th colspan=\"4\" halign=\"left\">number_of_bedrooms</th>\n",
       "    </tr>\n",
       "    <tr>\n",
       "      <th></th>\n",
       "      <th>count</th>\n",
       "      <th>mean</th>\n",
       "      <th>median</th>\n",
       "      <th>mode</th>\n",
       "    </tr>\n",
       "    <tr>\n",
       "      <th>category_code_description</th>\n",
       "      <th></th>\n",
       "      <th></th>\n",
       "      <th></th>\n",
       "      <th></th>\n",
       "    </tr>\n",
       "  </thead>\n",
       "  <tbody>\n",
       "    <tr>\n",
       "      <th>APARTMENTS  &gt; 4 UNITS</th>\n",
       "      <td>96</td>\n",
       "      <td>3.9375</td>\n",
       "      <td>3.0</td>\n",
       "      <td>0</td>\n",
       "    </tr>\n",
       "    <tr>\n",
       "      <th>COMMERCIAL</th>\n",
       "      <td>29</td>\n",
       "      <td>0.827586</td>\n",
       "      <td>0.0</td>\n",
       "      <td>0</td>\n",
       "    </tr>\n",
       "    <tr>\n",
       "      <th>GARAGE - COMMERCIAL</th>\n",
       "      <td>25</td>\n",
       "      <td>0.64</td>\n",
       "      <td>0.0</td>\n",
       "      <td>0</td>\n",
       "    </tr>\n",
       "    <tr>\n",
       "      <th>GARAGE - RESIDENTIAL</th>\n",
       "      <td>514</td>\n",
       "      <td>0.031128</td>\n",
       "      <td>0.0</td>\n",
       "      <td>0</td>\n",
       "    </tr>\n",
       "    <tr>\n",
       "      <th>HOTEL</th>\n",
       "      <td>1</td>\n",
       "      <td>8.0</td>\n",
       "      <td>8.0</td>\n",
       "      <td>8</td>\n",
       "    </tr>\n",
       "    <tr>\n",
       "      <th>INDUSTRIAL</th>\n",
       "      <td>4</td>\n",
       "      <td>0.75</td>\n",
       "      <td>0.0</td>\n",
       "      <td>0</td>\n",
       "    </tr>\n",
       "    <tr>\n",
       "      <th>MIXED USE</th>\n",
       "      <td>206</td>\n",
       "      <td>2.271845</td>\n",
       "      <td>3.0</td>\n",
       "      <td>0</td>\n",
       "    </tr>\n",
       "    <tr>\n",
       "      <th>MULTI FAMILY</th>\n",
       "      <td>38354</td>\n",
       "      <td>1.857329</td>\n",
       "      <td>0.0</td>\n",
       "      <td>0</td>\n",
       "    </tr>\n",
       "    <tr>\n",
       "      <th>OFFICES</th>\n",
       "      <td>3</td>\n",
       "      <td>0.0</td>\n",
       "      <td>0.0</td>\n",
       "      <td>0</td>\n",
       "    </tr>\n",
       "    <tr>\n",
       "      <th>RETAIL</th>\n",
       "      <td>2</td>\n",
       "      <td>1.0</td>\n",
       "      <td>1.0</td>\n",
       "      <td>[0, 2]</td>\n",
       "    </tr>\n",
       "    <tr>\n",
       "      <th>SINGLE FAMILY</th>\n",
       "      <td>463102</td>\n",
       "      <td>2.48916</td>\n",
       "      <td>3.0</td>\n",
       "      <td>3</td>\n",
       "    </tr>\n",
       "    <tr>\n",
       "      <th>SPECIAL PURPOSE</th>\n",
       "      <td>11</td>\n",
       "      <td>1.0</td>\n",
       "      <td>0.0</td>\n",
       "      <td>0</td>\n",
       "    </tr>\n",
       "    <tr>\n",
       "      <th>VACANT LAND</th>\n",
       "      <td>41894</td>\n",
       "      <td>0.006445</td>\n",
       "      <td>0.0</td>\n",
       "      <td>0</td>\n",
       "    </tr>\n",
       "    <tr>\n",
       "      <th>VACANT LAND - NON-RESIDENTIAL</th>\n",
       "      <td>131</td>\n",
       "      <td>0.0</td>\n",
       "      <td>0.0</td>\n",
       "      <td>0</td>\n",
       "    </tr>\n",
       "    <tr>\n",
       "      <th>VACANT LAND - RESIDENTIAL</th>\n",
       "      <td>1090</td>\n",
       "      <td>0.022936</td>\n",
       "      <td>0.0</td>\n",
       "      <td>0</td>\n",
       "    </tr>\n",
       "  </tbody>\n",
       "</table>\n",
       "</div>"
      ],
      "text/plain": [
       "                              number_of_bedrooms                         \n",
       "                                           count      mean median    mode\n",
       "category_code_description                                                \n",
       "APARTMENTS  > 4 UNITS                         96    3.9375    3.0       0\n",
       "COMMERCIAL                                    29  0.827586    0.0       0\n",
       "GARAGE - COMMERCIAL                           25      0.64    0.0       0\n",
       "GARAGE - RESIDENTIAL                         514  0.031128    0.0       0\n",
       "HOTEL                                          1       8.0    8.0       8\n",
       "INDUSTRIAL                                     4      0.75    0.0       0\n",
       "MIXED USE                                    206  2.271845    3.0       0\n",
       "MULTI FAMILY                               38354  1.857329    0.0       0\n",
       "OFFICES                                        3       0.0    0.0       0\n",
       "RETAIL                                         2       1.0    1.0  [0, 2]\n",
       "SINGLE FAMILY                             463102   2.48916    3.0       3\n",
       "SPECIAL PURPOSE                               11       1.0    0.0       0\n",
       "VACANT LAND                                41894  0.006445    0.0       0\n",
       "VACANT LAND - NON-RESIDENTIAL                131       0.0    0.0       0\n",
       "VACANT LAND - RESIDENTIAL                   1090  0.022936    0.0       0"
      ]
     },
     "execution_count": 39,
     "metadata": {},
     "output_type": "execute_result"
    }
   ],
   "source": [
    "# count, mean, and mode for number of bedrooms by building category\n",
    "prop_clean[['number_of_bedrooms']].groupby(prop_clean.category_code_description).agg(['count','mean', 'median', pd.Series.mode]) "
   ]
  },
  {
   "cell_type": "code",
   "execution_count": 40,
   "id": "81c0f8e6",
   "metadata": {},
   "outputs": [
    {
     "data": {
      "text/html": [
       "<div>\n",
       "<style scoped>\n",
       "    .dataframe tbody tr th:only-of-type {\n",
       "        vertical-align: middle;\n",
       "    }\n",
       "\n",
       "    .dataframe tbody tr th {\n",
       "        vertical-align: top;\n",
       "    }\n",
       "\n",
       "    .dataframe thead tr th {\n",
       "        text-align: left;\n",
       "    }\n",
       "\n",
       "    .dataframe thead tr:last-of-type th {\n",
       "        text-align: right;\n",
       "    }\n",
       "</style>\n",
       "<table border=\"1\" class=\"dataframe\">\n",
       "  <thead>\n",
       "    <tr>\n",
       "      <th></th>\n",
       "      <th colspan=\"4\" halign=\"left\">number_of_bathrooms</th>\n",
       "    </tr>\n",
       "    <tr>\n",
       "      <th></th>\n",
       "      <th>count</th>\n",
       "      <th>mean</th>\n",
       "      <th>median</th>\n",
       "      <th>mode</th>\n",
       "    </tr>\n",
       "    <tr>\n",
       "      <th>category_code_description</th>\n",
       "      <th></th>\n",
       "      <th></th>\n",
       "      <th></th>\n",
       "      <th></th>\n",
       "    </tr>\n",
       "  </thead>\n",
       "  <tbody>\n",
       "    <tr>\n",
       "      <th>APARTMENTS  &gt; 4 UNITS</th>\n",
       "      <td>85</td>\n",
       "      <td>2.317647</td>\n",
       "      <td>0.0</td>\n",
       "      <td>0</td>\n",
       "    </tr>\n",
       "    <tr>\n",
       "      <th>COMMERCIAL</th>\n",
       "      <td>25</td>\n",
       "      <td>0.32</td>\n",
       "      <td>0.0</td>\n",
       "      <td>0</td>\n",
       "    </tr>\n",
       "    <tr>\n",
       "      <th>GARAGE - COMMERCIAL</th>\n",
       "      <td>27</td>\n",
       "      <td>0.259259</td>\n",
       "      <td>0.0</td>\n",
       "      <td>0</td>\n",
       "    </tr>\n",
       "    <tr>\n",
       "      <th>GARAGE - RESIDENTIAL</th>\n",
       "      <td>514</td>\n",
       "      <td>0.013619</td>\n",
       "      <td>0.0</td>\n",
       "      <td>0</td>\n",
       "    </tr>\n",
       "    <tr>\n",
       "      <th>HOTEL</th>\n",
       "      <td>0</td>\n",
       "      <td>&lt;NA&gt;</td>\n",
       "      <td>&lt;NA&gt;</td>\n",
       "      <td>[]</td>\n",
       "    </tr>\n",
       "    <tr>\n",
       "      <th>INDUSTRIAL</th>\n",
       "      <td>4</td>\n",
       "      <td>0.25</td>\n",
       "      <td>0.0</td>\n",
       "      <td>0</td>\n",
       "    </tr>\n",
       "    <tr>\n",
       "      <th>MIXED USE</th>\n",
       "      <td>187</td>\n",
       "      <td>1.149733</td>\n",
       "      <td>1.0</td>\n",
       "      <td>0</td>\n",
       "    </tr>\n",
       "    <tr>\n",
       "      <th>MULTI FAMILY</th>\n",
       "      <td>37735</td>\n",
       "      <td>1.001034</td>\n",
       "      <td>0.0</td>\n",
       "      <td>0</td>\n",
       "    </tr>\n",
       "    <tr>\n",
       "      <th>OFFICES</th>\n",
       "      <td>3</td>\n",
       "      <td>0.0</td>\n",
       "      <td>0.0</td>\n",
       "      <td>0</td>\n",
       "    </tr>\n",
       "    <tr>\n",
       "      <th>RETAIL</th>\n",
       "      <td>2</td>\n",
       "      <td>0.5</td>\n",
       "      <td>0.5</td>\n",
       "      <td>[0, 1]</td>\n",
       "    </tr>\n",
       "    <tr>\n",
       "      <th>SINGLE FAMILY</th>\n",
       "      <td>458978</td>\n",
       "      <td>0.982903</td>\n",
       "      <td>1.0</td>\n",
       "      <td>1</td>\n",
       "    </tr>\n",
       "    <tr>\n",
       "      <th>SPECIAL PURPOSE</th>\n",
       "      <td>11</td>\n",
       "      <td>0.454545</td>\n",
       "      <td>0.0</td>\n",
       "      <td>0</td>\n",
       "    </tr>\n",
       "    <tr>\n",
       "      <th>VACANT LAND</th>\n",
       "      <td>41894</td>\n",
       "      <td>0.00265</td>\n",
       "      <td>0.0</td>\n",
       "      <td>0</td>\n",
       "    </tr>\n",
       "    <tr>\n",
       "      <th>VACANT LAND - NON-RESIDENTIAL</th>\n",
       "      <td>131</td>\n",
       "      <td>0.0</td>\n",
       "      <td>0.0</td>\n",
       "      <td>0</td>\n",
       "    </tr>\n",
       "    <tr>\n",
       "      <th>VACANT LAND - RESIDENTIAL</th>\n",
       "      <td>1090</td>\n",
       "      <td>0.006422</td>\n",
       "      <td>0.0</td>\n",
       "      <td>0</td>\n",
       "    </tr>\n",
       "  </tbody>\n",
       "</table>\n",
       "</div>"
      ],
      "text/plain": [
       "                              number_of_bathrooms                         \n",
       "                                            count      mean median    mode\n",
       "category_code_description                                                 \n",
       "APARTMENTS  > 4 UNITS                          85  2.317647    0.0       0\n",
       "COMMERCIAL                                     25      0.32    0.0       0\n",
       "GARAGE - COMMERCIAL                            27  0.259259    0.0       0\n",
       "GARAGE - RESIDENTIAL                          514  0.013619    0.0       0\n",
       "HOTEL                                           0      <NA>   <NA>      []\n",
       "INDUSTRIAL                                      4      0.25    0.0       0\n",
       "MIXED USE                                     187  1.149733    1.0       0\n",
       "MULTI FAMILY                                37735  1.001034    0.0       0\n",
       "OFFICES                                         3       0.0    0.0       0\n",
       "RETAIL                                          2       0.5    0.5  [0, 1]\n",
       "SINGLE FAMILY                              458978  0.982903    1.0       1\n",
       "SPECIAL PURPOSE                                11  0.454545    0.0       0\n",
       "VACANT LAND                                 41894   0.00265    0.0       0\n",
       "VACANT LAND - NON-RESIDENTIAL                 131       0.0    0.0       0\n",
       "VACANT LAND - RESIDENTIAL                    1090  0.006422    0.0       0"
      ]
     },
     "execution_count": 40,
     "metadata": {},
     "output_type": "execute_result"
    }
   ],
   "source": [
    "# count, mean, and mode for number of bathrooms by building category\n",
    "prop_clean[['number_of_bathrooms']].groupby(prop_clean.category_code_description).agg(['count','mean', 'median', pd.Series.mode]) "
   ]
  },
  {
   "cell_type": "code",
   "execution_count": 41,
   "id": "75f33c92",
   "metadata": {},
   "outputs": [
    {
     "data": {
      "text/html": [
       "<div>\n",
       "<style scoped>\n",
       "    .dataframe tbody tr th:only-of-type {\n",
       "        vertical-align: middle;\n",
       "    }\n",
       "\n",
       "    .dataframe tbody tr th {\n",
       "        vertical-align: top;\n",
       "    }\n",
       "\n",
       "    .dataframe thead tr th {\n",
       "        text-align: left;\n",
       "    }\n",
       "\n",
       "    .dataframe thead tr:last-of-type th {\n",
       "        text-align: right;\n",
       "    }\n",
       "</style>\n",
       "<table border=\"1\" class=\"dataframe\">\n",
       "  <thead>\n",
       "    <tr>\n",
       "      <th></th>\n",
       "      <th colspan=\"4\" halign=\"left\">number_stories</th>\n",
       "    </tr>\n",
       "    <tr>\n",
       "      <th></th>\n",
       "      <th>count</th>\n",
       "      <th>mean</th>\n",
       "      <th>median</th>\n",
       "      <th>mode</th>\n",
       "    </tr>\n",
       "    <tr>\n",
       "      <th>category_code_description</th>\n",
       "      <th></th>\n",
       "      <th></th>\n",
       "      <th></th>\n",
       "      <th></th>\n",
       "    </tr>\n",
       "  </thead>\n",
       "  <tbody>\n",
       "    <tr>\n",
       "      <th>APARTMENTS  &gt; 4 UNITS</th>\n",
       "      <td>3235</td>\n",
       "      <td>3.868006</td>\n",
       "      <td>3.0</td>\n",
       "      <td>3</td>\n",
       "    </tr>\n",
       "    <tr>\n",
       "      <th>COMMERCIAL</th>\n",
       "      <td>303</td>\n",
       "      <td>2.09901</td>\n",
       "      <td>2.0</td>\n",
       "      <td>1</td>\n",
       "    </tr>\n",
       "    <tr>\n",
       "      <th>GARAGE - COMMERCIAL</th>\n",
       "      <td>63</td>\n",
       "      <td>2.761905</td>\n",
       "      <td>1.0</td>\n",
       "      <td>1</td>\n",
       "    </tr>\n",
       "    <tr>\n",
       "      <th>GARAGE - RESIDENTIAL</th>\n",
       "      <td>547</td>\n",
       "      <td>1.023766</td>\n",
       "      <td>1.0</td>\n",
       "      <td>1</td>\n",
       "    </tr>\n",
       "    <tr>\n",
       "      <th>HOTEL</th>\n",
       "      <td>110</td>\n",
       "      <td>8.672727</td>\n",
       "      <td>5.0</td>\n",
       "      <td>4</td>\n",
       "    </tr>\n",
       "    <tr>\n",
       "      <th>INDUSTRIAL</th>\n",
       "      <td>589</td>\n",
       "      <td>1.612903</td>\n",
       "      <td>1.0</td>\n",
       "      <td>1</td>\n",
       "    </tr>\n",
       "    <tr>\n",
       "      <th>MIXED USE</th>\n",
       "      <td>1152</td>\n",
       "      <td>2.583333</td>\n",
       "      <td>3.0</td>\n",
       "      <td>3</td>\n",
       "    </tr>\n",
       "    <tr>\n",
       "      <th>MULTI FAMILY</th>\n",
       "      <td>40755</td>\n",
       "      <td>2.375537</td>\n",
       "      <td>2.0</td>\n",
       "      <td>2</td>\n",
       "    </tr>\n",
       "    <tr>\n",
       "      <th>OFFICES</th>\n",
       "      <td>720</td>\n",
       "      <td>4.770833</td>\n",
       "      <td>3.0</td>\n",
       "      <td>1</td>\n",
       "    </tr>\n",
       "    <tr>\n",
       "      <th>RETAIL</th>\n",
       "      <td>12</td>\n",
       "      <td>1.75</td>\n",
       "      <td>1.5</td>\n",
       "      <td>1</td>\n",
       "    </tr>\n",
       "    <tr>\n",
       "      <th>SINGLE FAMILY</th>\n",
       "      <td>463363</td>\n",
       "      <td>1.914288</td>\n",
       "      <td>2.0</td>\n",
       "      <td>2</td>\n",
       "    </tr>\n",
       "    <tr>\n",
       "      <th>SPECIAL PURPOSE</th>\n",
       "      <td>18</td>\n",
       "      <td>2.111111</td>\n",
       "      <td>2.0</td>\n",
       "      <td>2</td>\n",
       "    </tr>\n",
       "    <tr>\n",
       "      <th>VACANT LAND</th>\n",
       "      <td>41894</td>\n",
       "      <td>0.006254</td>\n",
       "      <td>0.0</td>\n",
       "      <td>0</td>\n",
       "    </tr>\n",
       "    <tr>\n",
       "      <th>VACANT LAND - NON-RESIDENTIAL</th>\n",
       "      <td>131</td>\n",
       "      <td>0.0</td>\n",
       "      <td>0.0</td>\n",
       "      <td>0</td>\n",
       "    </tr>\n",
       "    <tr>\n",
       "      <th>VACANT LAND - RESIDENTIAL</th>\n",
       "      <td>1090</td>\n",
       "      <td>0.113761</td>\n",
       "      <td>0.0</td>\n",
       "      <td>0</td>\n",
       "    </tr>\n",
       "  </tbody>\n",
       "</table>\n",
       "</div>"
      ],
      "text/plain": [
       "                              number_stories                      \n",
       "                                       count      mean median mode\n",
       "category_code_description                                         \n",
       "APARTMENTS  > 4 UNITS                   3235  3.868006    3.0    3\n",
       "COMMERCIAL                               303   2.09901    2.0    1\n",
       "GARAGE - COMMERCIAL                       63  2.761905    1.0    1\n",
       "GARAGE - RESIDENTIAL                     547  1.023766    1.0    1\n",
       "HOTEL                                    110  8.672727    5.0    4\n",
       "INDUSTRIAL                               589  1.612903    1.0    1\n",
       "MIXED USE                               1152  2.583333    3.0    3\n",
       "MULTI FAMILY                           40755  2.375537    2.0    2\n",
       "OFFICES                                  720  4.770833    3.0    1\n",
       "RETAIL                                    12      1.75    1.5    1\n",
       "SINGLE FAMILY                         463363  1.914288    2.0    2\n",
       "SPECIAL PURPOSE                           18  2.111111    2.0    2\n",
       "VACANT LAND                            41894  0.006254    0.0    0\n",
       "VACANT LAND - NON-RESIDENTIAL            131       0.0    0.0    0\n",
       "VACANT LAND - RESIDENTIAL               1090  0.113761    0.0    0"
      ]
     },
     "execution_count": 41,
     "metadata": {},
     "output_type": "execute_result"
    }
   ],
   "source": [
    "# count, mean, and mode for number of stories by building category\n",
    "prop_clean[['number_stories']].groupby(prop_clean.category_code_description).agg(['count','mean', 'median', pd.Series.mode]) "
   ]
  },
  {
   "cell_type": "markdown",
   "id": "77c1a714",
   "metadata": {},
   "source": [
    "### Impute or drop missing values in the property dataset"
   ]
  },
  {
   "cell_type": "markdown",
   "id": "c5c632b5",
   "metadata": {},
   "source": [
    "We will impute the missing values of number of bedrooms, bathrooms, and stories with a stratified imputation. Based on subject matter knowledge, we will round the number of bedrooms down, the number of bathrooms up, and the number of stories to the closest digit to have interger counts."
   ]
  },
  {
   "cell_type": "code",
   "execution_count": 42,
   "id": "32b482db",
   "metadata": {},
   "outputs": [],
   "source": [
    "prop_clean.number_of_bedrooms = prop_clean.groupby('category_code_description')['number_of_bedrooms'].transform(lambda x: x.fillna(value= math.floor(x.mean())))"
   ]
  },
  {
   "cell_type": "code",
   "execution_count": 43,
   "id": "6f7bbda7",
   "metadata": {},
   "outputs": [],
   "source": [
    "prop_clean.number_of_bathrooms = prop_clean.groupby('category_code_description')['number_of_bathrooms'].transform(lambda x: x.fillna(math.ceil(x.mean())) if not pd.isna(x.mean()) else x)"
   ]
  },
  {
   "cell_type": "code",
   "execution_count": 44,
   "id": "e943d4e5",
   "metadata": {},
   "outputs": [],
   "source": [
    "prop_clean.number_stories = prop_clean.groupby('category_code_description')['number_stories'].transform(lambda x: x.fillna(value= round(x.mean())))"
   ]
  },
  {
   "cell_type": "code",
   "execution_count": 45,
   "id": "0eb217d6",
   "metadata": {},
   "outputs": [
    {
     "data": {
      "text/plain": [
       "parcel_number                   0\n",
       "category_code_description      17\n",
       "exterior_condition            804\n",
       "interior_condition            824\n",
       "homestead_exemption             0\n",
       "mailing_zip                  2513\n",
       "number_of_bathrooms           144\n",
       "number_of_bedrooms             17\n",
       "number_stories                 17\n",
       "sale_date                    2725\n",
       "sale_price                   2750\n",
       "total_area                    726\n",
       "total_livable_area            458\n",
       "unit                            0\n",
       "year_built                    455\n",
       "zip_code                      146\n",
       "dtype: int64"
      ]
     },
     "execution_count": 45,
     "metadata": {},
     "output_type": "execute_result"
    }
   ],
   "source": [
    "prop_clean.isna().sum()"
   ]
  },
  {
   "cell_type": "code",
   "execution_count": 46,
   "id": "4eff6a38",
   "metadata": {},
   "outputs": [
    {
     "data": {
      "text/plain": [
       "6365"
      ]
     },
     "execution_count": 46,
     "metadata": {},
     "output_type": "execute_result"
    }
   ],
   "source": [
    "# count the number of records that would be dropped if any records with missing values were dropped\n",
    "len(prop_clean[prop_clean.isna().any(axis = 'columns')])"
   ]
  },
  {
   "cell_type": "markdown",
   "id": "fad59e77",
   "metadata": {},
   "source": [
    "We will drop the rest of the records with missing values since missingness in the property dataset is a random or completely random and less then 5% of the records would be dropped."
   ]
  },
  {
   "cell_type": "code",
   "execution_count": 47,
   "id": "429f1e14",
   "metadata": {},
   "outputs": [],
   "source": [
    "# drop missing records\n",
    "prop_clean.dropna(inplace=True)"
   ]
  },
  {
   "cell_type": "code",
   "execution_count": 48,
   "id": "e3858bcc",
   "metadata": {},
   "outputs": [
    {
     "data": {
      "text/plain": [
       "parcel_number                0\n",
       "category_code_description    0\n",
       "exterior_condition           0\n",
       "interior_condition           0\n",
       "homestead_exemption          0\n",
       "mailing_zip                  0\n",
       "number_of_bathrooms          0\n",
       "number_of_bedrooms           0\n",
       "number_stories               0\n",
       "sale_date                    0\n",
       "sale_price                   0\n",
       "total_area                   0\n",
       "total_livable_area           0\n",
       "unit                         0\n",
       "year_built                   0\n",
       "zip_code                     0\n",
       "dtype: int64"
      ]
     },
     "execution_count": 48,
     "metadata": {},
     "output_type": "execute_result"
    }
   ],
   "source": [
    "# check missing values\n",
    "prop_clean.isna().sum()"
   ]
  },
  {
   "cell_type": "markdown",
   "id": "ecb7a74c",
   "metadata": {},
   "source": [
    "## Handle missing values in the Property Assessment dataset"
   ]
  },
  {
   "cell_type": "code",
   "execution_count": 49,
   "id": "c879b0e7",
   "metadata": {},
   "outputs": [
    {
     "data": {
      "text/plain": [
       "parcel_number       0\n",
       "year                0\n",
       "market_value        0\n",
       "taxable_land        1\n",
       "taxable_building    3\n",
       "exempt_land         0\n",
       "exempt_building     0\n",
       "taxable             4\n",
       "exempt              0\n",
       "taxable_1yr         5\n",
       "exempt_1yr          0\n",
       "taxable_3yr         2\n",
       "exempt_3yr          0\n",
       "taxable_5yr         1\n",
       "exempt_5yr          0\n",
       "dtype: int64"
      ]
     },
     "execution_count": 49,
     "metadata": {},
     "output_type": "execute_result"
    }
   ],
   "source": [
    "assess_clean.isna().sum()"
   ]
  },
  {
   "cell_type": "code",
   "execution_count": 50,
   "id": "23a6b33a",
   "metadata": {},
   "outputs": [
    {
     "data": {
      "text/html": [
       "<div>\n",
       "<style scoped>\n",
       "    .dataframe tbody tr th:only-of-type {\n",
       "        vertical-align: middle;\n",
       "    }\n",
       "\n",
       "    .dataframe tbody tr th {\n",
       "        vertical-align: top;\n",
       "    }\n",
       "\n",
       "    .dataframe thead th {\n",
       "        text-align: right;\n",
       "    }\n",
       "</style>\n",
       "<table border=\"1\" class=\"dataframe\">\n",
       "  <thead>\n",
       "    <tr style=\"text-align: right;\">\n",
       "      <th></th>\n",
       "      <th>parcel_number</th>\n",
       "      <th>year</th>\n",
       "      <th>market_value</th>\n",
       "      <th>taxable_land</th>\n",
       "      <th>taxable_building</th>\n",
       "      <th>exempt_land</th>\n",
       "      <th>exempt_building</th>\n",
       "      <th>taxable</th>\n",
       "      <th>exempt</th>\n",
       "      <th>taxable_1yr</th>\n",
       "      <th>exempt_1yr</th>\n",
       "      <th>taxable_3yr</th>\n",
       "      <th>exempt_3yr</th>\n",
       "      <th>taxable_5yr</th>\n",
       "      <th>exempt_5yr</th>\n",
       "    </tr>\n",
       "  </thead>\n",
       "  <tbody>\n",
       "    <tr>\n",
       "      <th>1263613</th>\n",
       "      <td>191397500</td>\n",
       "      <td>2023</td>\n",
       "      <td>408000</td>\n",
       "      <td>89700.0</td>\n",
       "      <td>NaN</td>\n",
       "      <td>318300.0</td>\n",
       "      <td>0.0</td>\n",
       "      <td>NaN</td>\n",
       "      <td>318300.0</td>\n",
       "      <td>59800.0</td>\n",
       "      <td>0.0</td>\n",
       "      <td>59800.0</td>\n",
       "      <td>0.0</td>\n",
       "      <td>59800.0</td>\n",
       "      <td>0.0</td>\n",
       "    </tr>\n",
       "    <tr>\n",
       "      <th>1337472</th>\n",
       "      <td>302150100</td>\n",
       "      <td>2023</td>\n",
       "      <td>256000</td>\n",
       "      <td>61200.0</td>\n",
       "      <td>NaN</td>\n",
       "      <td>194800.0</td>\n",
       "      <td>0.0</td>\n",
       "      <td>NaN</td>\n",
       "      <td>194800.0</td>\n",
       "      <td>61200.0</td>\n",
       "      <td>194800.0</td>\n",
       "      <td>61200.0</td>\n",
       "      <td>194800.0</td>\n",
       "      <td>256000.0</td>\n",
       "      <td>0.0</td>\n",
       "    </tr>\n",
       "    <tr>\n",
       "      <th>1688473</th>\n",
       "      <td>885948280</td>\n",
       "      <td>2023</td>\n",
       "      <td>317500</td>\n",
       "      <td>317500.0</td>\n",
       "      <td>NaN</td>\n",
       "      <td>0.0</td>\n",
       "      <td>0.0</td>\n",
       "      <td>NaN</td>\n",
       "      <td>0.0</td>\n",
       "      <td>245300.0</td>\n",
       "      <td>0.0</td>\n",
       "      <td>204417.0</td>\n",
       "      <td>40883.0</td>\n",
       "      <td>0.0</td>\n",
       "      <td>108900.0</td>\n",
       "    </tr>\n",
       "  </tbody>\n",
       "</table>\n",
       "</div>"
      ],
      "text/plain": [
       "         parcel_number  year  market_value  taxable_land  taxable_building  \\\n",
       "1263613      191397500  2023        408000       89700.0               NaN   \n",
       "1337472      302150100  2023        256000       61200.0               NaN   \n",
       "1688473      885948280  2023        317500      317500.0               NaN   \n",
       "\n",
       "         exempt_land  exempt_building  taxable    exempt  taxable_1yr  \\\n",
       "1263613     318300.0              0.0      NaN  318300.0      59800.0   \n",
       "1337472     194800.0              0.0      NaN  194800.0      61200.0   \n",
       "1688473          0.0              0.0      NaN       0.0     245300.0   \n",
       "\n",
       "         exempt_1yr  taxable_3yr  exempt_3yr  taxable_5yr  exempt_5yr  \n",
       "1263613         0.0      59800.0         0.0      59800.0         0.0  \n",
       "1337472    194800.0      61200.0    194800.0     256000.0         0.0  \n",
       "1688473         0.0     204417.0     40883.0          0.0    108900.0  "
      ]
     },
     "execution_count": 50,
     "metadata": {},
     "output_type": "execute_result"
    }
   ],
   "source": [
    "assess_clean[assess_clean.taxable_building.isna()]"
   ]
  },
  {
   "cell_type": "markdown",
   "id": "023adfbe",
   "metadata": {},
   "source": [
    "The final assessment table is the result of inner joins, so we have all properties that have an assessment for the past 5 years. Missing values here seem to be the result of input error so we will drop those records."
   ]
  },
  {
   "cell_type": "code",
   "execution_count": 51,
   "id": "2ac94c56",
   "metadata": {},
   "outputs": [],
   "source": [
    "assess_clean.dropna(inplace=True)"
   ]
  },
  {
   "cell_type": "markdown",
   "id": "82a47b70",
   "metadata": {},
   "source": [
    "## Handle missing values in the Delinquency dataframe"
   ]
  },
  {
   "cell_type": "markdown",
   "id": "da0494e5",
   "metadata": {},
   "source": [
    "The delinquency dataset has no missing values, as a missing value would indicate no Real Estate Tax delinquency,"
   ]
  },
  {
   "cell_type": "code",
   "execution_count": 52,
   "id": "56837457",
   "metadata": {},
   "outputs": [
    {
     "data": {
      "text/plain": [
       "parcel_number    0\n",
       "year             0\n",
       "total            0\n",
       "total_1yr        0\n",
       "total_2yr        0\n",
       "total_3yr        0\n",
       "total_4yr        0\n",
       "total_5yr        0\n",
       "dtype: int64"
      ]
     },
     "execution_count": 52,
     "metadata": {},
     "output_type": "execute_result"
    }
   ],
   "source": [
    "delinq_clean.isna().sum()"
   ]
  },
  {
   "cell_type": "markdown",
   "id": "d2f36fb7",
   "metadata": {},
   "source": [
    "## Outlier Detection"
   ]
  },
  {
   "cell_type": "markdown",
   "id": "abff86e3",
   "metadata": {},
   "source": [
    "### Visualize the distribution of numeric variables using boxplots"
   ]
  },
  {
   "cell_type": "code",
   "execution_count": 53,
   "id": "9707a9e7",
   "metadata": {},
   "outputs": [
    {
     "data": {
      "image/png": "[encoded data removed]",
      "text/plain": [
       "<Figure size 1600x400 with 6 Axes>"
      ]
     },
     "metadata": {},
     "output_type": "display_data"
    }
   ],
   "source": [
    "# Property df boxplots\n",
    "columns_for_boxplots = ['number_of_bathrooms', 'number_of_bedrooms', 'number_stories', 'sale_price', 'total_area', 'total_livable_area']\n",
    "\n",
    "# set figure and axis\n",
    "fig, ax = plt.subplots(nrows= 1, ncols= len(columns_for_boxplots), figsize= (16, 4))\n",
    "\n",
    "i = 0\n",
    "# iterate through all columns and add to figure\n",
    "for col in columns_for_boxplots:\n",
    "    prop_clean.boxplot(column=col, ax= ax[i]) \n",
    "    i += 1\n",
    "\n",
    "# display plot    \n",
    "plt.tight_layout()\n",
    "plt.show() "
   ]
  },
  {
   "cell_type": "code",
   "execution_count": 54,
   "id": "dffa32b1",
   "metadata": {},
   "outputs": [
    {
     "data": {
      "image/png": "[encoded data removed]",
      "text/plain": [
       "<Figure size 1600x400 with 5 Axes>"
      ]
     },
     "metadata": {},
     "output_type": "display_data"
    }
   ],
   "source": [
    "# Assessments boxplots\n",
    "columns_for_boxplots = ['market_value','taxable_land','taxable_building','exempt_land','exempt_building']\n",
    "\n",
    "# set figure and axis\n",
    "fig, ax = plt.subplots(nrows= 1, ncols= len(columns_for_boxplots), figsize= (16, 4))\n",
    "\n",
    "i = 0\n",
    "# iterate through all columns and add to figure\n",
    "for col in columns_for_boxplots:\n",
    "    assess_clean.boxplot(column=col, ax= ax[i])\n",
    "    i += 1\n",
    "\n",
    "# display plot\n",
    "plt.tight_layout()\n",
    "plt.show() "
   ]
  },
  {
   "cell_type": "code",
   "execution_count": 55,
   "id": "85eaf10d",
   "metadata": {},
   "outputs": [
    {
     "data": {
      "image/png": "[encoded data removed]",
      "text/plain": [
       "<Figure size 1600x400 with 6 Axes>"
      ]
     },
     "metadata": {},
     "output_type": "display_data"
    }
   ],
   "source": [
    "# Delinquency boxplots\n",
    "columns_for_boxplots = ['total','total_1yr','total_2yr','total_3yr','total_4yr','total_5yr']\n",
    "\n",
    "# set figure and axis\n",
    "fig, ax = plt.subplots(nrows= 1, ncols= len(columns_for_boxplots), figsize= (16, 4))\n",
    "\n",
    "i = 0\n",
    "# iterate through all columns and add to figure\n",
    "for col in columns_for_boxplots:\n",
    "    delinq_clean.boxplot(column=col, ax= ax[i])\n",
    "    i += 1\n",
    "\n",
    "# display plots    \n",
    "plt.tight_layout()\n",
    "plt.show() "
   ]
  },
  {
   "cell_type": "markdown",
   "id": "fd40e79b",
   "metadata": {},
   "source": [
    "## Normalize using Robust Scaler\n",
    "\n",
    "Across all three datasets, there is a significant presence of outliers in continous variables. To remedy this, we will apply a Robust Scaler. The RobustScaler normalizes using median and IQR which makes it more resilient to outliers."
   ]
  },
  {
   "cell_type": "code",
   "execution_count": 56,
   "id": "9c7386e9",
   "metadata": {},
   "outputs": [],
   "source": [
    "# create scaler\n",
    "scaler = RobustScaler()"
   ]
  },
  {
   "cell_type": "code",
   "execution_count": 57,
   "id": "b00c8cbc",
   "metadata": {},
   "outputs": [],
   "source": [
    "# create final dfs\n",
    "prop_final = prop_clean.copy(deep=True)\n",
    "assess_final = assess_clean.copy(deep=True)\n",
    "delinq_final = delinq_clean.copy(deep=True)"
   ]
  },
  {
   "cell_type": "code",
   "execution_count": 58,
   "id": "23d883ad",
   "metadata": {},
   "outputs": [],
   "source": [
    "# scale property characteristics\n",
    "continuous_vars_prop = ['number_of_bathrooms', 'number_of_bedrooms', 'number_stories', 'sale_price', 'total_area', 'total_livable_area']\n",
    "prop_final[continuous_vars_prop] = scaler.fit_transform(prop_final[continuous_vars_prop])"
   ]
  },
  {
   "cell_type": "code",
   "execution_count": 59,
   "id": "6589b80a",
   "metadata": {},
   "outputs": [],
   "source": [
    "# scale assessment variables\n",
    "continuous_vars_assess = assess_final.loc[:,'market_value':].columns\n",
    "assess_final[continuous_vars_assess] = scaler.fit_transform(assess_final[continuous_vars_assess])"
   ]
  },
  {
   "cell_type": "code",
   "execution_count": 60,
   "id": "abf90f1f",
   "metadata": {},
   "outputs": [],
   "source": [
    "# scale delinquency variables\n",
    "continuous_vars_delinq = delinq_final.loc[:,'total':].columns\n",
    "delinq_final[continuous_vars_delinq] = scaler.fit_transform(delinq_final[continuous_vars_delinq])"
   ]
  },
  {
   "cell_type": "markdown",
   "id": "7913fa97",
   "metadata": {},
   "source": [
    "## Drop Values more than 3 IQR"
   ]
  },
  {
   "cell_type": "code",
   "execution_count": 61,
   "id": "e700559e",
   "metadata": {},
   "outputs": [],
   "source": [
    "prop_final[continuous_vars_prop] = prop_final[continuous_vars_prop].clip(-3,3)\n",
    "assess_final[continuous_vars_assess] = assess_final[continuous_vars_assess].clip(-3,3)\n",
    "delinq_final[continuous_vars_delinq] = delinq_final[continuous_vars_delinq].clip(-3,3)"
   ]
  },
  {
   "cell_type": "markdown",
   "id": "a1bb02d3",
   "metadata": {},
   "source": [
    "## Examine skewness"
   ]
  },
  {
   "cell_type": "code",
   "execution_count": 64,
   "id": "46ad9601",
   "metadata": {},
   "outputs": [
    {
     "data": {
      "text/plain": [
       "number_of_bathrooms    0.884566\n",
       "number_of_bedrooms    -0.168433\n",
       "number_stories        -0.507437\n",
       "sale_price             1.613958\n",
       "total_area             1.255527\n",
       "total_livable_area     0.444600\n",
       "dtype: float64"
      ]
     },
     "execution_count": 64,
     "metadata": {},
     "output_type": "execute_result"
    }
   ],
   "source": [
    "prop_final[['number_of_bathrooms', 'number_of_bedrooms', 'number_stories', 'sale_price', 'total_area', 'total_livable_area']].skew()"
   ]
  },
  {
   "cell_type": "code",
   "execution_count": 65,
   "id": "2b3313dd",
   "metadata": {},
   "outputs": [
    {
     "data": {
      "text/plain": [
       "market_value        1.421937\n",
       "taxable_land        1.466294\n",
       "taxable_building    1.455556\n",
       "exempt_land         2.802508\n",
       "exempt_building     1.456891\n",
       "dtype: float64"
      ]
     },
     "execution_count": 65,
     "metadata": {},
     "output_type": "execute_result"
    }
   ],
   "source": [
    "assess_final[['market_value','taxable_land','taxable_building','exempt_land','exempt_building']].skew()"
   ]
  },
  {
   "cell_type": "code",
   "execution_count": 66,
   "id": "80c7ac13",
   "metadata": {},
   "outputs": [
    {
     "data": {
      "text/plain": [
       "total        1.500018\n",
       "total_1yr    1.490852\n",
       "total_2yr    1.397347\n",
       "total_3yr    1.355232\n",
       "total_4yr    1.302326\n",
       "total_5yr    1.194112\n",
       "dtype: float64"
      ]
     },
     "execution_count": 66,
     "metadata": {},
     "output_type": "execute_result"
    }
   ],
   "source": [
    "delinq_final[['total','total_1yr','total_2yr','total_3yr','total_4yr','total_5yr']].skew()"
   ]
  },
  {
   "cell_type": "markdown",
   "id": "3da84aa5",
   "metadata": {},
   "source": [
    "## Join dataframes"
   ]
  },
  {
   "cell_type": "code",
   "execution_count": 79,
   "id": "073ec20b",
   "metadata": {},
   "outputs": [
    {
     "data": {
      "text/plain": [
       "(813883, 8)"
      ]
     },
     "execution_count": 79,
     "metadata": {},
     "output_type": "execute_result"
    }
   ],
   "source": [
    "delinq_final.shape"
   ]
  },
  {
   "cell_type": "code",
   "execution_count": 89,
   "id": "1f45a434",
   "metadata": {},
   "outputs": [
    {
     "data": {
      "text/plain": [
       "array([2015, 2016, 2017, 2018, 2019, 2020, 2021, 2022, 2023, 2024])"
      ]
     },
     "execution_count": 89,
     "metadata": {},
     "output_type": "execute_result"
    }
   ],
   "source": [
    "delinq_final.year.unique()"
   ]
  },
  {
   "cell_type": "code",
   "execution_count": 84,
   "id": "f33c411a",
   "metadata": {},
   "outputs": [],
   "source": [
    "final = delinq_final.copy(deep=True)\n",
    "final = pd.merge(final, prop_final, on=\"parcel_number\", how=\"inner\")\n",
    "final = pd.merge(final, assess_final, on=[\"parcel_number\",\"year\"], how=\"inner\")"
   ]
  },
  {
   "cell_type": "code",
   "execution_count": 85,
   "id": "51ecebde",
   "metadata": {},
   "outputs": [
    {
     "data": {
      "text/plain": [
       "(359301, 46)"
      ]
     },
     "execution_count": 85,
     "metadata": {},
     "output_type": "execute_result"
    }
   ],
   "source": [
    "final.shape"
   ]
  },
  {
   "cell_type": "code",
   "execution_count": 86,
   "id": "3948059e",
   "metadata": {},
   "outputs": [
    {
     "data": {
      "text/html": [
       "<div>\n",
       "<style scoped>\n",
       "    .dataframe tbody tr th:only-of-type {\n",
       "        vertical-align: middle;\n",
       "    }\n",
       "\n",
       "    .dataframe tbody tr th {\n",
       "        vertical-align: top;\n",
       "    }\n",
       "\n",
       "    .dataframe thead th {\n",
       "        text-align: right;\n",
       "    }\n",
       "</style>\n",
       "<table border=\"1\" class=\"dataframe\">\n",
       "  <thead>\n",
       "    <tr style=\"text-align: right;\">\n",
       "      <th></th>\n",
       "      <th>parcel_number</th>\n",
       "      <th>year</th>\n",
       "      <th>total</th>\n",
       "      <th>total_1yr</th>\n",
       "      <th>total_2yr</th>\n",
       "      <th>total_3yr</th>\n",
       "      <th>total_4yr</th>\n",
       "      <th>total_5yr</th>\n",
       "      <th>exterior_condition</th>\n",
       "      <th>interior_condition</th>\n",
       "      <th>...</th>\n",
       "      <th>exempt_land</th>\n",
       "      <th>exempt_building</th>\n",
       "      <th>taxable</th>\n",
       "      <th>exempt</th>\n",
       "      <th>taxable_1yr</th>\n",
       "      <th>exempt_1yr</th>\n",
       "      <th>taxable_3yr</th>\n",
       "      <th>exempt_3yr</th>\n",
       "      <th>taxable_5yr</th>\n",
       "      <th>exempt_5yr</th>\n",
       "    </tr>\n",
       "  </thead>\n",
       "  <tbody>\n",
       "    <tr>\n",
       "      <th>316186</th>\n",
       "      <td>331081200</td>\n",
       "      <td>2024</td>\n",
       "      <td>-0.008934</td>\n",
       "      <td>0.121852</td>\n",
       "      <td>0.321036</td>\n",
       "      <td>0.503583</td>\n",
       "      <td>0.791406</td>\n",
       "      <td>3.000000</td>\n",
       "      <td>10.0</td>\n",
       "      <td>9.0</td>\n",
       "      <td>...</td>\n",
       "      <td>0.0</td>\n",
       "      <td>0.000000</td>\n",
       "      <td>-0.572395</td>\n",
       "      <td>0.0000</td>\n",
       "      <td>-0.547965</td>\n",
       "      <td>0.000000</td>\n",
       "      <td>-0.741377</td>\n",
       "      <td>0.000000</td>\n",
       "      <td>-0.760638</td>\n",
       "      <td>0.000000</td>\n",
       "    </tr>\n",
       "    <tr>\n",
       "      <th>328877</th>\n",
       "      <td>411000400</td>\n",
       "      <td>2024</td>\n",
       "      <td>-0.357729</td>\n",
       "      <td>-0.174543</td>\n",
       "      <td>-0.025869</td>\n",
       "      <td>0.000000</td>\n",
       "      <td>0.000000</td>\n",
       "      <td>0.000000</td>\n",
       "      <td>10.0</td>\n",
       "      <td>9.0</td>\n",
       "      <td>...</td>\n",
       "      <td>0.0</td>\n",
       "      <td>0.000000</td>\n",
       "      <td>-0.706360</td>\n",
       "      <td>0.0000</td>\n",
       "      <td>-0.691860</td>\n",
       "      <td>0.000000</td>\n",
       "      <td>-0.690190</td>\n",
       "      <td>0.000000</td>\n",
       "      <td>-0.705674</td>\n",
       "      <td>0.000000</td>\n",
       "    </tr>\n",
       "    <tr>\n",
       "      <th>203253</th>\n",
       "      <td>661173000</td>\n",
       "      <td>2022</td>\n",
       "      <td>-0.325053</td>\n",
       "      <td>1.142320</td>\n",
       "      <td>0.758874</td>\n",
       "      <td>0.000000</td>\n",
       "      <td>0.000000</td>\n",
       "      <td>0.000000</td>\n",
       "      <td>4.0</td>\n",
       "      <td>4.0</td>\n",
       "      <td>...</td>\n",
       "      <td>0.0</td>\n",
       "      <td>0.711125</td>\n",
       "      <td>0.193505</td>\n",
       "      <td>0.5625</td>\n",
       "      <td>0.274709</td>\n",
       "      <td>1.000000</td>\n",
       "      <td>0.357479</td>\n",
       "      <td>0.892857</td>\n",
       "      <td>0.376773</td>\n",
       "      <td>1.000000</td>\n",
       "    </tr>\n",
       "    <tr>\n",
       "      <th>13693</th>\n",
       "      <td>132330650</td>\n",
       "      <td>2020</td>\n",
       "      <td>2.878115</td>\n",
       "      <td>3.000000</td>\n",
       "      <td>3.000000</td>\n",
       "      <td>3.000000</td>\n",
       "      <td>3.000000</td>\n",
       "      <td>3.000000</td>\n",
       "      <td>4.0</td>\n",
       "      <td>4.0</td>\n",
       "      <td>...</td>\n",
       "      <td>3.0</td>\n",
       "      <td>0.600395</td>\n",
       "      <td>-0.790257</td>\n",
       "      <td>0.5575</td>\n",
       "      <td>-0.758721</td>\n",
       "      <td>0.888889</td>\n",
       "      <td>-0.406189</td>\n",
       "      <td>0.000000</td>\n",
       "      <td>-0.400709</td>\n",
       "      <td>0.000000</td>\n",
       "    </tr>\n",
       "    <tr>\n",
       "      <th>218075</th>\n",
       "      <td>122062000</td>\n",
       "      <td>2023</td>\n",
       "      <td>3.000000</td>\n",
       "      <td>3.000000</td>\n",
       "      <td>3.000000</td>\n",
       "      <td>3.000000</td>\n",
       "      <td>3.000000</td>\n",
       "      <td>3.000000</td>\n",
       "      <td>5.0</td>\n",
       "      <td>4.0</td>\n",
       "      <td>...</td>\n",
       "      <td>0.0</td>\n",
       "      <td>1.264223</td>\n",
       "      <td>-0.504060</td>\n",
       "      <td>1.0000</td>\n",
       "      <td>-0.556686</td>\n",
       "      <td>1.000000</td>\n",
       "      <td>-0.536631</td>\n",
       "      <td>1.004464</td>\n",
       "      <td>-0.048759</td>\n",
       "      <td>0.000000</td>\n",
       "    </tr>\n",
       "    <tr>\n",
       "      <th>115188</th>\n",
       "      <td>442051500</td>\n",
       "      <td>2021</td>\n",
       "      <td>-0.093008</td>\n",
       "      <td>-0.094962</td>\n",
       "      <td>-0.025869</td>\n",
       "      <td>0.000000</td>\n",
       "      <td>0.000000</td>\n",
       "      <td>0.000000</td>\n",
       "      <td>4.0</td>\n",
       "      <td>4.0</td>\n",
       "      <td>...</td>\n",
       "      <td>0.0</td>\n",
       "      <td>0.000000</td>\n",
       "      <td>-0.469553</td>\n",
       "      <td>0.0000</td>\n",
       "      <td>-0.437500</td>\n",
       "      <td>0.000000</td>\n",
       "      <td>-0.449119</td>\n",
       "      <td>0.000000</td>\n",
       "      <td>-0.446809</td>\n",
       "      <td>0.000000</td>\n",
       "    </tr>\n",
       "    <tr>\n",
       "      <th>291247</th>\n",
       "      <td>102299400</td>\n",
       "      <td>2024</td>\n",
       "      <td>2.533143</td>\n",
       "      <td>2.994293</td>\n",
       "      <td>3.000000</td>\n",
       "      <td>3.000000</td>\n",
       "      <td>3.000000</td>\n",
       "      <td>3.000000</td>\n",
       "      <td>4.0</td>\n",
       "      <td>4.0</td>\n",
       "      <td>...</td>\n",
       "      <td>0.0</td>\n",
       "      <td>1.264223</td>\n",
       "      <td>0.476996</td>\n",
       "      <td>1.0000</td>\n",
       "      <td>0.579215</td>\n",
       "      <td>1.777778</td>\n",
       "      <td>0.449945</td>\n",
       "      <td>1.004464</td>\n",
       "      <td>0.639184</td>\n",
       "      <td>1.333333</td>\n",
       "    </tr>\n",
       "    <tr>\n",
       "      <th>215102</th>\n",
       "      <td>102187100</td>\n",
       "      <td>2023</td>\n",
       "      <td>-0.365704</td>\n",
       "      <td>-0.187766</td>\n",
       "      <td>-0.005303</td>\n",
       "      <td>0.000000</td>\n",
       "      <td>0.075924</td>\n",
       "      <td>0.000000</td>\n",
       "      <td>4.0</td>\n",
       "      <td>4.0</td>\n",
       "      <td>...</td>\n",
       "      <td>0.0</td>\n",
       "      <td>1.264223</td>\n",
       "      <td>0.000677</td>\n",
       "      <td>1.0000</td>\n",
       "      <td>-0.006541</td>\n",
       "      <td>1.000000</td>\n",
       "      <td>0.088338</td>\n",
       "      <td>1.004464</td>\n",
       "      <td>0.140071</td>\n",
       "      <td>1.000000</td>\n",
       "    </tr>\n",
       "    <tr>\n",
       "      <th>237995</th>\n",
       "      <td>321140100</td>\n",
       "      <td>2023</td>\n",
       "      <td>0.219997</td>\n",
       "      <td>-0.216238</td>\n",
       "      <td>-0.025869</td>\n",
       "      <td>1.721599</td>\n",
       "      <td>3.000000</td>\n",
       "      <td>0.000000</td>\n",
       "      <td>4.0</td>\n",
       "      <td>4.0</td>\n",
       "      <td>...</td>\n",
       "      <td>0.0</td>\n",
       "      <td>0.000000</td>\n",
       "      <td>0.719215</td>\n",
       "      <td>0.0000</td>\n",
       "      <td>0.773256</td>\n",
       "      <td>0.000000</td>\n",
       "      <td>0.974192</td>\n",
       "      <td>0.000000</td>\n",
       "      <td>0.957447</td>\n",
       "      <td>0.000000</td>\n",
       "    </tr>\n",
       "    <tr>\n",
       "      <th>289493</th>\n",
       "      <td>33222500</td>\n",
       "      <td>2024</td>\n",
       "      <td>-0.149673</td>\n",
       "      <td>0.015404</td>\n",
       "      <td>0.218634</td>\n",
       "      <td>0.182499</td>\n",
       "      <td>0.362523</td>\n",
       "      <td>2.073345</td>\n",
       "      <td>4.0</td>\n",
       "      <td>4.0</td>\n",
       "      <td>...</td>\n",
       "      <td>3.0</td>\n",
       "      <td>1.136536</td>\n",
       "      <td>-0.723275</td>\n",
       "      <td>1.0000</td>\n",
       "      <td>-0.710029</td>\n",
       "      <td>1.777778</td>\n",
       "      <td>-0.588643</td>\n",
       "      <td>1.004464</td>\n",
       "      <td>-0.600177</td>\n",
       "      <td>1.333333</td>\n",
       "    </tr>\n",
       "  </tbody>\n",
       "</table>\n",
       "<p>10 rows × 46 columns</p>\n",
       "</div>"
      ],
      "text/plain": [
       "        parcel_number  year     total  total_1yr  total_2yr  total_3yr  \\\n",
       "316186      331081200  2024 -0.008934   0.121852   0.321036   0.503583   \n",
       "328877      411000400  2024 -0.357729  -0.174543  -0.025869   0.000000   \n",
       "203253      661173000  2022 -0.325053   1.142320   0.758874   0.000000   \n",
       "13693       132330650  2020  2.878115   3.000000   3.000000   3.000000   \n",
       "218075      122062000  2023  3.000000   3.000000   3.000000   3.000000   \n",
       "115188      442051500  2021 -0.093008  -0.094962  -0.025869   0.000000   \n",
       "291247      102299400  2024  2.533143   2.994293   3.000000   3.000000   \n",
       "215102      102187100  2023 -0.365704  -0.187766  -0.005303   0.000000   \n",
       "237995      321140100  2023  0.219997  -0.216238  -0.025869   1.721599   \n",
       "289493       33222500  2024 -0.149673   0.015404   0.218634   0.182499   \n",
       "\n",
       "        total_4yr  total_5yr  exterior_condition  interior_condition  ...  \\\n",
       "316186   0.791406   3.000000                10.0                 9.0  ...   \n",
       "328877   0.000000   0.000000                10.0                 9.0  ...   \n",
       "203253   0.000000   0.000000                 4.0                 4.0  ...   \n",
       "13693    3.000000   3.000000                 4.0                 4.0  ...   \n",
       "218075   3.000000   3.000000                 5.0                 4.0  ...   \n",
       "115188   0.000000   0.000000                 4.0                 4.0  ...   \n",
       "291247   3.000000   3.000000                 4.0                 4.0  ...   \n",
       "215102   0.075924   0.000000                 4.0                 4.0  ...   \n",
       "237995   3.000000   0.000000                 4.0                 4.0  ...   \n",
       "289493   0.362523   2.073345                 4.0                 4.0  ...   \n",
       "\n",
       "        exempt_land  exempt_building   taxable  exempt taxable_1yr  \\\n",
       "316186          0.0         0.000000 -0.572395  0.0000   -0.547965   \n",
       "328877          0.0         0.000000 -0.706360  0.0000   -0.691860   \n",
       "203253          0.0         0.711125  0.193505  0.5625    0.274709   \n",
       "13693           3.0         0.600395 -0.790257  0.5575   -0.758721   \n",
       "218075          0.0         1.264223 -0.504060  1.0000   -0.556686   \n",
       "115188          0.0         0.000000 -0.469553  0.0000   -0.437500   \n",
       "291247          0.0         1.264223  0.476996  1.0000    0.579215   \n",
       "215102          0.0         1.264223  0.000677  1.0000   -0.006541   \n",
       "237995          0.0         0.000000  0.719215  0.0000    0.773256   \n",
       "289493          3.0         1.136536 -0.723275  1.0000   -0.710029   \n",
       "\n",
       "        exempt_1yr  taxable_3yr  exempt_3yr  taxable_5yr exempt_5yr  \n",
       "316186    0.000000    -0.741377    0.000000    -0.760638   0.000000  \n",
       "328877    0.000000    -0.690190    0.000000    -0.705674   0.000000  \n",
       "203253    1.000000     0.357479    0.892857     0.376773   1.000000  \n",
       "13693     0.888889    -0.406189    0.000000    -0.400709   0.000000  \n",
       "218075    1.000000    -0.536631    1.004464    -0.048759   0.000000  \n",
       "115188    0.000000    -0.449119    0.000000    -0.446809   0.000000  \n",
       "291247    1.777778     0.449945    1.004464     0.639184   1.333333  \n",
       "215102    1.000000     0.088338    1.004464     0.140071   1.000000  \n",
       "237995    0.000000     0.974192    0.000000     0.957447   0.000000  \n",
       "289493    1.777778    -0.588643    1.004464    -0.600177   1.333333  \n",
       "\n",
       "[10 rows x 46 columns]"
      ]
     },
     "execution_count": 86,
     "metadata": {},
     "output_type": "execute_result"
    }
   ],
   "source": [
    "final.sample(10)"
   ]
  },
  {
   "cell_type": "markdown",
   "id": "e95551fa",
   "metadata": {},
   "source": [
    "# Feature Extraction"
   ]
  },
  {
   "cell_type": "code",
   "execution_count": 70,
   "id": "b73dd010",
   "metadata": {},
   "outputs": [
    {
     "data": {
      "text/plain": [
       "parcel_number                         int64\n",
       "category_code_description            object\n",
       "exterior_condition                  float64\n",
       "interior_condition                  float64\n",
       "homestead_exemption                   int64\n",
       "mailing_zip                          object\n",
       "number_of_bathrooms                 float64\n",
       "number_of_bedrooms                  float64\n",
       "number_stories                      float64\n",
       "sale_date                    datetime64[ns]\n",
       "sale_price                          float64\n",
       "total_area                          float64\n",
       "total_livable_area                  float64\n",
       "unit                                  int64\n",
       "year_built                           object\n",
       "zip_code                             object\n",
       "dtype: object"
      ]
     },
     "execution_count": 70,
     "metadata": {},
     "output_type": "execute_result"
    }
   ],
   "source": [
    "prop_final.dtypes"
   ]
  },
  {
   "cell_type": "markdown",
   "id": "2e1836df",
   "metadata": {},
   "source": [
    "## Feature Engineer Input Variables"
   ]
  },
  {
   "cell_type": "code",
   "execution_count": null,
   "id": "bf7cb137",
   "metadata": {},
   "outputs": [
    {
     "data": {
      "text/plain": [
       "parcel_number                     int64\n",
       "exterior_condition              float64\n",
       "interior_condition              float64\n",
       "homestead_exemption                bool\n",
       "number_of_bathrooms             float64\n",
       "number_of_bedrooms              float64\n",
       "number_stories                  float64\n",
       "sale_date                datetime64[ns]\n",
       "sale_price                      float64\n",
       "total_area                      float64\n",
       "total_livable_area              float64\n",
       "unit                              int64\n",
       "year_built                       object\n",
       "zip_code                         object\n",
       "apartments__>_4_units              bool\n",
       "commercial                         bool\n",
       "garage                             bool\n",
       "industrial                         bool\n",
       "mixed_use                          bool\n",
       "multi_family                       bool\n",
       "offices                            bool\n",
       "retail                             bool\n",
       "single_family                      bool\n",
       "special_purpose                    bool\n",
       "vacant_land                        bool\n",
       "mailing_outside_city               bool\n",
       "dtype: object"
      ]
     },
     "execution_count": 78,
     "metadata": {},
     "output_type": "execute_result"
    }
   ],
   "source": [
    "# # reformat the category_code_description column and create dummies\n",
    "# prop_final.category_code_description = prop_final.category_code_description.apply(lambda x: None if x == None else x.split('-')[0].strip().replace(' ', '_').lower()) \n",
    "# prop_final = pd.get_dummies(prop_final, columns=['category_code_description'], prefix= '', prefix_sep='')\n",
    "\n",
    "# # create indicator for homestead exemption\n",
    "# prop_final.homestead_exemption = prop_final.homestead_exemption.apply(lambda x: False if x < 1 else True)\n",
    "\n",
    "# # create indicator for mailing zip outside of the city limits\n",
    "# prop_final['mailing_outside_city'] = prop_final.mailing_zip.apply(lambda x: False if x == None else (False if x[:3] == '191' else True))\n",
    "# prop_final.drop(columns=\"mailing_zip\", axis=1, inplace=True)\n",
    "\n",
    "# # indicator for whether a property has a condo unit\n",
    "# prop_final['condo'] = prop_final['unit'].apply(lambda x: False if x == None else True)\n",
    "# prop_final.drop(columns=\"unit\", axis=1, inplace=True)\n"
   ]
  },
  {
   "cell_type": "markdown",
   "id": "137c2409",
   "metadata": {},
   "source": [
    "## Correlation Analysis"
   ]
  },
  {
   "cell_type": "markdown",
   "id": "030aa310",
   "metadata": {},
   "source": [
    "# Data Exploration"
   ]
  }
 ],
 "metadata": {
  "kernelspec": {
   "display_name": "Python 3",
   "language": "python",
   "name": "python3"
  },
  "language_info": {
   "codemirror_mode": {
    "name": "ipython",
    "version": 3
   },
   "file_extension": ".py",
   "mimetype": "text/x-python",
   "name": "python",
   "nbconvert_exporter": "python",
   "pygments_lexer": "ipython3",
   "version": "3.13.2"
  }
 },
 "nbformat": 4,
 "nbformat_minor": 5
}
