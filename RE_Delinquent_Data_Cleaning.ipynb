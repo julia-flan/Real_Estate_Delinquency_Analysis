{
 "cells": [
  {
   "cell_type": "code",
   "execution_count": 1,
   "id": "a4c69a3a",
   "metadata": {},
   "outputs": [],
   "source": [
    "import requests\n",
    "import pandas as pd\n",
    "import numpy as np\n",
    "import json\n",
    "import time\n",
    "import matplotlib.pyplot as plt\n",
    "import seaborn as sns\n",
    "from sklearn.linear_model import LinearRegression"
   ]
  },
  {
   "cell_type": "code",
   "execution_count": 2,
   "id": "40eb062a",
   "metadata": {},
   "outputs": [],
   "source": [
    "pd.set_option('display.max_columns', 1000)"
   ]
  },
  {
   "cell_type": "markdown",
   "id": "9cd1aeea",
   "metadata": {},
   "source": [
    "# Data Extraction"
   ]
  },
  {
   "cell_type": "markdown",
   "id": "3be04e37",
   "metadata": {},
   "source": [
    "## Requesting Data from Open Data Philly\n",
    "\n",
    "The property characteristic and assessment history data in this analysis is sourced from [OpenDataPhilly]([https://opendataphilly.org/datasets/philadelphia-properties-and-assessment-history/), an online repository providing access to data about the Philadelphia region. The data is maintained by the City of Philadelhia's the Office of Property Assessment and contains records for all properties in Philadelphia.\n",
    "\n",
    "The Property and Property Assessment datasets published to Carto and available to query via [SQL API](https://phl.carto.com/api/v2/sql) using PostgreSQL.\n",
    "- **Property table**: opa_properties_public\n",
    "- **Property Assessment table**: assessments"
   ]
  },
  {
   "cell_type": "code",
   "execution_count": 3,
   "id": "38c87de9",
   "metadata": {},
   "outputs": [],
   "source": [
    "def requestOpenDataPhilly(query: str):\n",
    "    '''\n",
    "    Sends request to Open Data Philly's SQL API, and returns the results as a Pandas dataframe\n",
    "\n",
    "    Args:\n",
    "        query (str): query written in PostgreSQL\n",
    "\n",
    "    Return:\n",
    "        dataframe containing the results of the query\n",
    "    '''\n",
    "    print('Sending request to Open Data Philly API.')\n",
    "    url = 'https://phl.carto.com/api/v2/sql'\n",
    "    params = {'q':query}\n",
    "\n",
    "    # send request\n",
    "    response = requests.get(url, params=params)\n",
    "    print(f\"Open Data API Status Code: {response.status_code}\")\n",
    "    \n",
    "    # sleep\n",
    "    time.sleep(2)\n",
    "    \n",
    "    try:\n",
    "        # convert response to df\n",
    "        response_data = json.loads(str(response.text))                          \n",
    "        data = response_data['rows']        \n",
    "        print(f'Returning df for query: {query}.\\n')                                    \n",
    "        return pd.DataFrame.from_dict(data) \n",
    "    except:\n",
    "        return pd.DataFrame() \n",
    "\n",
    "\n"
   ]
  },
  {
   "cell_type": "code",
   "execution_count": 4,
   "id": "042f8c88",
   "metadata": {},
   "outputs": [],
   "source": [
    "# establish queries\n",
    "prop_query = \"SELECT * FROM opa_properties_public\" \n",
    "assess_2025 = \"SELECT * FROM assessments WHERE year = '2025'\"\n",
    "assess_2024 = \"SELECT * FROM assessments WHERE year = '2024'\"\n",
    "assess_2023 = \"SELECT * FROM assessments WHERE year = '2023'\"\n",
    "assess_2022 = \"SELECT * FROM assessments WHERE year = '2022'\"\n",
    "assess_2021 = \"SELECT * FROM assessments WHERE year = '2021'\"\n",
    "assess_2020 = \"SELECT * FROM assessments WHERE year = '2020'\"\n",
    "assess_2019 = \"SELECT * FROM assessments WHERE year = '2019'\"\n",
    "assess_2018 = \"SELECT * FROM assessments WHERE year = '2018'\"\n",
    "assess_2017 = \"SELECT * FROM assessments WHERE year = '2017'\"\n",
    "assess_2016 = \"SELECT * FROM assessments WHERE year = '2016'\"\n",
    "assess_2015 = \"SELECT * FROM assessments WHERE year = '2015'\""
   ]
  },
  {
   "cell_type": "code",
   "execution_count": 5,
   "id": "ec0c93b2",
   "metadata": {},
   "outputs": [],
   "source": [
    "# # get requests\n",
    "# prop = requestOpenDataPhilly(prop_query)\n",
    "# assess_2025 = requestOpenDataPhilly(assess_2025)\n",
    "# assess_2024 = requestOpenDataPhilly(assess_2024)\n",
    "# assess_2023 = requestOpenDataPhilly(assess_2023)\n",
    "# assess_2022 = requestOpenDataPhilly(assess_2022)\n",
    "# assess_2021 = requestOpenDataPhilly(assess_2021)\n",
    "# assess_2020 = requestOpenDataPhilly(assess_2020)\n",
    "# assess_2019 = requestOpenDataPhilly(assess_2019) \n",
    "# assess_2018 = requestOpenDataPhilly(assess_2018)  \n",
    "# assess_2017 = requestOpenDataPhilly(assess_2017)\n",
    "# assess_2016 = requestOpenDataPhilly(assess_2016)\n",
    "# assess_2015 = requestOpenDataPhilly(assess_2015)"
   ]
  },
  {
   "cell_type": "code",
   "execution_count": 6,
   "id": "1c99cf36",
   "metadata": {},
   "outputs": [],
   "source": [
    "# # export files\n",
    "# prop.to_csv(\"Data/properties.csv\", index=False)\n",
    "# assess_2025.to_csv(\"Data/assess_2025.csv\", index=False)\n",
    "# assess_2024.to_csv(\"Data/assess_2024.csv\", index=False)\n",
    "# assess_2023.to_csv(\"Data/assess_2023.csv\", index=False)\n",
    "# assess_2022.to_csv(\"Data/assess_2022.csv\", index=False)\n",
    "# assess_2021.to_csv(\"Data/assess_2021.csv\", index=False)\n",
    "# assess_2020.to_csv(\"Data/assess_2020.csv\", index=False)\n",
    "# assess_2019.to_csv(\"Data/assess_2019.csv\", index=False)\n",
    "# assess_2018.to_csv(\"Data/assess_2018.csv\", index=False)\n",
    "# assess_2017.to_csv(\"Data/assess_2017.csv\", index=False)\n",
    "# assess_2016.to_csv(\"Data/assess_2016.csv\", index=False)\n",
    "# assess_2015.to_csv(\"Data/assess_2015.csv\", index=False)\n"
   ]
  },
  {
   "cell_type": "code",
   "execution_count": 7,
   "id": "468aaabd",
   "metadata": {},
   "outputs": [
    {
     "name": "stderr",
     "output_type": "stream",
     "text": [
      "C:\\Users\\julia\\AppData\\Local\\Temp\\ipykernel_37132\\2771757085.py:2: DtypeWarning: Columns (6,18,27,29,78) have mixed types. Specify dtype option on import or set low_memory=False.\n",
      "  prop = pd.read_csv(\"Data/properties.csv\")\n"
     ]
    }
   ],
   "source": [
    "# read csvs\n",
    "prop = pd.read_csv(\"Data/properties.csv\")\n",
    "assess_2025 = pd.read_csv(\"Data/assess_2025.csv\")\n",
    "assess_2024 = pd.read_csv(\"Data/assess_2024.csv\")\n",
    "assess_2023 = pd.read_csv(\"Data/assess_2023.csv\")\n",
    "assess_2022 = pd.read_csv(\"Data/assess_2022.csv\")\n",
    "assess_2021 = pd.read_csv(\"Data/assess_2021.csv\")\n",
    "assess_2020 = pd.read_csv(\"Data/assess_2020.csv\")\n",
    "assess_2019 = pd.read_csv(\"Data/assess_2019.csv\")\n",
    "assess_2018 = pd.read_csv(\"Data/assess_2018.csv\")\n",
    "assess_2017 = pd.read_csv(\"Data/assess_2017.csv\")\n",
    "assess_2016 = pd.read_csv(\"Data/assess_2016.csv\")\n",
    "assess_2015 = pd.read_csv(\"Data/assess_2015.csv\")"
   ]
  },
  {
   "cell_type": "markdown",
   "id": "c86adbf0",
   "metadata": {},
   "source": [
    "## Retrieving Real Estate Delinquency Data\n",
    "\n",
    "Real Estate Delinquency data is available on Open Data Philly aggregated by location. To access this data at the parcel level, email Roman Stratkovsky <roman.stratkovsky@phila.gov>, Chief Data Intelligence Officer at the City of Philadelphia's Department of Revenue."
   ]
  },
  {
   "cell_type": "code",
   "execution_count": 8,
   "id": "32a90614",
   "metadata": {},
   "outputs": [],
   "source": [
    "delinq = pd.read_csv(\"Data/real_estate_delinquency.csv\")"
   ]
  },
  {
   "cell_type": "markdown",
   "id": "d1b7e4bf",
   "metadata": {},
   "source": [
    "# Data Cleaning"
   ]
  },
  {
   "cell_type": "markdown",
   "id": "f34a2da9",
   "metadata": {},
   "source": [
    "## Check the shape of each dataframe"
   ]
  },
  {
   "cell_type": "code",
   "execution_count": 9,
   "id": "8dbf1dba",
   "metadata": {},
   "outputs": [
    {
     "data": {
      "text/plain": [
       "(584103, 81)"
      ]
     },
     "execution_count": 9,
     "metadata": {},
     "output_type": "execute_result"
    }
   ],
   "source": [
    "# property df size\n",
    "prop.shape"
   ]
  },
  {
   "cell_type": "code",
   "execution_count": 10,
   "id": "d70158e5",
   "metadata": {},
   "outputs": [
    {
     "name": "stdout",
     "output_type": "stream",
     "text": [
      "(584014, 10)\n",
      "(582676, 10)\n",
      "(581527, 10)\n",
      "(579221, 10)\n",
      "(578012, 10)\n",
      "(576751, 10)\n",
      "(574880, 10)\n",
      "(573566, 10)\n",
      "(573539, 10)\n",
      "(573552, 10)\n",
      "(573545, 10)\n"
     ]
    }
   ],
   "source": [
    "# assessment df size\n",
    "for df in [assess_2025, assess_2024, assess_2023, assess_2022, assess_2021, assess_2020, assess_2019, assess_2018, assess_2017, assess_2016, assess_2015]:\n",
    "    print(df.shape)"
   ]
  },
  {
   "cell_type": "code",
   "execution_count": 11,
   "id": "0f442d1d",
   "metadata": {},
   "outputs": [
    {
     "data": {
      "text/plain": [
       "(1400509, 7)"
      ]
     },
     "execution_count": 11,
     "metadata": {},
     "output_type": "execute_result"
    }
   ],
   "source": [
    "# real delinquency data\n",
    "delinq.shape"
   ]
  },
  {
   "cell_type": "markdown",
   "id": "0dc8b40b",
   "metadata": {},
   "source": [
    "The property characteristics dataframe has 81 columns, many of which are of no relevance to Real Estate Delinquency. Therefore, a subset of the columns was selected based on institutional knowledge and relevance to the research question."
   ]
  },
  {
   "cell_type": "code",
   "execution_count": 12,
   "id": "53d8aef8",
   "metadata": {},
   "outputs": [],
   "source": [
    "# create copy of properties df\n",
    "prop_clean = prop.loc[:,['parcel_number', 'category_code_description','exterior_condition','interior_condition','homestead_exemption','mailing_zip','number_of_bathrooms'\n",
    "                         ,'number_of_bedrooms','number_stories','sale_date','sale_price','total_area','total_livable_area','unit','year_built']].copy(deep=True)"
   ]
  },
  {
   "cell_type": "markdown",
   "id": "e27509cc",
   "metadata": {},
   "source": [
    "## Union and Pivot the Assessment dataframe\n",
    "\n",
    "Assessment dataframes contain the property assessment for each year from 2015 to 2025. Union the individual dataframes then pivot the data so we can have a 1-year, 3-year, and 5-year look back for each property-year combination."
   ]
  },
  {
   "cell_type": "code",
   "execution_count": 13,
   "id": "71546ebc",
   "metadata": {},
   "outputs": [],
   "source": [
    "# create copies of the asessments df\n",
    "assess_2025_clean = assess_2025.loc[:,['parcel_number','year','market_value','taxable_land','taxable_building','exempt_land','exempt_building']].copy(deep=True)\n",
    "assess_2024_clean = assess_2024.loc[:,['parcel_number','year','market_value','taxable_land','taxable_building','exempt_land','exempt_building']].copy(deep=True)\n",
    "assess_2023_clean = assess_2023.loc[:,['parcel_number','year','market_value','taxable_land','taxable_building','exempt_land','exempt_building']].copy(deep=True)\n",
    "assess_2022_clean = assess_2022.loc[:,['parcel_number','year','market_value','taxable_land','taxable_building','exempt_land','exempt_building']].copy(deep=True)\n",
    "assess_2021_clean = assess_2021.loc[:,['parcel_number','year','market_value','taxable_land','taxable_building','exempt_land','exempt_building']].copy(deep=True)\n",
    "assess_2020_clean = assess_2020.loc[:,['parcel_number','year','market_value','taxable_land','taxable_building','exempt_land','exempt_building']].copy(deep=True)\n",
    "assess_2019_clean = assess_2019.loc[:,['parcel_number','year','market_value','taxable_land','taxable_building','exempt_land','exempt_building']].copy(deep=True)\n",
    "assess_2018_clean = assess_2018.loc[:,['parcel_number','year','market_value','taxable_land','taxable_building','exempt_land','exempt_building']].copy(deep=True)\n",
    "assess_2017_clean = assess_2017.loc[:,['parcel_number','year','market_value','taxable_land','taxable_building','exempt_land','exempt_building']].copy(deep=True)\n",
    "assess_2016_clean = assess_2016.loc[:,['parcel_number','year','market_value','taxable_land','taxable_building','exempt_land','exempt_building']].copy(deep=True)\n",
    "assess_2015_clean = assess_2015.loc[:,['parcel_number','year','market_value','taxable_land','taxable_building','exempt_land','exempt_building']].copy(deep=True)"
   ]
  },
  {
   "cell_type": "code",
   "execution_count": 14,
   "id": "3c942826",
   "metadata": {},
   "outputs": [],
   "source": [
    "# concat the assessment years together\n",
    "assess_all = pd.concat([assess_2025_clean, assess_2024_clean, assess_2023_clean, assess_2022_clean, assess_2021_clean, assess_2020_clean, \n",
    "                        assess_2019_clean,assess_2018_clean, assess_2017_clean, assess_2016_clean, assess_2015_clean], axis=0, ignore_index=True)\n",
    "\n",
    "# create taxable and exempt fields\n",
    "assess_all['taxable'] = assess_all['taxable_land'] + assess_all['taxable_building']\n",
    "assess_all['exempt'] = assess_all['exempt_land'] + assess_all['exempt_building']\n",
    "\n",
    "# create fields for the 1, 3, and 5 year joins\n",
    "assess_all['1yr'] = assess_all['year'] - 1\n",
    "assess_all['3yr'] = assess_all['year'] - 3\n",
    "assess_all['5yr'] = assess_all['year'] - 5\n",
    "\n",
    "# select a subset of columns for each df\n",
    "assess_1yr = assess_all.loc[:,['parcel_number','year','taxable','exempt']].copy(deep=True)\n",
    "assess_3yr = assess_all.loc[:,['parcel_number','year','taxable','exempt']].copy(deep=True)\n",
    "assess_5yr = assess_all.loc[:,['parcel_number','year','taxable','exempt']].copy(deep=True)\n",
    "\n",
    "# rename columns to indicate the year of assessment\n",
    "assess_1yr.rename(columns={'taxable':'taxable_1yr','exempt':'exempt_1yr'}, inplace=True)\n",
    "assess_3yr.rename(columns={'taxable':'taxable_3yr','exempt':'exempt_3yr'}, inplace=True)\n",
    "assess_5yr.rename(columns={'taxable':'taxable_5yr','exempt':'exempt_5yr'}, inplace=True)"
   ]
  },
  {
   "cell_type": "code",
   "execution_count": 15,
   "id": "ca9ae5b4",
   "metadata": {},
   "outputs": [],
   "source": [
    "# join to last year's assessments\n",
    "assess_clean = pd.merge(assess_all, assess_1yr, how='inner', left_on=['parcel_number','1yr'], right_on=['parcel_number','year'])\n",
    "assess_clean.drop(columns=['year_y'], inplace=True)\n",
    "assess_clean.rename(columns={'year_x':'year'}, inplace=True)\n",
    "\n",
    "# join to the assessments from 3 years ago\n",
    "assess_clean = pd.merge(assess_clean, assess_3yr, how='inner', left_on=['parcel_number','3yr'], right_on=['parcel_number','year'])\n",
    "assess_clean.drop(columns=['year_y'], inplace=True)\n",
    "assess_clean.rename(columns={'year_x':'year'}, inplace=True)\n",
    "\n",
    "# join to the assessments from 5 years ago\n",
    "assess_clean = pd.merge(assess_clean, assess_5yr, how='inner', left_on=['parcel_number','5yr'], right_on=['parcel_number','year'])\n",
    "assess_clean.drop(columns=['year_y'], inplace=True)\n",
    "assess_clean.rename(columns={'year_x':'year'}, inplace=True)\n",
    "\n",
    "# drop the additional year columns\n",
    "assess_clean.drop(columns=['1yr','3yr','5yr'], inplace=True)"
   ]
  },
  {
   "cell_type": "code",
   "execution_count": 16,
   "id": "1bb2f3db",
   "metadata": {},
   "outputs": [
    {
     "data": {
      "text/plain": [
       "(3445780, 15)"
      ]
     },
     "execution_count": 16,
     "metadata": {},
     "output_type": "execute_result"
    }
   ],
   "source": [
    "assess_clean.shape"
   ]
  },
  {
   "cell_type": "markdown",
   "id": "b8a15965",
   "metadata": {},
   "source": [
    "## Pivot Delinquent dataframe\n",
    "\n",
    "Pivot table so there is one record per property (with delinquency from 2020 - 2024) instead of one record per property and year."
   ]
  },
  {
   "cell_type": "code",
   "execution_count": 17,
   "id": "769cbec1",
   "metadata": {},
   "outputs": [],
   "source": [
    "# create copy of the delinquency df\n",
    "delinq_clean = delinq.loc[:,['parcel_number', 'snapshot_year', 'total_balance']].copy(deep=True)"
   ]
  },
  {
   "cell_type": "code",
   "execution_count": 18,
   "id": "da6777e7",
   "metadata": {},
   "outputs": [],
   "source": [
    "# rename columns\n",
    "delinq_clean.rename(columns={'snapshot_year':'year',\n",
    "                            'total_balance':'delinq_bal'},\n",
    "                            inplace=True)"
   ]
  },
  {
   "cell_type": "code",
   "execution_count": 19,
   "id": "3f07710f",
   "metadata": {},
   "outputs": [],
   "source": [
    "# drop years before 2015\n",
    "delinq_clean = delinq_clean[delinq_clean.year >= 2015]"
   ]
  },
  {
   "cell_type": "code",
   "execution_count": 20,
   "id": "91594c69",
   "metadata": {},
   "outputs": [],
   "source": [
    "# create fields for the 1, 3, and 5 year joins\n",
    "delinq_clean['1yr'] = delinq_clean['year'] - 1\n",
    "delinq_clean['2yr'] = delinq_clean['year'] - 2\n",
    "delinq_clean['3yr'] = delinq_clean['year'] - 3\n",
    "delinq_clean['4yr'] = delinq_clean['year'] - 4\n",
    "delinq_clean['5yr'] = delinq_clean['year'] - 5\n",
    "\n",
    "# select a subset of columns for each df\n",
    "delinq_1yr = delinq_clean.loc[:,['parcel_number', 'year', 'delinq_bal']].copy(deep=True)\n",
    "delinq_2yr = delinq_clean.loc[:,['parcel_number', 'year', 'delinq_bal']].copy(deep=True)\n",
    "delinq_3yr = delinq_clean.loc[:,['parcel_number', 'year', 'delinq_bal']].copy(deep=True)\n",
    "delinq_4yr = delinq_clean.loc[:,['parcel_number', 'year', 'delinq_bal']].copy(deep=True)\n",
    "delinq_5yr = delinq_clean.loc[:,['parcel_number', 'year', 'delinq_bal']].copy(deep=True)\n",
    "\n",
    "# rename columns to indicate the year of assessment\n",
    "delinq_1yr.rename(columns={'delinq_bal':'delinq_bal_1yr'}, inplace=True)\n",
    "delinq_2yr.rename(columns={'delinq_bal':'delinq_bal_2yr'}, inplace=True)\n",
    "delinq_3yr.rename(columns={'delinq_bal':'delinq_bal_3yr'}, inplace=True)\n",
    "delinq_4yr.rename(columns={'delinq_bal':'delinq_bal_4yr'}, inplace=True)\n",
    "delinq_5yr.rename(columns={'delinq_bal':'delinq_bal_5yr'}, inplace=True)\n"
   ]
  },
  {
   "cell_type": "code",
   "execution_count": 21,
   "id": "ed293f73",
   "metadata": {},
   "outputs": [],
   "source": [
    "# join to last year's assessments\n",
    "delinq_clean = pd.merge(delinq_clean, delinq_1yr, how='left', left_on=['parcel_number','1yr'], right_on=['parcel_number','year'])\n",
    "delinq_clean.drop(columns=['year_y'], inplace=True)\n",
    "delinq_clean.rename(columns={'year_x':'year'}, inplace=True)\n",
    "\n",
    "# join to the assessments from 2 years ago\n",
    "delinq_clean = pd.merge(delinq_clean, delinq_2yr, how='left', left_on=['parcel_number','2yr'], right_on=['parcel_number','year'])\n",
    "delinq_clean.drop(columns=['year_y'], inplace=True)\n",
    "delinq_clean.rename(columns={'year_x':'year'}, inplace=True)\n",
    "\n",
    "# join to the assessments from 3 years ago\n",
    "delinq_clean = pd.merge(delinq_clean, delinq_3yr, how='left', left_on=['parcel_number','3yr'], right_on=['parcel_number','year'])\n",
    "delinq_clean.drop(columns=['year_y'], inplace=True)\n",
    "delinq_clean.rename(columns={'year_x':'year'}, inplace=True)\n",
    "\n",
    "# join to the assessments from 4 years ago\n",
    "delinq_clean = pd.merge(delinq_clean, delinq_4yr, how='left', left_on=['parcel_number','4yr'], right_on=['parcel_number','year'])\n",
    "delinq_clean.drop(columns=['year_y'], inplace=True)\n",
    "delinq_clean.rename(columns={'year_x':'year'}, inplace=True)\n",
    "\n",
    "# join to the assessments from 5 years ago\n",
    "delinq_clean = pd.merge(delinq_clean, delinq_5yr, how='left', left_on=['parcel_number','5yr'], right_on=['parcel_number','year'])\n",
    "delinq_clean.drop(columns=['year_y'], inplace=True)\n",
    "delinq_clean.rename(columns={'year_x':'year'}, inplace=True)\n",
    "\n",
    "# drop the additional year columns\n",
    "delinq_clean.drop(columns=['1yr','2yr','3yr','4yr','5yr'], inplace=True)\n",
    "\n",
    "# drop years before 2020\n",
    "delinq_clean = delinq_clean[delinq_clean.year >= 2020]"
   ]
  },
  {
   "cell_type": "markdown",
   "id": "78d0291b",
   "metadata": {},
   "source": [
    "Records in the Delinquency dataframe that don't have a delinquent Real Estate tax balance have missing values. Fill those missing values with 0s."
   ]
  },
  {
   "cell_type": "code",
   "execution_count": 22,
   "id": "b5515cea",
   "metadata": {},
   "outputs": [],
   "source": [
    "delinq_clean.fillna(0, inplace=True)"
   ]
  },
  {
   "cell_type": "code",
   "execution_count": 23,
   "id": "38bee567",
   "metadata": {},
   "outputs": [
    {
     "data": {
      "text/plain": [
       "(371896, 8)"
      ]
     },
     "execution_count": 23,
     "metadata": {},
     "output_type": "execute_result"
    }
   ],
   "source": [
    "delinq_clean.shape"
   ]
  },
  {
   "cell_type": "markdown",
   "id": "84d9095d",
   "metadata": {},
   "source": [
    "## Fix inconsistent data types"
   ]
  },
  {
   "cell_type": "code",
   "execution_count": 24,
   "id": "67d52707",
   "metadata": {},
   "outputs": [
    {
     "data": {
      "text/plain": [
       "parcel_number                  int64\n",
       "category_code_description     object\n",
       "exterior_condition            object\n",
       "interior_condition            object\n",
       "homestead_exemption            int64\n",
       "mailing_zip                   object\n",
       "number_of_bathrooms          float64\n",
       "number_of_bedrooms           float64\n",
       "number_stories               float64\n",
       "sale_date                     object\n",
       "sale_price                   float64\n",
       "total_area                   float64\n",
       "total_livable_area           float64\n",
       "unit                          object\n",
       "year_built                   float64\n",
       "dtype: object"
      ]
     },
     "execution_count": 24,
     "metadata": {},
     "output_type": "execute_result"
    }
   ],
   "source": [
    "prop_clean.dtypes"
   ]
  },
  {
   "cell_type": "markdown",
   "id": "976323ef",
   "metadata": {},
   "source": [
    "Exterior condition is a numerical scale from 1 to 9 where 1 indicates newer construction, 9 indicates properties that are structurally compromised, and 0 indicates that exterior condition is not applicable. Remove errornous values, change 0s to NAs, and convert to float type."
   ]
  },
  {
   "cell_type": "code",
   "execution_count": 25,
   "id": "a76cc5bf",
   "metadata": {},
   "outputs": [
    {
     "data": {
      "text/plain": [
       "array([nan,  4.,  1.,  3.,  5.,  7.,  2.,  6.,  8.])"
      ]
     },
     "execution_count": 25,
     "metadata": {},
     "output_type": "execute_result"
    }
   ],
   "source": [
    "# check unique values for exterior condition\n",
    "prop_clean.exterior_condition.unique()\n",
    "\n",
    "# 6 records where exterior condition is an invalid value\n",
    "prop_clean[prop_clean.exterior_condition.isin(['P','E','A'])].head(10)\n",
    "\n",
    "# change invalid records to NA\n",
    "prop_clean.loc[(prop_clean.exterior_condition.isin(['P','E','A'])), 'exterior_condition'] = np.nan\n",
    "\n",
    "# convert exterior condition to float\n",
    "prop_clean.exterior_condition = prop_clean.exterior_condition.astype(float)\n",
    "\n",
    "# change 0 (not applicable) records to NA\n",
    "prop_clean.loc[(prop_clean.exterior_condition == 0), 'exterior_condition'] = np.nan\n",
    "\n",
    "# confirm unqiue values of exterior condition\n",
    "prop_clean.exterior_condition.unique()"
   ]
  },
  {
   "cell_type": "markdown",
   "id": "3af4bc67",
   "metadata": {},
   "source": [
    "Interior condition is a numerical scale from 1 to 8 where 1 indicates newer construction, 7 indicates properties that are structurally compromised, and 0 indicates that interior condition is not applicable. Remove errornous values, change 0s to NAs, and convert to float type."
   ]
  },
  {
   "cell_type": "code",
   "execution_count": 26,
   "id": "6692cdaa",
   "metadata": {},
   "outputs": [
    {
     "data": {
      "text/plain": [
       "array([nan,  4.,  1.,  2.,  3.,  5.,  6.,  7.,  8.])"
      ]
     },
     "execution_count": 26,
     "metadata": {},
     "output_type": "execute_result"
    }
   ],
   "source": [
    "# check unique values for interior condition\n",
    "prop_clean.interior_condition.unique()\n",
    "\n",
    "# 6 records where exterior condition is an invalid value\n",
    "prop_clean[prop_clean.interior_condition.isin(['P','E','A'])].head(10)\n",
    "\n",
    "# change invalid records to NA\n",
    "prop_clean.loc[(prop_clean.interior_condition.isin(['P','E','A'])), 'interior_condition'] = np.nan\n",
    "\n",
    "# convert interior condition to float\n",
    "prop_clean.interior_condition = prop_clean.interior_condition.astype(float)\n",
    "\n",
    "# change 0 (not applicable) records to NA\n",
    "prop_clean.loc[(prop_clean.interior_condition == 0), 'interior_condition'] = np.nan\n",
    "\n",
    "# confirm unqiue values of exterior condition\n",
    "prop_clean.interior_condition.unique()"
   ]
  },
  {
   "cell_type": "code",
   "execution_count": 27,
   "id": "25c6bfda",
   "metadata": {},
   "outputs": [],
   "source": [
    "# convert from float to int for count data\n",
    "prop_clean.number_of_bathrooms = prop_clean.number_of_bathrooms.astype(float)\n",
    "prop_clean.number_of_bedrooms = prop_clean.number_of_bedrooms.astype(float)\n",
    "prop_clean.number_stories = prop_clean.number_stories.astype(float)\n",
    "\n",
    "# convert year built from float to int\n",
    "prop_clean.year_built = prop_clean.year_built.astype(float)\n",
    "\n",
    "# convert from object to date\n",
    "prop_clean['sale_year'] = pd.to_datetime(prop_clean.sale_date, format='%Y-%m-%dT%H:%M:%SZ', errors='coerce').dt.year\n",
    "prop_clean.drop(columns=['sale_date'], inplace =True)"
   ]
  },
  {
   "cell_type": "code",
   "execution_count": 28,
   "id": "b67382b0",
   "metadata": {},
   "outputs": [],
   "source": [
    "# create condo feature that tells you whether a property has a condo number\n",
    "prop_clean['condo'] = prop_clean.unit.apply(lambda x: 0 if pd.isna(x) else 1)\n",
    "prop_clean.drop(columns=['unit'], inplace=True)"
   ]
  },
  {
   "cell_type": "code",
   "execution_count": 29,
   "id": "f7d26b7a",
   "metadata": {},
   "outputs": [
    {
     "data": {
      "text/plain": [
       "parcel_number                  int64\n",
       "category_code_description     object\n",
       "exterior_condition           float64\n",
       "interior_condition           float64\n",
       "homestead_exemption            int64\n",
       "mailing_zip                   object\n",
       "number_of_bathrooms          float64\n",
       "number_of_bedrooms           float64\n",
       "number_stories               float64\n",
       "sale_price                   float64\n",
       "total_area                   float64\n",
       "total_livable_area           float64\n",
       "year_built                   float64\n",
       "sale_year                    float64\n",
       "condo                          int64\n",
       "dtype: object"
      ]
     },
     "execution_count": 29,
     "metadata": {},
     "output_type": "execute_result"
    }
   ],
   "source": [
    "prop_clean.dtypes"
   ]
  },
  {
   "cell_type": "code",
   "execution_count": 30,
   "id": "7419692d",
   "metadata": {},
   "outputs": [
    {
     "data": {
      "text/plain": [
       "parcel_number         int64\n",
       "year                  int64\n",
       "market_value          int64\n",
       "taxable_land        float64\n",
       "taxable_building    float64\n",
       "exempt_land         float64\n",
       "exempt_building     float64\n",
       "dtype: object"
      ]
     },
     "execution_count": 30,
     "metadata": {},
     "output_type": "execute_result"
    }
   ],
   "source": [
    "assess_2025_clean.dtypes"
   ]
  },
  {
   "cell_type": "code",
   "execution_count": 31,
   "id": "d7a80782",
   "metadata": {},
   "outputs": [
    {
     "data": {
      "text/plain": [
       "parcel_number       int64\n",
       "year                int64\n",
       "delinq_bal        float64\n",
       "delinq_bal_1yr    float64\n",
       "delinq_bal_2yr    float64\n",
       "delinq_bal_3yr    float64\n",
       "delinq_bal_4yr    float64\n",
       "delinq_bal_5yr    float64\n",
       "dtype: object"
      ]
     },
     "execution_count": 31,
     "metadata": {},
     "output_type": "execute_result"
    }
   ],
   "source": [
    "delinq_clean.dtypes"
   ]
  },
  {
   "cell_type": "markdown",
   "id": "319394e8",
   "metadata": {},
   "source": [
    "## Handle Erroroneous Values in Property Dataset"
   ]
  },
  {
   "cell_type": "code",
   "execution_count": 32,
   "id": "0e90efd9",
   "metadata": {},
   "outputs": [
    {
     "data": {
      "text/plain": [
       "(584103, 15)"
      ]
     },
     "execution_count": 32,
     "metadata": {},
     "output_type": "execute_result"
    }
   ],
   "source": [
    "prop_clean.shape"
   ]
  },
  {
   "cell_type": "code",
   "execution_count": 33,
   "id": "1f3c7739",
   "metadata": {},
   "outputs": [
    {
     "data": {
      "text/plain": [
       "(69, 15)"
      ]
     },
     "execution_count": 33,
     "metadata": {},
     "output_type": "execute_result"
    }
   ],
   "source": [
    "# check # of single family buildings with 0 livable area\n",
    "prop_clean.loc[(prop_clean.total_livable_area == 0) & (prop_clean.category_code_description == 'SINGLE FAMILY'),:].shape"
   ]
  },
  {
   "cell_type": "code",
   "execution_count": 34,
   "id": "8fb80e2d",
   "metadata": {},
   "outputs": [],
   "source": [
    "# drop single family buildings with 0 livable area\n",
    "prop_clean = prop_clean.loc[~(prop_clean.total_livable_area == 0) | ~(prop_clean.category_code_description == 'SINGLE FAMILY'),:]"
   ]
  },
  {
   "cell_type": "code",
   "execution_count": 35,
   "id": "39255808",
   "metadata": {},
   "outputs": [
    {
     "data": {
      "text/plain": [
       "(584034, 15)"
      ]
     },
     "execution_count": 35,
     "metadata": {},
     "output_type": "execute_result"
    }
   ],
   "source": [
    "prop_clean.shape"
   ]
  },
  {
   "cell_type": "code",
   "execution_count": 36,
   "id": "7e3eb187",
   "metadata": {},
   "outputs": [
    {
     "data": {
      "text/plain": [
       "(54, 15)"
      ]
     },
     "execution_count": 36,
     "metadata": {},
     "output_type": "execute_result"
    }
   ],
   "source": [
    "# check # of multi family buildings with 0 livable area\n",
    "prop_clean.loc[(prop_clean.total_livable_area == 0) & (prop_clean.category_code_description == 'MULTI FAMILY'),:].shape"
   ]
  },
  {
   "cell_type": "code",
   "execution_count": 37,
   "id": "92427093",
   "metadata": {},
   "outputs": [],
   "source": [
    "# drop multi family buildings with 0 livable area\n",
    "prop_clean = prop_clean.loc[~(prop_clean.total_livable_area == 0) | ~(prop_clean.category_code_description == 'MULTI FAMILY'),:]"
   ]
  },
  {
   "cell_type": "code",
   "execution_count": 38,
   "id": "4136ddcf",
   "metadata": {},
   "outputs": [
    {
     "data": {
      "text/plain": [
       "(583980, 15)"
      ]
     },
     "execution_count": 38,
     "metadata": {},
     "output_type": "execute_result"
    }
   ],
   "source": [
    "prop_clean.shape"
   ]
  },
  {
   "cell_type": "code",
   "execution_count": 39,
   "id": "4183f297",
   "metadata": {},
   "outputs": [
    {
     "data": {
      "text/plain": [
       "(109, 15)"
      ]
     },
     "execution_count": 39,
     "metadata": {},
     "output_type": "execute_result"
    }
   ],
   "source": [
    "# check # of single family buildings with less than 200 square feet of livable area per bedroom\n",
    "prop_clean.loc[(prop_clean.total_livable_area/prop_clean.number_of_bedrooms < 200) & (prop_clean.category_code_description == 'SINGLE FAMILY'),:].shape"
   ]
  },
  {
   "cell_type": "code",
   "execution_count": 40,
   "id": "1bd0a772",
   "metadata": {},
   "outputs": [],
   "source": [
    "# drop single family buildings with less than 200 square feet of livable area per bedroom\n",
    "prop_clean = prop_clean.loc[~(prop_clean.total_livable_area/prop_clean.number_of_bedrooms < 200) | ~(prop_clean.category_code_description == 'SINGLE FAMILY'),:]"
   ]
  },
  {
   "cell_type": "code",
   "execution_count": 41,
   "id": "8b8255dd",
   "metadata": {},
   "outputs": [
    {
     "data": {
      "text/plain": [
       "(583871, 15)"
      ]
     },
     "execution_count": 41,
     "metadata": {},
     "output_type": "execute_result"
    }
   ],
   "source": [
    "prop_clean.shape"
   ]
  },
  {
   "cell_type": "code",
   "execution_count": 42,
   "id": "661ad64e",
   "metadata": {},
   "outputs": [
    {
     "data": {
      "text/plain": [
       "(34, 15)"
      ]
     },
     "execution_count": 42,
     "metadata": {},
     "output_type": "execute_result"
    }
   ],
   "source": [
    "# check # of multi family buildings with less than 200 square feet of livable area per bedroom\n",
    "prop_clean.loc[(prop_clean.total_livable_area/prop_clean.number_of_bedrooms < 200) & (prop_clean.category_code_description == 'MULTI FAMILY'),:].shape"
   ]
  },
  {
   "cell_type": "code",
   "execution_count": 43,
   "id": "379dc082",
   "metadata": {},
   "outputs": [],
   "source": [
    "# drop mulit family buildings with less than 200 square feet of livable area per bedroom\n",
    "prop_clean = prop_clean.loc[~(prop_clean.total_livable_area/prop_clean.number_of_bedrooms < 200) | ~(prop_clean.category_code_description == 'MULTI FAMILY'),:]"
   ]
  },
  {
   "cell_type": "code",
   "execution_count": 44,
   "id": "14657266",
   "metadata": {},
   "outputs": [
    {
     "data": {
      "text/plain": [
       "(583837, 15)"
      ]
     },
     "execution_count": 44,
     "metadata": {},
     "output_type": "execute_result"
    }
   ],
   "source": [
    "prop_clean.shape"
   ]
  },
  {
   "cell_type": "code",
   "execution_count": 45,
   "id": "ee610f36",
   "metadata": {},
   "outputs": [
    {
     "data": {
      "text/plain": [
       "(7, 15)"
      ]
     },
     "execution_count": 45,
     "metadata": {},
     "output_type": "execute_result"
    }
   ],
   "source": [
    "# check # of single family buildings with less than 200 square feet of livable area per bathroom\n",
    "prop_clean.loc[(prop_clean.total_livable_area/prop_clean.number_of_bathrooms < 200) & (prop_clean.category_code_description == 'SINGLE FAMILY'),:].shape"
   ]
  },
  {
   "cell_type": "code",
   "execution_count": 46,
   "id": "f94c64c4",
   "metadata": {},
   "outputs": [],
   "source": [
    "# drop single family buildings with less than 200 square feet of livable area per bathroom\n",
    "prop_clean = prop_clean.loc[~(prop_clean.total_livable_area/prop_clean.number_of_bathrooms < 200) | ~(prop_clean.category_code_description == 'SINGLE FAMILY'),:]"
   ]
  },
  {
   "cell_type": "code",
   "execution_count": 47,
   "id": "d30af8ab",
   "metadata": {},
   "outputs": [
    {
     "data": {
      "text/plain": [
       "(583830, 15)"
      ]
     },
     "execution_count": 47,
     "metadata": {},
     "output_type": "execute_result"
    }
   ],
   "source": [
    "prop_clean.shape"
   ]
  },
  {
   "cell_type": "code",
   "execution_count": 48,
   "id": "d1af6c3f",
   "metadata": {},
   "outputs": [
    {
     "data": {
      "text/plain": [
       "(2, 15)"
      ]
     },
     "execution_count": 48,
     "metadata": {},
     "output_type": "execute_result"
    }
   ],
   "source": [
    "# check # of multi family buildings with less than 200 square feet of livable area per bathroom\n",
    "prop_clean.loc[(prop_clean.total_livable_area/prop_clean.number_of_bathrooms < 200) & (prop_clean.category_code_description == 'MULTI FAMILY'),:].shape"
   ]
  },
  {
   "cell_type": "code",
   "execution_count": 49,
   "id": "b4c5807a",
   "metadata": {},
   "outputs": [],
   "source": [
    "# drop multi family buildings with less than 200 square feet of livable area per bathrooms\n",
    "prop_clean = prop_clean.loc[~(prop_clean.total_livable_area/prop_clean.number_of_bathrooms < 200) | ~(prop_clean.category_code_description == 'MULTI FAMILY'),:]"
   ]
  },
  {
   "cell_type": "code",
   "execution_count": 50,
   "id": "5f8ffed6",
   "metadata": {},
   "outputs": [
    {
     "data": {
      "text/plain": [
       "(583828, 15)"
      ]
     },
     "execution_count": 50,
     "metadata": {},
     "output_type": "execute_result"
    }
   ],
   "source": [
    "prop_clean.shape"
   ]
  },
  {
   "cell_type": "markdown",
   "id": "c3c2897a",
   "metadata": {},
   "source": [
    "## Handle missing values in the Property dataset"
   ]
  },
  {
   "cell_type": "markdown",
   "id": "fe526928",
   "metadata": {},
   "source": [
    "The property characteristics dataset is rife with missing values due to the method of data collection. This dataset is supported and maintained by the City of Philadelphia’s Office of Property Assessment (OPA). According to the OPA Mass Appraisal [Methodology Documentation](https://www.phila.gov/media/20240920162052/opa-tax-year-2025-mass-appraisal-valuation-methodology.pdf), data on individual properties is collected by OPA evaluators either in-person or virtually. In-person data collections consist of physically visiting a property and collecting observations from the curb. OPA evaluators may only conduct an internal inspection if they are invited in by an occupant. Virtual inspections are conducted by utilizing aerial photography or online listings. Therefore, data is limited by circumstance and online availability."
   ]
  },
  {
   "cell_type": "code",
   "execution_count": 51,
   "id": "78d274a6",
   "metadata": {},
   "outputs": [
    {
     "data": {
      "text/plain": [
       "parcel_number                    0\n",
       "category_code_description       17\n",
       "exterior_condition           43658\n",
       "interior_condition           43679\n",
       "homestead_exemption              0\n",
       "mailing_zip                   2508\n",
       "number_of_bathrooms          86168\n",
       "number_of_bedrooms           81411\n",
       "number_stories               72934\n",
       "sale_price                    2736\n",
       "total_area                     718\n",
       "total_livable_area           43203\n",
       "year_built                   43200\n",
       "sale_year                     2711\n",
       "condo                            0\n",
       "dtype: int64"
      ]
     },
     "execution_count": 51,
     "metadata": {},
     "output_type": "execute_result"
    }
   ],
   "source": [
    "# count missing values\n",
    "prop_clean.isna().sum()"
   ]
  },
  {
   "cell_type": "markdown",
   "id": "2d9f7fd9",
   "metadata": {},
   "source": [
    "### Many missing values are coming from vacant properties\n",
    "\n",
    "There are around 42,000 missing values for exterior condition, interior condition, number of bathrooms, number of bedrooms, number of stories, total livable area, and year built where the property is vacant. Vacant properties don't have bathrooms, bedrooms, stories, livable areas, or a year built since there is no structure. Therefore, we must correct these values."
   ]
  },
  {
   "cell_type": "code",
   "execution_count": 52,
   "id": "2ca9e81c",
   "metadata": {},
   "outputs": [
    {
     "data": {
      "text/plain": [
       "parcel_number                    0\n",
       "category_code_description        0\n",
       "exterior_condition           42862\n",
       "interior_condition           42865\n",
       "homestead_exemption              0\n",
       "mailing_zip                     96\n",
       "number_of_bathrooms          42828\n",
       "number_of_bedrooms           42824\n",
       "number_stories               42850\n",
       "sale_price                     765\n",
       "total_area                     193\n",
       "total_livable_area           42745\n",
       "year_built                   42745\n",
       "sale_year                      760\n",
       "condo                            0\n",
       "dtype: int64"
      ]
     },
     "execution_count": 52,
     "metadata": {},
     "output_type": "execute_result"
    }
   ],
   "source": [
    "prop_clean[prop_clean.category_code_description.isin(['VACANT LAND','VACANT LAND - RESIDENTIAL','VACANT LAND - NON-RESIDENTIAL'])].isna().sum()"
   ]
  },
  {
   "cell_type": "markdown",
   "id": "8f302a1d",
   "metadata": {},
   "source": [
    "### Fix records for vacant properties"
   ]
  },
  {
   "cell_type": "code",
   "execution_count": 53,
   "id": "9a6fdf77",
   "metadata": {},
   "outputs": [],
   "source": [
    "# change the bathrooms from NA to 0 if the property is vacant\n",
    "prop_clean.loc[(prop_clean.category_code_description.isin(['VACANT LAND','VACANT LAND - RESIDENTIAL','VACANT LAND - NON-RESIDENTIAL'])) & (prop_clean.number_of_bathrooms.isna()), 'number_of_bathrooms'] = 0\n",
    "\n",
    "# change the bedrooms from NA to 0 if the property is vacant\n",
    "prop_clean.loc[(prop_clean.category_code_description.isin(['VACANT LAND','VACANT LAND - RESIDENTIAL','VACANT LAND - NON-RESIDENTIAL'])) & (prop_clean.number_of_bedrooms.isna()), 'number_of_bedrooms'] = 0\n",
    "\n",
    "# change the stories from NA to 0 if the property is vacant\n",
    "prop_clean.loc[(prop_clean.category_code_description.isin(['VACANT LAND','VACANT LAND - RESIDENTIAL','VACANT LAND - NON-RESIDENTIAL'])) & (prop_clean.number_stories.isna()), 'number_stories'] = 0\n",
    "\n",
    "# change the total livable area from NA to 0 if the property is vacant\n",
    "prop_clean.loc[(prop_clean.category_code_description.isin(['VACANT LAND','VACANT LAND - RESIDENTIAL','VACANT LAND - NON-RESIDENTIAL'])) & (prop_clean.total_livable_area.isna()), 'total_livable_area'] = 0\n",
    "\n",
    "# change year built to 2029\n",
    "prop_clean.loc[(prop_clean.category_code_description.isin(['VACANT LAND','VACANT LAND - RESIDENTIAL','VACANT LAND - NON-RESIDENTIAL'])) & (prop_clean.year_built.isna()), 'year_built'] = 2029\n"
   ]
  },
  {
   "cell_type": "markdown",
   "id": "2739d9c8",
   "metadata": {},
   "source": [
    "Exterior conditions is a numerical scale from 1 to 9 where 1 indicates newer construction and 9 indictates properties that are structurally compromised. Therefore, we will change NA to 10 for vacant properties. "
   ]
  },
  {
   "cell_type": "code",
   "execution_count": 54,
   "id": "a58cb354",
   "metadata": {},
   "outputs": [],
   "source": [
    "# change the exterior condition from NA to 10 if the property is vacant\n",
    "prop_clean.loc[(prop_clean.category_code_description.isin(['VACANT LAND','VACANT LAND - RESIDENTIAL','VACANT LAND - NON-RESIDENTIAL'])) & (prop_clean.exterior_condition.isna()), 'exterior_condition'] = 10"
   ]
  },
  {
   "cell_type": "markdown",
   "id": "53cc6c3b",
   "metadata": {},
   "source": [
    "Interior condition is a numerical scale from 1 to 7 where 1 is new and or newly rehabed and 7 is structurally compromised. Therefore, we will change NA to 9 for vacant properties."
   ]
  },
  {
   "cell_type": "code",
   "execution_count": 55,
   "id": "7821da08",
   "metadata": {},
   "outputs": [],
   "source": [
    "# change the interior condition from NA to 8 if the property is vacant\n",
    "prop_clean.loc[(prop_clean.category_code_description.isin(['VACANT LAND','VACANT LAND - RESIDENTIAL','VACANT LAND - NON-RESIDENTIAL'])) & (prop_clean.interior_condition.isna()), 'interior_condition'] = 9"
   ]
  },
  {
   "cell_type": "code",
   "execution_count": 56,
   "id": "9b561d38",
   "metadata": {},
   "outputs": [
    {
     "data": {
      "text/plain": [
       "parcel_number                  0\n",
       "category_code_description      0\n",
       "exterior_condition             0\n",
       "interior_condition             0\n",
       "homestead_exemption            0\n",
       "mailing_zip                   96\n",
       "number_of_bathrooms            0\n",
       "number_of_bedrooms             0\n",
       "number_stories                 0\n",
       "sale_price                   765\n",
       "total_area                   193\n",
       "total_livable_area             0\n",
       "year_built                     0\n",
       "sale_year                    760\n",
       "condo                          0\n",
       "dtype: int64"
      ]
     },
     "execution_count": 56,
     "metadata": {},
     "output_type": "execute_result"
    }
   ],
   "source": [
    "prop_clean[prop_clean.category_code_description.isin(['VACANT LAND','VACANT LAND - RESIDENTIAL','VACANT LAND - NON-RESIDENTIAL'])].isna().sum()"
   ]
  },
  {
   "cell_type": "markdown",
   "id": "15c23153",
   "metadata": {},
   "source": [
    "There still exists many records with the number of bedrooms, bathrooms, and stories missing. "
   ]
  },
  {
   "cell_type": "code",
   "execution_count": 57,
   "id": "6ebdd944",
   "metadata": {},
   "outputs": [
    {
     "data": {
      "text/plain": [
       "parcel_number                    0\n",
       "category_code_description       17\n",
       "exterior_condition             796\n",
       "interior_condition             814\n",
       "homestead_exemption              0\n",
       "mailing_zip                   2508\n",
       "number_of_bathrooms          43340\n",
       "number_of_bedrooms           38587\n",
       "number_stories               30084\n",
       "sale_price                    2736\n",
       "total_area                     718\n",
       "total_livable_area             458\n",
       "year_built                     455\n",
       "sale_year                     2711\n",
       "condo                            0\n",
       "dtype: int64"
      ]
     },
     "execution_count": 57,
     "metadata": {},
     "output_type": "execute_result"
    }
   ],
   "source": [
    "prop_clean.isna().sum()"
   ]
  },
  {
   "cell_type": "markdown",
   "id": "e9aa5d8a",
   "metadata": {},
   "source": [
    "As discussed earlier, missing values for number of bedrooms, bathrooms, and stories in the OPA property dataset are a result of circumstance and online availability. The unavailability of these variables seems to follow a pattern with the category code description. Single family and multifamily homes are more likely to have counts of bedrooms and bathrooms than other non-residential building types. Simiarly, commercial, industrial, and mixed use properties tend to have missing values for number of stories. This is most likely because online real estate marketplaces, like Zillow, advertise or estimate the number of bedrooms, bathrooms, and stories for residential properties. These platforms have more limited listings and information for commercial properties. Therefore, we suspect that the missingness of these variables is random, but not completely random. "
   ]
  },
  {
   "cell_type": "code",
   "execution_count": 58,
   "id": "0c2a9d4e",
   "metadata": {},
   "outputs": [
    {
     "data": {
      "text/html": [
       "<div>\n",
       "<style scoped>\n",
       "    .dataframe tbody tr th:only-of-type {\n",
       "        vertical-align: middle;\n",
       "    }\n",
       "\n",
       "    .dataframe tbody tr th {\n",
       "        vertical-align: top;\n",
       "    }\n",
       "\n",
       "    .dataframe thead tr th {\n",
       "        text-align: left;\n",
       "    }\n",
       "\n",
       "    .dataframe thead tr:last-of-type th {\n",
       "        text-align: right;\n",
       "    }\n",
       "</style>\n",
       "<table border=\"1\" class=\"dataframe\">\n",
       "  <thead>\n",
       "    <tr>\n",
       "      <th></th>\n",
       "      <th>parcel_number</th>\n",
       "      <th>number_of_bedrooms</th>\n",
       "      <th>number_of_bathrooms</th>\n",
       "      <th>number_stories</th>\n",
       "    </tr>\n",
       "    <tr>\n",
       "      <th></th>\n",
       "      <th>count</th>\n",
       "      <th>count</th>\n",
       "      <th>count</th>\n",
       "      <th>count</th>\n",
       "    </tr>\n",
       "    <tr>\n",
       "      <th>category_code_description</th>\n",
       "      <th></th>\n",
       "      <th></th>\n",
       "      <th></th>\n",
       "      <th></th>\n",
       "    </tr>\n",
       "  </thead>\n",
       "  <tbody>\n",
       "    <tr>\n",
       "      <th>APARTMENTS  &gt; 4 UNITS</th>\n",
       "      <td>3476</td>\n",
       "      <td>96</td>\n",
       "      <td>85</td>\n",
       "      <td>3235</td>\n",
       "    </tr>\n",
       "    <tr>\n",
       "      <th>COMMERCIAL</th>\n",
       "      <td>12665</td>\n",
       "      <td>29</td>\n",
       "      <td>25</td>\n",
       "      <td>303</td>\n",
       "    </tr>\n",
       "    <tr>\n",
       "      <th>GARAGE - COMMERCIAL</th>\n",
       "      <td>108</td>\n",
       "      <td>25</td>\n",
       "      <td>27</td>\n",
       "      <td>63</td>\n",
       "    </tr>\n",
       "    <tr>\n",
       "      <th>GARAGE - RESIDENTIAL</th>\n",
       "      <td>584</td>\n",
       "      <td>514</td>\n",
       "      <td>514</td>\n",
       "      <td>547</td>\n",
       "    </tr>\n",
       "    <tr>\n",
       "      <th>HOTEL</th>\n",
       "      <td>127</td>\n",
       "      <td>1</td>\n",
       "      <td>0</td>\n",
       "      <td>110</td>\n",
       "    </tr>\n",
       "    <tr>\n",
       "      <th>INDUSTRIAL</th>\n",
       "      <td>4082</td>\n",
       "      <td>4</td>\n",
       "      <td>4</td>\n",
       "      <td>589</td>\n",
       "    </tr>\n",
       "    <tr>\n",
       "      <th>MIXED USE</th>\n",
       "      <td>14274</td>\n",
       "      <td>206</td>\n",
       "      <td>187</td>\n",
       "      <td>1152</td>\n",
       "    </tr>\n",
       "    <tr>\n",
       "      <th>MULTI FAMILY</th>\n",
       "      <td>41051</td>\n",
       "      <td>38302</td>\n",
       "      <td>37695</td>\n",
       "      <td>40670</td>\n",
       "    </tr>\n",
       "    <tr>\n",
       "      <th>OFFICES</th>\n",
       "      <td>863</td>\n",
       "      <td>3</td>\n",
       "      <td>3</td>\n",
       "      <td>720</td>\n",
       "    </tr>\n",
       "    <tr>\n",
       "      <th>RETAIL</th>\n",
       "      <td>29</td>\n",
       "      <td>2</td>\n",
       "      <td>2</td>\n",
       "      <td>12</td>\n",
       "    </tr>\n",
       "    <tr>\n",
       "      <th>SINGLE FAMILY</th>\n",
       "      <td>463402</td>\n",
       "      <td>462931</td>\n",
       "      <td>458818</td>\n",
       "      <td>463202</td>\n",
       "    </tr>\n",
       "    <tr>\n",
       "      <th>SPECIAL PURPOSE</th>\n",
       "      <td>35</td>\n",
       "      <td>11</td>\n",
       "      <td>11</td>\n",
       "      <td>18</td>\n",
       "    </tr>\n",
       "    <tr>\n",
       "      <th>VACANT LAND</th>\n",
       "      <td>41894</td>\n",
       "      <td>41894</td>\n",
       "      <td>41894</td>\n",
       "      <td>41894</td>\n",
       "    </tr>\n",
       "    <tr>\n",
       "      <th>VACANT LAND - NON-RESIDENTIAL</th>\n",
       "      <td>131</td>\n",
       "      <td>131</td>\n",
       "      <td>131</td>\n",
       "      <td>131</td>\n",
       "    </tr>\n",
       "    <tr>\n",
       "      <th>VACANT LAND - RESIDENTIAL</th>\n",
       "      <td>1090</td>\n",
       "      <td>1090</td>\n",
       "      <td>1090</td>\n",
       "      <td>1090</td>\n",
       "    </tr>\n",
       "  </tbody>\n",
       "</table>\n",
       "</div>"
      ],
      "text/plain": [
       "                              parcel_number number_of_bedrooms  \\\n",
       "                                      count              count   \n",
       "category_code_description                                        \n",
       "APARTMENTS  > 4 UNITS                  3476                 96   \n",
       "COMMERCIAL                            12665                 29   \n",
       "GARAGE - COMMERCIAL                     108                 25   \n",
       "GARAGE - RESIDENTIAL                    584                514   \n",
       "HOTEL                                   127                  1   \n",
       "INDUSTRIAL                             4082                  4   \n",
       "MIXED USE                             14274                206   \n",
       "MULTI FAMILY                          41051              38302   \n",
       "OFFICES                                 863                  3   \n",
       "RETAIL                                   29                  2   \n",
       "SINGLE FAMILY                        463402             462931   \n",
       "SPECIAL PURPOSE                          35                 11   \n",
       "VACANT LAND                           41894              41894   \n",
       "VACANT LAND - NON-RESIDENTIAL           131                131   \n",
       "VACANT LAND - RESIDENTIAL              1090               1090   \n",
       "\n",
       "                              number_of_bathrooms number_stories  \n",
       "                                            count          count  \n",
       "category_code_description                                         \n",
       "APARTMENTS  > 4 UNITS                          85           3235  \n",
       "COMMERCIAL                                     25            303  \n",
       "GARAGE - COMMERCIAL                            27             63  \n",
       "GARAGE - RESIDENTIAL                          514            547  \n",
       "HOTEL                                           0            110  \n",
       "INDUSTRIAL                                      4            589  \n",
       "MIXED USE                                     187           1152  \n",
       "MULTI FAMILY                                37695          40670  \n",
       "OFFICES                                         3            720  \n",
       "RETAIL                                          2             12  \n",
       "SINGLE FAMILY                              458818         463202  \n",
       "SPECIAL PURPOSE                                11             18  \n",
       "VACANT LAND                                 41894          41894  \n",
       "VACANT LAND - NON-RESIDENTIAL                 131            131  \n",
       "VACANT LAND - RESIDENTIAL                    1090           1090  "
      ]
     },
     "execution_count": 58,
     "metadata": {},
     "output_type": "execute_result"
    }
   ],
   "source": [
    "# counts by category code description\n",
    "prop_clean[['parcel_number','number_of_bedrooms','number_of_bathrooms','number_stories']].groupby(prop_clean.category_code_description).agg(['count']) "
   ]
  },
  {
   "cell_type": "code",
   "execution_count": 59,
   "id": "88b5de46",
   "metadata": {},
   "outputs": [
    {
     "data": {
      "text/html": [
       "<div>\n",
       "<style scoped>\n",
       "    .dataframe tbody tr th:only-of-type {\n",
       "        vertical-align: middle;\n",
       "    }\n",
       "\n",
       "    .dataframe tbody tr th {\n",
       "        vertical-align: top;\n",
       "    }\n",
       "\n",
       "    .dataframe thead tr th {\n",
       "        text-align: left;\n",
       "    }\n",
       "\n",
       "    .dataframe thead tr:last-of-type th {\n",
       "        text-align: right;\n",
       "    }\n",
       "</style>\n",
       "<table border=\"1\" class=\"dataframe\">\n",
       "  <thead>\n",
       "    <tr>\n",
       "      <th></th>\n",
       "      <th colspan=\"4\" halign=\"left\">number_of_bedrooms</th>\n",
       "    </tr>\n",
       "    <tr>\n",
       "      <th></th>\n",
       "      <th>count</th>\n",
       "      <th>mean</th>\n",
       "      <th>median</th>\n",
       "      <th>mode</th>\n",
       "    </tr>\n",
       "    <tr>\n",
       "      <th>category_code_description</th>\n",
       "      <th></th>\n",
       "      <th></th>\n",
       "      <th></th>\n",
       "      <th></th>\n",
       "    </tr>\n",
       "  </thead>\n",
       "  <tbody>\n",
       "    <tr>\n",
       "      <th>APARTMENTS  &gt; 4 UNITS</th>\n",
       "      <td>96</td>\n",
       "      <td>3.937500</td>\n",
       "      <td>3.0</td>\n",
       "      <td>0.0</td>\n",
       "    </tr>\n",
       "    <tr>\n",
       "      <th>COMMERCIAL</th>\n",
       "      <td>29</td>\n",
       "      <td>0.827586</td>\n",
       "      <td>0.0</td>\n",
       "      <td>0.0</td>\n",
       "    </tr>\n",
       "    <tr>\n",
       "      <th>GARAGE - COMMERCIAL</th>\n",
       "      <td>25</td>\n",
       "      <td>0.640000</td>\n",
       "      <td>0.0</td>\n",
       "      <td>0.0</td>\n",
       "    </tr>\n",
       "    <tr>\n",
       "      <th>GARAGE - RESIDENTIAL</th>\n",
       "      <td>514</td>\n",
       "      <td>0.031128</td>\n",
       "      <td>0.0</td>\n",
       "      <td>0.0</td>\n",
       "    </tr>\n",
       "    <tr>\n",
       "      <th>HOTEL</th>\n",
       "      <td>1</td>\n",
       "      <td>8.000000</td>\n",
       "      <td>8.0</td>\n",
       "      <td>8.0</td>\n",
       "    </tr>\n",
       "    <tr>\n",
       "      <th>INDUSTRIAL</th>\n",
       "      <td>4</td>\n",
       "      <td>0.750000</td>\n",
       "      <td>0.0</td>\n",
       "      <td>0.0</td>\n",
       "    </tr>\n",
       "    <tr>\n",
       "      <th>MIXED USE</th>\n",
       "      <td>206</td>\n",
       "      <td>2.271845</td>\n",
       "      <td>3.0</td>\n",
       "      <td>0.0</td>\n",
       "    </tr>\n",
       "    <tr>\n",
       "      <th>MULTI FAMILY</th>\n",
       "      <td>38302</td>\n",
       "      <td>1.846692</td>\n",
       "      <td>0.0</td>\n",
       "      <td>0.0</td>\n",
       "    </tr>\n",
       "    <tr>\n",
       "      <th>OFFICES</th>\n",
       "      <td>3</td>\n",
       "      <td>0.000000</td>\n",
       "      <td>0.0</td>\n",
       "      <td>0.0</td>\n",
       "    </tr>\n",
       "    <tr>\n",
       "      <th>RETAIL</th>\n",
       "      <td>2</td>\n",
       "      <td>1.000000</td>\n",
       "      <td>1.0</td>\n",
       "      <td>[0.0, 2.0]</td>\n",
       "    </tr>\n",
       "    <tr>\n",
       "      <th>SINGLE FAMILY</th>\n",
       "      <td>462931</td>\n",
       "      <td>2.487930</td>\n",
       "      <td>3.0</td>\n",
       "      <td>3.0</td>\n",
       "    </tr>\n",
       "    <tr>\n",
       "      <th>SPECIAL PURPOSE</th>\n",
       "      <td>11</td>\n",
       "      <td>1.000000</td>\n",
       "      <td>0.0</td>\n",
       "      <td>0.0</td>\n",
       "    </tr>\n",
       "    <tr>\n",
       "      <th>VACANT LAND</th>\n",
       "      <td>41894</td>\n",
       "      <td>0.006445</td>\n",
       "      <td>0.0</td>\n",
       "      <td>0.0</td>\n",
       "    </tr>\n",
       "    <tr>\n",
       "      <th>VACANT LAND - NON-RESIDENTIAL</th>\n",
       "      <td>131</td>\n",
       "      <td>0.000000</td>\n",
       "      <td>0.0</td>\n",
       "      <td>0.0</td>\n",
       "    </tr>\n",
       "    <tr>\n",
       "      <th>VACANT LAND - RESIDENTIAL</th>\n",
       "      <td>1090</td>\n",
       "      <td>0.022936</td>\n",
       "      <td>0.0</td>\n",
       "      <td>0.0</td>\n",
       "    </tr>\n",
       "  </tbody>\n",
       "</table>\n",
       "</div>"
      ],
      "text/plain": [
       "                              number_of_bedrooms                             \n",
       "                                           count      mean median        mode\n",
       "category_code_description                                                    \n",
       "APARTMENTS  > 4 UNITS                         96  3.937500    3.0         0.0\n",
       "COMMERCIAL                                    29  0.827586    0.0         0.0\n",
       "GARAGE - COMMERCIAL                           25  0.640000    0.0         0.0\n",
       "GARAGE - RESIDENTIAL                         514  0.031128    0.0         0.0\n",
       "HOTEL                                          1  8.000000    8.0         8.0\n",
       "INDUSTRIAL                                     4  0.750000    0.0         0.0\n",
       "MIXED USE                                    206  2.271845    3.0         0.0\n",
       "MULTI FAMILY                               38302  1.846692    0.0         0.0\n",
       "OFFICES                                        3  0.000000    0.0         0.0\n",
       "RETAIL                                         2  1.000000    1.0  [0.0, 2.0]\n",
       "SINGLE FAMILY                             462931  2.487930    3.0         3.0\n",
       "SPECIAL PURPOSE                               11  1.000000    0.0         0.0\n",
       "VACANT LAND                                41894  0.006445    0.0         0.0\n",
       "VACANT LAND - NON-RESIDENTIAL                131  0.000000    0.0         0.0\n",
       "VACANT LAND - RESIDENTIAL                   1090  0.022936    0.0         0.0"
      ]
     },
     "execution_count": 59,
     "metadata": {},
     "output_type": "execute_result"
    }
   ],
   "source": [
    "# count, mean, and mode for number of bedrooms by building category\n",
    "prop_clean[['number_of_bedrooms']].groupby(prop_clean.category_code_description).agg(['count','mean', 'median', pd.Series.mode]) "
   ]
  },
  {
   "cell_type": "code",
   "execution_count": 60,
   "id": "81c0f8e6",
   "metadata": {},
   "outputs": [
    {
     "data": {
      "text/html": [
       "<div>\n",
       "<style scoped>\n",
       "    .dataframe tbody tr th:only-of-type {\n",
       "        vertical-align: middle;\n",
       "    }\n",
       "\n",
       "    .dataframe tbody tr th {\n",
       "        vertical-align: top;\n",
       "    }\n",
       "\n",
       "    .dataframe thead tr th {\n",
       "        text-align: left;\n",
       "    }\n",
       "\n",
       "    .dataframe thead tr:last-of-type th {\n",
       "        text-align: right;\n",
       "    }\n",
       "</style>\n",
       "<table border=\"1\" class=\"dataframe\">\n",
       "  <thead>\n",
       "    <tr>\n",
       "      <th></th>\n",
       "      <th colspan=\"4\" halign=\"left\">number_of_bathrooms</th>\n",
       "    </tr>\n",
       "    <tr>\n",
       "      <th></th>\n",
       "      <th>count</th>\n",
       "      <th>mean</th>\n",
       "      <th>median</th>\n",
       "      <th>mode</th>\n",
       "    </tr>\n",
       "    <tr>\n",
       "      <th>category_code_description</th>\n",
       "      <th></th>\n",
       "      <th></th>\n",
       "      <th></th>\n",
       "      <th></th>\n",
       "    </tr>\n",
       "  </thead>\n",
       "  <tbody>\n",
       "    <tr>\n",
       "      <th>APARTMENTS  &gt; 4 UNITS</th>\n",
       "      <td>85</td>\n",
       "      <td>2.317647</td>\n",
       "      <td>0.0</td>\n",
       "      <td>0.0</td>\n",
       "    </tr>\n",
       "    <tr>\n",
       "      <th>COMMERCIAL</th>\n",
       "      <td>25</td>\n",
       "      <td>0.320000</td>\n",
       "      <td>0.0</td>\n",
       "      <td>0.0</td>\n",
       "    </tr>\n",
       "    <tr>\n",
       "      <th>GARAGE - COMMERCIAL</th>\n",
       "      <td>27</td>\n",
       "      <td>0.259259</td>\n",
       "      <td>0.0</td>\n",
       "      <td>0.0</td>\n",
       "    </tr>\n",
       "    <tr>\n",
       "      <th>GARAGE - RESIDENTIAL</th>\n",
       "      <td>514</td>\n",
       "      <td>0.013619</td>\n",
       "      <td>0.0</td>\n",
       "      <td>0.0</td>\n",
       "    </tr>\n",
       "    <tr>\n",
       "      <th>HOTEL</th>\n",
       "      <td>0</td>\n",
       "      <td>NaN</td>\n",
       "      <td>NaN</td>\n",
       "      <td>[]</td>\n",
       "    </tr>\n",
       "    <tr>\n",
       "      <th>INDUSTRIAL</th>\n",
       "      <td>4</td>\n",
       "      <td>0.250000</td>\n",
       "      <td>0.0</td>\n",
       "      <td>0.0</td>\n",
       "    </tr>\n",
       "    <tr>\n",
       "      <th>MIXED USE</th>\n",
       "      <td>187</td>\n",
       "      <td>1.149733</td>\n",
       "      <td>1.0</td>\n",
       "      <td>0.0</td>\n",
       "    </tr>\n",
       "    <tr>\n",
       "      <th>MULTI FAMILY</th>\n",
       "      <td>37695</td>\n",
       "      <td>0.998567</td>\n",
       "      <td>0.0</td>\n",
       "      <td>0.0</td>\n",
       "    </tr>\n",
       "    <tr>\n",
       "      <th>OFFICES</th>\n",
       "      <td>3</td>\n",
       "      <td>0.000000</td>\n",
       "      <td>0.0</td>\n",
       "      <td>0.0</td>\n",
       "    </tr>\n",
       "    <tr>\n",
       "      <th>RETAIL</th>\n",
       "      <td>2</td>\n",
       "      <td>0.500000</td>\n",
       "      <td>0.5</td>\n",
       "      <td>[0.0, 1.0]</td>\n",
       "    </tr>\n",
       "    <tr>\n",
       "      <th>SINGLE FAMILY</th>\n",
       "      <td>458818</td>\n",
       "      <td>0.982601</td>\n",
       "      <td>1.0</td>\n",
       "      <td>1.0</td>\n",
       "    </tr>\n",
       "    <tr>\n",
       "      <th>SPECIAL PURPOSE</th>\n",
       "      <td>11</td>\n",
       "      <td>0.454545</td>\n",
       "      <td>0.0</td>\n",
       "      <td>0.0</td>\n",
       "    </tr>\n",
       "    <tr>\n",
       "      <th>VACANT LAND</th>\n",
       "      <td>41894</td>\n",
       "      <td>0.002650</td>\n",
       "      <td>0.0</td>\n",
       "      <td>0.0</td>\n",
       "    </tr>\n",
       "    <tr>\n",
       "      <th>VACANT LAND - NON-RESIDENTIAL</th>\n",
       "      <td>131</td>\n",
       "      <td>0.000000</td>\n",
       "      <td>0.0</td>\n",
       "      <td>0.0</td>\n",
       "    </tr>\n",
       "    <tr>\n",
       "      <th>VACANT LAND - RESIDENTIAL</th>\n",
       "      <td>1090</td>\n",
       "      <td>0.006422</td>\n",
       "      <td>0.0</td>\n",
       "      <td>0.0</td>\n",
       "    </tr>\n",
       "  </tbody>\n",
       "</table>\n",
       "</div>"
      ],
      "text/plain": [
       "                              number_of_bathrooms                             \n",
       "                                            count      mean median        mode\n",
       "category_code_description                                                     \n",
       "APARTMENTS  > 4 UNITS                          85  2.317647    0.0         0.0\n",
       "COMMERCIAL                                     25  0.320000    0.0         0.0\n",
       "GARAGE - COMMERCIAL                            27  0.259259    0.0         0.0\n",
       "GARAGE - RESIDENTIAL                          514  0.013619    0.0         0.0\n",
       "HOTEL                                           0       NaN    NaN          []\n",
       "INDUSTRIAL                                      4  0.250000    0.0         0.0\n",
       "MIXED USE                                     187  1.149733    1.0         0.0\n",
       "MULTI FAMILY                                37695  0.998567    0.0         0.0\n",
       "OFFICES                                         3  0.000000    0.0         0.0\n",
       "RETAIL                                          2  0.500000    0.5  [0.0, 1.0]\n",
       "SINGLE FAMILY                              458818  0.982601    1.0         1.0\n",
       "SPECIAL PURPOSE                                11  0.454545    0.0         0.0\n",
       "VACANT LAND                                 41894  0.002650    0.0         0.0\n",
       "VACANT LAND - NON-RESIDENTIAL                 131  0.000000    0.0         0.0\n",
       "VACANT LAND - RESIDENTIAL                    1090  0.006422    0.0         0.0"
      ]
     },
     "execution_count": 60,
     "metadata": {},
     "output_type": "execute_result"
    }
   ],
   "source": [
    "# count, mean, and mode for number of bathrooms by building category\n",
    "prop_clean[['number_of_bathrooms']].groupby(prop_clean.category_code_description).agg(['count','mean', 'median', pd.Series.mode]) "
   ]
  },
  {
   "cell_type": "code",
   "execution_count": 61,
   "id": "75f33c92",
   "metadata": {},
   "outputs": [
    {
     "data": {
      "text/html": [
       "<div>\n",
       "<style scoped>\n",
       "    .dataframe tbody tr th:only-of-type {\n",
       "        vertical-align: middle;\n",
       "    }\n",
       "\n",
       "    .dataframe tbody tr th {\n",
       "        vertical-align: top;\n",
       "    }\n",
       "\n",
       "    .dataframe thead tr th {\n",
       "        text-align: left;\n",
       "    }\n",
       "\n",
       "    .dataframe thead tr:last-of-type th {\n",
       "        text-align: right;\n",
       "    }\n",
       "</style>\n",
       "<table border=\"1\" class=\"dataframe\">\n",
       "  <thead>\n",
       "    <tr>\n",
       "      <th></th>\n",
       "      <th colspan=\"4\" halign=\"left\">number_stories</th>\n",
       "    </tr>\n",
       "    <tr>\n",
       "      <th></th>\n",
       "      <th>count</th>\n",
       "      <th>mean</th>\n",
       "      <th>median</th>\n",
       "      <th>mode</th>\n",
       "    </tr>\n",
       "    <tr>\n",
       "      <th>category_code_description</th>\n",
       "      <th></th>\n",
       "      <th></th>\n",
       "      <th></th>\n",
       "      <th></th>\n",
       "    </tr>\n",
       "  </thead>\n",
       "  <tbody>\n",
       "    <tr>\n",
       "      <th>APARTMENTS  &gt; 4 UNITS</th>\n",
       "      <td>3235</td>\n",
       "      <td>3.868006</td>\n",
       "      <td>3.0</td>\n",
       "      <td>3.0</td>\n",
       "    </tr>\n",
       "    <tr>\n",
       "      <th>COMMERCIAL</th>\n",
       "      <td>303</td>\n",
       "      <td>2.099010</td>\n",
       "      <td>2.0</td>\n",
       "      <td>1.0</td>\n",
       "    </tr>\n",
       "    <tr>\n",
       "      <th>GARAGE - COMMERCIAL</th>\n",
       "      <td>63</td>\n",
       "      <td>2.761905</td>\n",
       "      <td>1.0</td>\n",
       "      <td>1.0</td>\n",
       "    </tr>\n",
       "    <tr>\n",
       "      <th>GARAGE - RESIDENTIAL</th>\n",
       "      <td>547</td>\n",
       "      <td>1.023766</td>\n",
       "      <td>1.0</td>\n",
       "      <td>1.0</td>\n",
       "    </tr>\n",
       "    <tr>\n",
       "      <th>HOTEL</th>\n",
       "      <td>110</td>\n",
       "      <td>8.672727</td>\n",
       "      <td>5.0</td>\n",
       "      <td>4.0</td>\n",
       "    </tr>\n",
       "    <tr>\n",
       "      <th>INDUSTRIAL</th>\n",
       "      <td>589</td>\n",
       "      <td>1.612903</td>\n",
       "      <td>1.0</td>\n",
       "      <td>1.0</td>\n",
       "    </tr>\n",
       "    <tr>\n",
       "      <th>MIXED USE</th>\n",
       "      <td>1152</td>\n",
       "      <td>2.583333</td>\n",
       "      <td>3.0</td>\n",
       "      <td>3.0</td>\n",
       "    </tr>\n",
       "    <tr>\n",
       "      <th>MULTI FAMILY</th>\n",
       "      <td>40670</td>\n",
       "      <td>2.374699</td>\n",
       "      <td>2.0</td>\n",
       "      <td>2.0</td>\n",
       "    </tr>\n",
       "    <tr>\n",
       "      <th>OFFICES</th>\n",
       "      <td>720</td>\n",
       "      <td>4.770833</td>\n",
       "      <td>3.0</td>\n",
       "      <td>1.0</td>\n",
       "    </tr>\n",
       "    <tr>\n",
       "      <th>RETAIL</th>\n",
       "      <td>12</td>\n",
       "      <td>1.750000</td>\n",
       "      <td>1.5</td>\n",
       "      <td>1.0</td>\n",
       "    </tr>\n",
       "    <tr>\n",
       "      <th>SINGLE FAMILY</th>\n",
       "      <td>463202</td>\n",
       "      <td>1.914297</td>\n",
       "      <td>2.0</td>\n",
       "      <td>2.0</td>\n",
       "    </tr>\n",
       "    <tr>\n",
       "      <th>SPECIAL PURPOSE</th>\n",
       "      <td>18</td>\n",
       "      <td>2.111111</td>\n",
       "      <td>2.0</td>\n",
       "      <td>2.0</td>\n",
       "    </tr>\n",
       "    <tr>\n",
       "      <th>VACANT LAND</th>\n",
       "      <td>41894</td>\n",
       "      <td>0.006254</td>\n",
       "      <td>0.0</td>\n",
       "      <td>0.0</td>\n",
       "    </tr>\n",
       "    <tr>\n",
       "      <th>VACANT LAND - NON-RESIDENTIAL</th>\n",
       "      <td>131</td>\n",
       "      <td>0.000000</td>\n",
       "      <td>0.0</td>\n",
       "      <td>0.0</td>\n",
       "    </tr>\n",
       "    <tr>\n",
       "      <th>VACANT LAND - RESIDENTIAL</th>\n",
       "      <td>1090</td>\n",
       "      <td>0.113761</td>\n",
       "      <td>0.0</td>\n",
       "      <td>0.0</td>\n",
       "    </tr>\n",
       "  </tbody>\n",
       "</table>\n",
       "</div>"
      ],
      "text/plain": [
       "                              number_stories                      \n",
       "                                       count      mean median mode\n",
       "category_code_description                                         \n",
       "APARTMENTS  > 4 UNITS                   3235  3.868006    3.0  3.0\n",
       "COMMERCIAL                               303  2.099010    2.0  1.0\n",
       "GARAGE - COMMERCIAL                       63  2.761905    1.0  1.0\n",
       "GARAGE - RESIDENTIAL                     547  1.023766    1.0  1.0\n",
       "HOTEL                                    110  8.672727    5.0  4.0\n",
       "INDUSTRIAL                               589  1.612903    1.0  1.0\n",
       "MIXED USE                               1152  2.583333    3.0  3.0\n",
       "MULTI FAMILY                           40670  2.374699    2.0  2.0\n",
       "OFFICES                                  720  4.770833    3.0  1.0\n",
       "RETAIL                                    12  1.750000    1.5  1.0\n",
       "SINGLE FAMILY                         463202  1.914297    2.0  2.0\n",
       "SPECIAL PURPOSE                           18  2.111111    2.0  2.0\n",
       "VACANT LAND                            41894  0.006254    0.0  0.0\n",
       "VACANT LAND - NON-RESIDENTIAL            131  0.000000    0.0  0.0\n",
       "VACANT LAND - RESIDENTIAL               1090  0.113761    0.0  0.0"
      ]
     },
     "execution_count": 61,
     "metadata": {},
     "output_type": "execute_result"
    }
   ],
   "source": [
    "# count, mean, and mode for number of stories by building category\n",
    "prop_clean[['number_stories']].groupby(prop_clean.category_code_description).agg(['count','mean', 'median', pd.Series.mode]) "
   ]
  },
  {
   "cell_type": "markdown",
   "id": "77c1a714",
   "metadata": {},
   "source": [
    "### Impute or drop missing values in the property dataset"
   ]
  },
  {
   "cell_type": "markdown",
   "id": "c5c632b5",
   "metadata": {},
   "source": [
    "We will impute the missing values of number of bedrooms, bathrooms, and stories with a linear regression."
   ]
  },
  {
   "cell_type": "code",
   "execution_count": 62,
   "id": "9a77e4d1",
   "metadata": {},
   "outputs": [
    {
     "data": {
      "text/plain": [
       "(17, 15)"
      ]
     },
     "execution_count": 62,
     "metadata": {},
     "output_type": "execute_result"
    }
   ],
   "source": [
    "# check # of records where category code description is missing\n",
    "prop_clean[prop_clean.category_code_description.isna()].shape"
   ]
  },
  {
   "cell_type": "code",
   "execution_count": 63,
   "id": "bb354b72",
   "metadata": {},
   "outputs": [],
   "source": [
    "# remove records where category code description is missing\n",
    "prop_clean = prop_clean[~prop_clean.category_code_description.isna()]"
   ]
  },
  {
   "cell_type": "code",
   "execution_count": 64,
   "id": "b97b8550",
   "metadata": {},
   "outputs": [],
   "source": [
    "# reformat the category_code_description column and create dummies\n",
    "prop_clean['category_code_description'] = prop_clean['category_code_description'].astype(str)\n",
    "prop_clean['category_code_description'] = prop_clean.category_code_description.apply(lambda x: None if x == None else x.split('-')[0].strip().replace(' ', '_').lower()) \n",
    "prop_clean = pd.get_dummies(prop_clean, columns=['category_code_description'], prefix= '', prefix_sep='')\n",
    "prop_clean.rename(columns = {'apartments__>_4_units':'apartments'}, inplace=True)\n",
    "\n",
    "# convert bool types to int\n",
    "prop_clean.apartments = prop_clean.apartments.astype(int)\n",
    "prop_clean.garage = prop_clean.garage.astype(int)\n",
    "prop_clean.commercial = prop_clean.commercial.astype(int)\n",
    "prop_clean.industrial = prop_clean.industrial.astype(int)\n",
    "prop_clean.hotel = prop_clean.hotel.astype(int)\n",
    "prop_clean.mixed_use = prop_clean.mixed_use.astype(int)\n",
    "prop_clean.multi_family = prop_clean.multi_family.astype(int)\n",
    "prop_clean.offices = prop_clean.offices.astype(int)\n",
    "prop_clean.retail = prop_clean.retail.astype(int)\n",
    "prop_clean.single_family = prop_clean.single_family.astype(int)\n",
    "prop_clean.special_purpose = prop_clean.special_purpose.astype(int)\n",
    "prop_clean.vacant_land = prop_clean.vacant_land.astype(int)"
   ]
  },
  {
   "cell_type": "markdown",
   "id": "7268e0a0",
   "metadata": {},
   "source": [
    "Impute Missing Values for Number of Bedrooms"
   ]
  },
  {
   "cell_type": "code",
   "execution_count": 65,
   "id": "c327d6e9",
   "metadata": {},
   "outputs": [],
   "source": [
    "# create training set\n",
    "prop_train_bed = prop_clean[(~prop_clean.number_of_bedrooms.isna()) & (~prop_clean.total_area.isna()) & (~prop_clean.total_livable_area.isna())]\n",
    "\n",
    "# create test set\n",
    "prop_predict_bed = prop_clean[(prop_clean.number_of_bedrooms.isna()) & (~prop_clean.total_area.isna()) & (~prop_clean.total_livable_area.isna()) ]\n",
    "\n",
    "# create X train, y train, and X test\n",
    "X_train_bed = prop_train_bed[['apartments', 'garage', 'commercial', 'industrial', 'hotel', 'mixed_use','multi_family','offices','retail','single_family','special_purpose','special_purpose','vacant_land','total_area','total_livable_area']]\n",
    "y_train_bed = prop_train_bed.number_of_bedrooms\n",
    "X_predict_bed = prop_predict_bed[['apartments', 'garage', 'commercial', 'industrial', 'hotel', 'mixed_use','multi_family','offices','retail','single_family','special_purpose','special_purpose','vacant_land','total_area','total_livable_area']]\n",
    "\n",
    "# train the model\n",
    "reg_bed = LinearRegression()\n",
    "reg_bed = reg_bed.fit(X_train_bed, y_train_bed)\n",
    "\n",
    "# predict missing values\n",
    "prop_clean.loc[(prop_clean.number_of_bedrooms.isna()) & (~prop_clean.total_area.isna()) & (~prop_clean.total_livable_area.isna()), 'number_of_bedrooms'] = reg_bed.predict(X_predict_bed)"
   ]
  },
  {
   "cell_type": "markdown",
   "id": "cdb75d45",
   "metadata": {},
   "source": [
    "Impute Missing Values for the Number of Bathrooms"
   ]
  },
  {
   "cell_type": "code",
   "execution_count": 66,
   "id": "12d28689",
   "metadata": {},
   "outputs": [],
   "source": [
    "# create training set\n",
    "prop_train_bath = prop_clean[(~prop_clean.number_of_bathrooms.isna()) & (~prop_clean.total_area.isna()) & (~prop_clean.total_livable_area.isna())]\n",
    "\n",
    "# create test set\n",
    "prop_predict_bath = prop_clean[(prop_clean.number_of_bathrooms.isna()) & (~prop_clean.total_area.isna()) & (~prop_clean.total_livable_area.isna()) ]\n",
    "\n",
    "# create X train, y train, and X test\n",
    "X_train_bath = prop_train_bath[['apartments', 'garage', 'commercial', 'industrial', 'hotel', 'mixed_use','multi_family','offices','retail','single_family','special_purpose','special_purpose','vacant_land','total_area','total_livable_area']]\n",
    "y_train_bath = prop_train_bath.number_of_bathrooms\n",
    "X_predict_bath = prop_predict_bath[['apartments', 'garage', 'commercial', 'industrial', 'hotel', 'mixed_use','multi_family','offices','retail','single_family','special_purpose','special_purpose','vacant_land','total_area','total_livable_area']]\n",
    "\n",
    "# train the model\n",
    "reg_bath = LinearRegression()\n",
    "reg_bath = reg_bath.fit(X_train_bath, y_train_bath)\n",
    "\n",
    "# predict missing values\n",
    "prop_clean.loc[(prop_clean.number_of_bathrooms.isna()) & (~prop_clean.total_area.isna()) & (~prop_clean.total_livable_area.isna()), 'number_of_bathrooms'] = reg_bath.predict(X_predict_bath)"
   ]
  },
  {
   "cell_type": "markdown",
   "id": "efa889aa",
   "metadata": {},
   "source": [
    "Impute Missing Values for the Number of Stories"
   ]
  },
  {
   "cell_type": "code",
   "execution_count": 67,
   "id": "da58d793",
   "metadata": {},
   "outputs": [],
   "source": [
    "# create training set\n",
    "prop_train_stories = prop_clean[(~prop_clean.number_stories.isna()) & (~prop_clean.total_area.isna()) & (~prop_clean.total_livable_area.isna())]\n",
    "\n",
    "# create test set\n",
    "prop_predict_stories = prop_clean[(prop_clean.number_stories.isna()) & (~prop_clean.total_area.isna()) & (~prop_clean.total_livable_area.isna()) ]\n",
    "\n",
    "# create X train, y train, and X test\n",
    "X_train_stories = prop_train_stories[['apartments', 'garage', 'commercial', 'industrial', 'hotel', 'mixed_use','multi_family','offices','retail','single_family','special_purpose','special_purpose','vacant_land','total_area','total_livable_area']]\n",
    "y_train_stories = prop_train_stories.number_stories\n",
    "X_predict_stories = prop_predict_stories[['apartments', 'garage', 'commercial', 'industrial', 'hotel', 'mixed_use','multi_family','offices','retail','single_family','special_purpose','special_purpose','vacant_land','total_area','total_livable_area']]\n",
    "\n",
    "# train the model\n",
    "reg_stories = LinearRegression()\n",
    "reg_stories = reg_stories.fit(X_train_stories, y_train_stories)\n",
    "\n",
    "# predict missing values\n",
    "prop_clean.loc[(prop_clean.number_stories.isna()) & (~prop_clean.total_area.isna()) & (~prop_clean.total_livable_area.isna()), 'number_stories'] = reg_stories.predict(X_predict_stories)"
   ]
  },
  {
   "cell_type": "code",
   "execution_count": 68,
   "id": "0eb217d6",
   "metadata": {},
   "outputs": [
    {
     "data": {
      "text/plain": [
       "parcel_number             0\n",
       "exterior_condition      795\n",
       "interior_condition      813\n",
       "homestead_exemption       0\n",
       "mailing_zip            2508\n",
       "number_of_bathrooms     738\n",
       "number_of_bedrooms      556\n",
       "number_stories          477\n",
       "sale_price             2735\n",
       "total_area              718\n",
       "total_livable_area      457\n",
       "year_built              454\n",
       "sale_year              2710\n",
       "condo                     0\n",
       "apartments                0\n",
       "commercial                0\n",
       "garage                    0\n",
       "hotel                     0\n",
       "industrial                0\n",
       "mixed_use                 0\n",
       "multi_family              0\n",
       "offices                   0\n",
       "retail                    0\n",
       "single_family             0\n",
       "special_purpose           0\n",
       "vacant_land               0\n",
       "dtype: int64"
      ]
     },
     "execution_count": 68,
     "metadata": {},
     "output_type": "execute_result"
    }
   ],
   "source": [
    "prop_clean.isna().sum()"
   ]
  },
  {
   "cell_type": "code",
   "execution_count": 69,
   "id": "4eff6a38",
   "metadata": {},
   "outputs": [
    {
     "data": {
      "text/plain": [
       "6061"
      ]
     },
     "execution_count": 69,
     "metadata": {},
     "output_type": "execute_result"
    }
   ],
   "source": [
    "# count the number of records that would be dropped if any records with missing values were dropped\n",
    "len(prop_clean[prop_clean.isna().any(axis = 'columns')])"
   ]
  },
  {
   "cell_type": "markdown",
   "id": "fad59e77",
   "metadata": {},
   "source": [
    "We will drop the rest of the records with missing values since missingness in the property dataset is a random or completely random and less then 5% of the records would be dropped."
   ]
  },
  {
   "cell_type": "code",
   "execution_count": 70,
   "id": "429f1e14",
   "metadata": {},
   "outputs": [],
   "source": [
    "# drop missing records\n",
    "prop_clean.dropna(inplace=True)"
   ]
  },
  {
   "cell_type": "code",
   "execution_count": 71,
   "id": "e3858bcc",
   "metadata": {},
   "outputs": [
    {
     "data": {
      "text/plain": [
       "parcel_number          0\n",
       "exterior_condition     0\n",
       "interior_condition     0\n",
       "homestead_exemption    0\n",
       "mailing_zip            0\n",
       "number_of_bathrooms    0\n",
       "number_of_bedrooms     0\n",
       "number_stories         0\n",
       "sale_price             0\n",
       "total_area             0\n",
       "total_livable_area     0\n",
       "year_built             0\n",
       "sale_year              0\n",
       "condo                  0\n",
       "apartments             0\n",
       "commercial             0\n",
       "garage                 0\n",
       "hotel                  0\n",
       "industrial             0\n",
       "mixed_use              0\n",
       "multi_family           0\n",
       "offices                0\n",
       "retail                 0\n",
       "single_family          0\n",
       "special_purpose        0\n",
       "vacant_land            0\n",
       "dtype: int64"
      ]
     },
     "execution_count": 71,
     "metadata": {},
     "output_type": "execute_result"
    }
   ],
   "source": [
    "# check missing values\n",
    "prop_clean.isna().sum()"
   ]
  },
  {
   "cell_type": "markdown",
   "id": "ecb7a74c",
   "metadata": {},
   "source": [
    "## Handle missing values in the Property Assessment dataset"
   ]
  },
  {
   "cell_type": "code",
   "execution_count": 72,
   "id": "c879b0e7",
   "metadata": {},
   "outputs": [
    {
     "data": {
      "text/plain": [
       "parcel_number       0\n",
       "year                0\n",
       "market_value        0\n",
       "taxable_land        1\n",
       "taxable_building    3\n",
       "exempt_land         0\n",
       "exempt_building     0\n",
       "taxable             4\n",
       "exempt              0\n",
       "taxable_1yr         5\n",
       "exempt_1yr          0\n",
       "taxable_3yr         2\n",
       "exempt_3yr          0\n",
       "taxable_5yr         1\n",
       "exempt_5yr          0\n",
       "dtype: int64"
      ]
     },
     "execution_count": 72,
     "metadata": {},
     "output_type": "execute_result"
    }
   ],
   "source": [
    "assess_clean.isna().sum()"
   ]
  },
  {
   "cell_type": "code",
   "execution_count": 73,
   "id": "23a6b33a",
   "metadata": {},
   "outputs": [
    {
     "data": {
      "text/html": [
       "<div>\n",
       "<style scoped>\n",
       "    .dataframe tbody tr th:only-of-type {\n",
       "        vertical-align: middle;\n",
       "    }\n",
       "\n",
       "    .dataframe tbody tr th {\n",
       "        vertical-align: top;\n",
       "    }\n",
       "\n",
       "    .dataframe thead th {\n",
       "        text-align: right;\n",
       "    }\n",
       "</style>\n",
       "<table border=\"1\" class=\"dataframe\">\n",
       "  <thead>\n",
       "    <tr style=\"text-align: right;\">\n",
       "      <th></th>\n",
       "      <th>parcel_number</th>\n",
       "      <th>year</th>\n",
       "      <th>market_value</th>\n",
       "      <th>taxable_land</th>\n",
       "      <th>taxable_building</th>\n",
       "      <th>exempt_land</th>\n",
       "      <th>exempt_building</th>\n",
       "      <th>taxable</th>\n",
       "      <th>exempt</th>\n",
       "      <th>taxable_1yr</th>\n",
       "      <th>exempt_1yr</th>\n",
       "      <th>taxable_3yr</th>\n",
       "      <th>exempt_3yr</th>\n",
       "      <th>taxable_5yr</th>\n",
       "      <th>exempt_5yr</th>\n",
       "    </tr>\n",
       "  </thead>\n",
       "  <tbody>\n",
       "    <tr>\n",
       "      <th>1263613</th>\n",
       "      <td>191397500</td>\n",
       "      <td>2023</td>\n",
       "      <td>408000</td>\n",
       "      <td>89700.0</td>\n",
       "      <td>NaN</td>\n",
       "      <td>318300.0</td>\n",
       "      <td>0.0</td>\n",
       "      <td>NaN</td>\n",
       "      <td>318300.0</td>\n",
       "      <td>59800.0</td>\n",
       "      <td>0.0</td>\n",
       "      <td>59800.0</td>\n",
       "      <td>0.0</td>\n",
       "      <td>59800.0</td>\n",
       "      <td>0.0</td>\n",
       "    </tr>\n",
       "    <tr>\n",
       "      <th>1337472</th>\n",
       "      <td>302150100</td>\n",
       "      <td>2023</td>\n",
       "      <td>256000</td>\n",
       "      <td>61200.0</td>\n",
       "      <td>NaN</td>\n",
       "      <td>194800.0</td>\n",
       "      <td>0.0</td>\n",
       "      <td>NaN</td>\n",
       "      <td>194800.0</td>\n",
       "      <td>61200.0</td>\n",
       "      <td>194800.0</td>\n",
       "      <td>61200.0</td>\n",
       "      <td>194800.0</td>\n",
       "      <td>256000.0</td>\n",
       "      <td>0.0</td>\n",
       "    </tr>\n",
       "    <tr>\n",
       "      <th>1688473</th>\n",
       "      <td>885948280</td>\n",
       "      <td>2023</td>\n",
       "      <td>317500</td>\n",
       "      <td>317500.0</td>\n",
       "      <td>NaN</td>\n",
       "      <td>0.0</td>\n",
       "      <td>0.0</td>\n",
       "      <td>NaN</td>\n",
       "      <td>0.0</td>\n",
       "      <td>245300.0</td>\n",
       "      <td>0.0</td>\n",
       "      <td>204417.0</td>\n",
       "      <td>40883.0</td>\n",
       "      <td>0.0</td>\n",
       "      <td>108900.0</td>\n",
       "    </tr>\n",
       "  </tbody>\n",
       "</table>\n",
       "</div>"
      ],
      "text/plain": [
       "         parcel_number  year  market_value  taxable_land  taxable_building  \\\n",
       "1263613      191397500  2023        408000       89700.0               NaN   \n",
       "1337472      302150100  2023        256000       61200.0               NaN   \n",
       "1688473      885948280  2023        317500      317500.0               NaN   \n",
       "\n",
       "         exempt_land  exempt_building  taxable    exempt  taxable_1yr  \\\n",
       "1263613     318300.0              0.0      NaN  318300.0      59800.0   \n",
       "1337472     194800.0              0.0      NaN  194800.0      61200.0   \n",
       "1688473          0.0              0.0      NaN       0.0     245300.0   \n",
       "\n",
       "         exempt_1yr  taxable_3yr  exempt_3yr  taxable_5yr  exempt_5yr  \n",
       "1263613         0.0      59800.0         0.0      59800.0         0.0  \n",
       "1337472    194800.0      61200.0    194800.0     256000.0         0.0  \n",
       "1688473         0.0     204417.0     40883.0          0.0    108900.0  "
      ]
     },
     "execution_count": 73,
     "metadata": {},
     "output_type": "execute_result"
    }
   ],
   "source": [
    "assess_clean[assess_clean.taxable_building.isna()]"
   ]
  },
  {
   "cell_type": "markdown",
   "id": "023adfbe",
   "metadata": {},
   "source": [
    "The final assessment table is the result of inner joins, so we have all properties that have an assessment for the past 5 years. Missing values here seem to be the result of input error so we will drop those records."
   ]
  },
  {
   "cell_type": "code",
   "execution_count": 74,
   "id": "2ac94c56",
   "metadata": {},
   "outputs": [],
   "source": [
    "assess_clean.dropna(inplace=True)"
   ]
  },
  {
   "cell_type": "markdown",
   "id": "82a47b70",
   "metadata": {},
   "source": [
    "## Handle missing values in the Delinquency dataframe"
   ]
  },
  {
   "cell_type": "markdown",
   "id": "da0494e5",
   "metadata": {},
   "source": [
    "The delinquency dataset has no missing values, as a missing value would indicate no Real Estate Tax delinquency,"
   ]
  },
  {
   "cell_type": "code",
   "execution_count": 75,
   "id": "56837457",
   "metadata": {},
   "outputs": [
    {
     "data": {
      "text/plain": [
       "parcel_number     0\n",
       "year              0\n",
       "delinq_bal        0\n",
       "delinq_bal_1yr    0\n",
       "delinq_bal_2yr    0\n",
       "delinq_bal_3yr    0\n",
       "delinq_bal_4yr    0\n",
       "delinq_bal_5yr    0\n",
       "dtype: int64"
      ]
     },
     "execution_count": 75,
     "metadata": {},
     "output_type": "execute_result"
    }
   ],
   "source": [
    "delinq_clean.isna().sum()"
   ]
  },
  {
   "cell_type": "markdown",
   "id": "3da84aa5",
   "metadata": {},
   "source": [
    "## Join dataframes"
   ]
  },
  {
   "cell_type": "markdown",
   "id": "1bd98824",
   "metadata": {},
   "source": [
    "The data will have one record, per property, per assessment year. "
   ]
  },
  {
   "cell_type": "code",
   "execution_count": 76,
   "id": "073ec20b",
   "metadata": {},
   "outputs": [
    {
     "data": {
      "text/plain": [
       "(3445768, 15)"
      ]
     },
     "execution_count": 76,
     "metadata": {},
     "output_type": "execute_result"
    }
   ],
   "source": [
    "assess_clean.shape"
   ]
  },
  {
   "cell_type": "code",
   "execution_count": 77,
   "id": "1f45a434",
   "metadata": {},
   "outputs": [
    {
     "data": {
      "text/plain": [
       "array([2020, 2021, 2022, 2023, 2024])"
      ]
     },
     "execution_count": 77,
     "metadata": {},
     "output_type": "execute_result"
    }
   ],
   "source": [
    "delinq_clean.year.unique()"
   ]
  },
  {
   "cell_type": "code",
   "execution_count": 78,
   "id": "f33c411a",
   "metadata": {},
   "outputs": [],
   "source": [
    "# create copy of assess df and join to property df\n",
    "rea = assess_clean.copy(deep=True)\n",
    "\n",
    "# inner join to get all records with both assessment and property information\n",
    "rea = pd.merge(rea, prop_clean, on=\"parcel_number\", how=\"inner\")\n",
    "\n",
    "# left join to delinquency data since not all records will have delinquency data\n",
    "rea = pd.merge(rea, delinq_clean, on=[\"parcel_number\",\"year\"], how=\"left\")"
   ]
  },
  {
   "cell_type": "code",
   "execution_count": 79,
   "id": "8ef7ce9a",
   "metadata": {},
   "outputs": [
    {
     "data": {
      "text/plain": [
       "(577750, 26)"
      ]
     },
     "execution_count": 79,
     "metadata": {},
     "output_type": "execute_result"
    }
   ],
   "source": [
    "prop_clean.shape"
   ]
  },
  {
   "cell_type": "code",
   "execution_count": 80,
   "id": "51ecebde",
   "metadata": {},
   "outputs": [
    {
     "data": {
      "text/plain": [
       "(3429169, 46)"
      ]
     },
     "execution_count": 80,
     "metadata": {},
     "output_type": "execute_result"
    }
   ],
   "source": [
    "rea.shape"
   ]
  },
  {
   "cell_type": "code",
   "execution_count": 81,
   "id": "93f4141a",
   "metadata": {},
   "outputs": [
    {
     "data": {
      "text/plain": [
       "parcel_number                0\n",
       "year                         0\n",
       "market_value                 0\n",
       "taxable_land                 0\n",
       "taxable_building             0\n",
       "exempt_land                  0\n",
       "exempt_building              0\n",
       "taxable                      0\n",
       "exempt                       0\n",
       "taxable_1yr                  0\n",
       "exempt_1yr                   0\n",
       "taxable_3yr                  0\n",
       "exempt_3yr                   0\n",
       "taxable_5yr                  0\n",
       "exempt_5yr                   0\n",
       "exterior_condition           0\n",
       "interior_condition           0\n",
       "homestead_exemption          0\n",
       "mailing_zip                  0\n",
       "number_of_bathrooms          0\n",
       "number_of_bedrooms           0\n",
       "number_stories               0\n",
       "sale_price                   0\n",
       "total_area                   0\n",
       "total_livable_area           0\n",
       "year_built                   0\n",
       "sale_year                    0\n",
       "condo                        0\n",
       "apartments                   0\n",
       "commercial                   0\n",
       "garage                       0\n",
       "hotel                        0\n",
       "industrial                   0\n",
       "mixed_use                    0\n",
       "multi_family                 0\n",
       "offices                      0\n",
       "retail                       0\n",
       "single_family                0\n",
       "special_purpose              0\n",
       "vacant_land                  0\n",
       "delinq_bal             3069902\n",
       "delinq_bal_1yr         3069902\n",
       "delinq_bal_2yr         3069902\n",
       "delinq_bal_3yr         3069902\n",
       "delinq_bal_4yr         3069902\n",
       "delinq_bal_5yr         3069902\n",
       "dtype: int64"
      ]
     },
     "execution_count": 81,
     "metadata": {},
     "output_type": "execute_result"
    }
   ],
   "source": [
    "rea.isna().sum()"
   ]
  },
  {
   "cell_type": "code",
   "execution_count": 82,
   "id": "a3e5cab6",
   "metadata": {},
   "outputs": [],
   "source": [
    "# impute missing values in the delinquency data\n",
    "# no match to the delinquency data means you have $0 in delinquency\n",
    "rea.loc[rea.year != 2025, 'delinq_bal'] = rea['delinq_bal'].apply(lambda x: 0 if pd.isna(x) else x)\n",
    "rea['delinq_bal_1yr'] = rea['delinq_bal_1yr'].apply(lambda x: 0 if pd.isna(x) else x)\n",
    "rea['delinq_bal_2yr'] = rea['delinq_bal_2yr'].apply(lambda x: 0 if pd.isna(x) else x)\n",
    "rea['delinq_bal_3yr'] = rea['delinq_bal_3yr'].apply(lambda x: 0 if pd.isna(x) else x)\n",
    "rea['delinq_bal_4yr'] = rea['delinq_bal_4yr'].apply(lambda x: 0 if pd.isna(x) else x)\n",
    "rea['delinq_bal_5yr'] = rea['delinq_bal_5yr'].apply(lambda x: 0 if pd.isna(x) else x)"
   ]
  },
  {
   "cell_type": "code",
   "execution_count": 83,
   "id": "5c3f5ea3",
   "metadata": {},
   "outputs": [
    {
     "data": {
      "text/plain": [
       "parcel_number               0\n",
       "year                        0\n",
       "market_value                0\n",
       "taxable_land                0\n",
       "taxable_building            0\n",
       "exempt_land                 0\n",
       "exempt_building             0\n",
       "taxable                     0\n",
       "exempt                      0\n",
       "taxable_1yr                 0\n",
       "exempt_1yr                  0\n",
       "taxable_3yr                 0\n",
       "exempt_3yr                  0\n",
       "taxable_5yr                 0\n",
       "exempt_5yr                  0\n",
       "exterior_condition          0\n",
       "interior_condition          0\n",
       "homestead_exemption         0\n",
       "mailing_zip                 0\n",
       "number_of_bathrooms         0\n",
       "number_of_bedrooms          0\n",
       "number_stories              0\n",
       "sale_price                  0\n",
       "total_area                  0\n",
       "total_livable_area          0\n",
       "year_built                  0\n",
       "sale_year                   0\n",
       "condo                       0\n",
       "apartments                  0\n",
       "commercial                  0\n",
       "garage                      0\n",
       "hotel                       0\n",
       "industrial                  0\n",
       "mixed_use                   0\n",
       "multi_family                0\n",
       "offices                     0\n",
       "retail                      0\n",
       "single_family               0\n",
       "special_purpose             0\n",
       "vacant_land                 0\n",
       "delinq_bal             573666\n",
       "delinq_bal_1yr              0\n",
       "delinq_bal_2yr              0\n",
       "delinq_bal_3yr              0\n",
       "delinq_bal_4yr              0\n",
       "delinq_bal_5yr              0\n",
       "dtype: int64"
      ]
     },
     "execution_count": 83,
     "metadata": {},
     "output_type": "execute_result"
    }
   ],
   "source": [
    "# nans for the 2025 delinquency data only\n",
    "rea.isna().sum()"
   ]
  },
  {
   "cell_type": "markdown",
   "id": "e95551fa",
   "metadata": {},
   "source": [
    "# Feature Engineering"
   ]
  },
  {
   "cell_type": "code",
   "execution_count": 84,
   "id": "68be398c",
   "metadata": {},
   "outputs": [],
   "source": [
    "# create new df for existing columns + featured engineered\n",
    "rea_all = rea.copy(deep=True)"
   ]
  },
  {
   "cell_type": "markdown",
   "id": "6f1f212b",
   "metadata": {},
   "source": [
    "### Create Property features"
   ]
  },
  {
   "cell_type": "code",
   "execution_count": 85,
   "id": "bf7cb137",
   "metadata": {},
   "outputs": [],
   "source": [
    "# create indicator for homestead exemption\n",
    "rea_all.homestead_exemption = rea_all.homestead_exemption.apply(lambda x: 0 if x < 1 else 1)\n",
    "\n",
    "# create indicator for mailing zip outside of the city limits\n",
    "rea_all['mailing_outside_city'] = rea_all.mailing_zip.apply(lambda x: 0 if x == None else (0 if x[:3] == '191' else 1))\n",
    "rea_all.drop(columns=\"mailing_zip\", axis=1, inplace=True)"
   ]
  },
  {
   "cell_type": "markdown",
   "id": "0bb3c4ae",
   "metadata": {},
   "source": [
    "### Create Assessment Features"
   ]
  },
  {
   "cell_type": "code",
   "execution_count": 86,
   "id": "1e1d7c35",
   "metadata": {},
   "outputs": [],
   "source": [
    "# create change in taxable value over 1 year column\n",
    "rea_all['chg_taxable_1yr'] = rea_all.taxable - rea_all.taxable_1yr\n",
    "rea_all['chg_taxable_1yr_%'] = 0.0\n",
    "rea_all.loc[rea_all.taxable_1yr > 0,'chg_taxable_1yr_%'] = rea_all['chg_taxable_1yr']/rea_all['taxable_1yr']\n",
    "\n",
    "# create change in taxable value over 3 year column\n",
    "rea_all['chg_taxable_3yr'] = rea_all.taxable - rea_all.taxable_3yr\n",
    "rea_all['chg_taxable_3yr_%'] = 0.0\n",
    "rea_all.loc[rea_all.taxable_3yr > 0,'chg_taxable_3yr_%'] = rea_all['chg_taxable_3yr']/rea_all['taxable_3yr']\n",
    "\n",
    "# create change in taxable value over 5 year column\n",
    "rea_all['chg_taxable_5yr'] = rea_all.taxable - rea_all.taxable_5yr\n",
    "rea_all['chg_taxable_5yr_%'] = 0.0\n",
    "rea_all.loc[rea_all.taxable_5yr > 0,'chg_taxable_5yr_%'] = rea_all['chg_taxable_5yr']/rea_all['taxable_5yr']\n",
    "\n",
    "# create taxable/(taxable + exempt)\n",
    "rea_all['taxable_%'] = 0.0\n",
    "rea_all.loc[(rea_all.taxable > 0) | (rea_all.exempt > 0),'taxable_%'] = rea_all['taxable']/(rea_all['taxable'] + rea_all['exempt'])"
   ]
  },
  {
   "cell_type": "markdown",
   "id": "921210f3",
   "metadata": {},
   "source": [
    "### Create Delinquency Features\n",
    "\n",
    "For this analysis, we will be trying to predict whether a property is delinquent in the current year. For this reason, we should create features without the current year's delinquency. "
   ]
  },
  {
   "cell_type": "code",
   "execution_count": 87,
   "id": "4999f602",
   "metadata": {},
   "outputs": [],
   "source": [
    "# create booleans indicating whether there was delinquency in a given year\n",
    "rea_all['delinq'] = rea_all.delinq_bal.apply(lambda x: 1 if x > 0 else 0)\n",
    "rea_all['delinq_1yr'] = rea_all.delinq_bal_1yr.apply(lambda x: 1 if x > 0 else 0)\n",
    "rea_all['delinq_2yr'] = rea_all.delinq_bal_2yr.apply(lambda x: 1 if x > 0 else 0)\n",
    "rea_all['delinq_3yr'] = rea_all.delinq_bal_3yr.apply(lambda x: 1 if x > 0 else 0)\n",
    "rea_all['delinq_4yr'] = rea_all.delinq_bal_4yr.apply(lambda x: 1 if x > 0 else 0)\n",
    "rea_all['delinq_5yr'] = rea_all.delinq_bal_5yr.apply(lambda x: 1 if x > 0 else 0)\n",
    "\n",
    "# count the number of years delinqent in the past 5 years\n",
    "rea_all['years_delinq'] = rea_all.delinq_1yr + rea_all.delinq_2yr + rea_all.delinq_3yr + rea_all.delinq_4yr + rea_all.delinq_5yr\n",
    "\n",
    "# count years since last delinquency\n",
    "rea_all['years_since_last_delinq'] = 6\n",
    "rea_all.loc[rea_all.delinq_5yr == 1, 'years_since_last_delinq'] = 5\n",
    "rea_all.loc[rea_all.delinq_4yr == 1, 'years_since_last_delinq'] = 4\n",
    "rea_all.loc[rea_all.delinq_3yr == 1, 'years_since_last_delinq'] = 3\n",
    "rea_all.loc[rea_all.delinq_2yr == 1, 'years_since_last_delinq'] = 2\n",
    "rea_all.loc[rea_all.delinq_1yr == 1, 'years_since_last_delinq'] = 1\n",
    "\n",
    "# # consequtive years delinq\n",
    "rea_all['max_conseq_years_delinq'] = rea_all.delinq_1yr.astype(str) + rea_all.delinq_2yr.astype(str) + rea_all.delinq_3yr.astype(str) + rea_all.delinq_4yr.astype(str) + rea_all.delinq_5yr.astype(str)\n",
    "rea_all['max_conseq_years_delinq'] = rea_all['max_conseq_years_delinq'].str.split('0')\n",
    "rea_all['max_conseq_years_delinq'] = rea_all['max_conseq_years_delinq'].apply(lambda x: sorted([len(streak) for streak in x], reverse=True)[0])\n",
    "\n",
    "# get ratio of delinquency balance from the previous year to its assessed value\n",
    "rea_all['del_assessed_ratio_1yr'] = 0.0\n",
    "rea_all.loc[(rea_all.taxable_1yr > 0) | (rea_all.exempt_1yr), 'del_assessed_ratio_1yr'] = rea_all.delinq_bal_1yr / (rea_all.taxable_1yr + rea_all.exempt_1yr) "
   ]
  },
  {
   "cell_type": "markdown",
   "id": "d2f36fb7",
   "metadata": {},
   "source": [
    "## Outlier Detection"
   ]
  },
  {
   "cell_type": "markdown",
   "id": "abff86e3",
   "metadata": {},
   "source": [
    "### Visualize the distribution of numeric variables using boxplots"
   ]
  },
  {
   "cell_type": "code",
   "execution_count": 88,
   "id": "9707a9e7",
   "metadata": {},
   "outputs": [
    {
     "data": {
      "image/png": "[encoded data removed]",
      "text/plain": [
       "<Figure size 1600x400 with 6 Axes>"
      ]
     },
     "metadata": {},
     "output_type": "display_data"
    }
   ],
   "source": [
    "# Property df boxplots\n",
    "columns_for_boxplots = ['number_of_bathrooms', 'number_of_bedrooms', 'number_stories', 'sale_price', 'total_area', 'total_livable_area']\n",
    "\n",
    "# set figure and axis\n",
    "fig, ax = plt.subplots(nrows= 1, ncols= len(columns_for_boxplots), figsize= (16, 4))\n",
    "\n",
    "i = 0\n",
    "# iterate through all columns and add to figure\n",
    "for col in columns_for_boxplots:\n",
    "    rea_all.boxplot(column=col, ax= ax[i]) \n",
    "    i += 1\n",
    "\n",
    "# display plot    \n",
    "plt.tight_layout()\n",
    "plt.show() "
   ]
  },
  {
   "cell_type": "code",
   "execution_count": 89,
   "id": "dffa32b1",
   "metadata": {},
   "outputs": [
    {
     "data": {
      "image/png": "[encoded data removed]",
      "text/plain": [
       "<Figure size 1600x400 with 7 Axes>"
      ]
     },
     "metadata": {},
     "output_type": "display_data"
    }
   ],
   "source": [
    "# Assessments boxplots\n",
    "columns_for_boxplots = ['market_value','taxable_land','taxable_building','exempt_land','exempt_building', 'chg_taxable_1yr', 'chg_taxable_1yr_%']\n",
    "\n",
    "# set figure and axis\n",
    "fig, ax = plt.subplots(nrows= 1, ncols= len(columns_for_boxplots), figsize= (16, 4))\n",
    "\n",
    "i = 0\n",
    "# iterate through all columns and add to figure\n",
    "for col in columns_for_boxplots:\n",
    "    rea_all.boxplot(column=col, ax= ax[i])\n",
    "    i += 1\n",
    "\n",
    "# display plot\n",
    "plt.tight_layout()\n",
    "plt.show() "
   ]
  },
  {
   "cell_type": "code",
   "execution_count": 90,
   "id": "85eaf10d",
   "metadata": {},
   "outputs": [
    {
     "data": {
      "image/png": "[encoded data removed]",
      "text/plain": [
       "<Figure size 1600x400 with 6 Axes>"
      ]
     },
     "metadata": {},
     "output_type": "display_data"
    }
   ],
   "source": [
    "# Delinquency boxplots\n",
    "columns_for_boxplots = ['delinq_bal_1yr','delinq_bal_2yr','delinq_bal_3yr','delinq_bal_4yr','delinq_bal_5yr', 'del_assessed_ratio_1yr']\n",
    "\n",
    "# set figure and axis\n",
    "fig, ax = plt.subplots(nrows= 1, ncols= len(columns_for_boxplots), figsize= (16, 4))\n",
    "\n",
    "i = 0\n",
    "# iterate through all columns and add to figure\n",
    "for col in columns_for_boxplots:\n",
    "    rea_all.boxplot(column=col, ax= ax[i])\n",
    "    i += 1\n",
    "\n",
    "# display plots    \n",
    "plt.tight_layout()\n",
    "plt.show() "
   ]
  },
  {
   "cell_type": "markdown",
   "id": "009e0a78",
   "metadata": {},
   "source": [
    "## Transform Continuous Features"
   ]
  },
  {
   "cell_type": "code",
   "execution_count": 91,
   "id": "3da42599",
   "metadata": {},
   "outputs": [],
   "source": [
    "# apply log(x+1) function to select continuous features\n",
    "rea_all['sale_price_log'] = rea_all.loc[:,'sale_price'].apply(lambda x: np.log(x+1))\n",
    "rea_all['total_area_log'] = rea_all.loc[:,'total_area'].apply(lambda x: np.log(x+1))\n",
    "rea_all['total_livable_area_log'] = rea_all.loc[:,'total_livable_area'].apply(lambda x: np.log(x+1))\n",
    "rea_all['market_value_log'] = rea_all.loc[:,'market_value'].apply(lambda x: np.log(x+1))\n",
    "rea_all['taxable_land_log'] = rea_all.loc[:,'taxable_land'].apply(lambda x: np.log(x+1))\n",
    "rea_all['taxable_building_log'] = rea_all.loc[:,'taxable_building'].apply(lambda x: np.log(x+1))\n",
    "rea_all['exempt_land_log'] = rea_all.loc[:,'exempt_land'].apply(lambda x: np.log(x+1))\n",
    "rea_all['exempt_building_log'] = rea_all.loc[:,'exempt_building'].apply(lambda x: np.log(x+1))\n",
    "rea_all['taxable_log'] = rea_all.loc[:,'taxable'].apply(lambda x: np.log(x+1))\n",
    "rea_all['exempt_log'] = rea_all.loc[:,'exempt'].apply(lambda x: np.log(x+1))\n",
    "rea_all['taxable_1yr_log'] = rea_all.loc[:,'taxable_1yr'].apply(lambda x: np.log(x+1))\n",
    "rea_all['exempt_1yr_log'] = rea_all.loc[:,'exempt_1yr'].apply(lambda x: np.log(x+1))\n",
    "rea_all['taxable_3yr_log'] = rea_all.loc[:,'taxable_3yr'].apply(lambda x: np.log(x+1))\n",
    "rea_all['exempt_3yr_log'] = rea_all.loc[:,'exempt_3yr'].apply(lambda x: np.log(x+1))\n",
    "rea_all['taxable_5yr_log'] = rea_all.loc[:,'taxable_5yr'].apply(lambda x: np.log(x+1))\n",
    "rea_all['exempt_5yr_log'] = rea_all.loc[:,'exempt_5yr'].apply(lambda x: np.log(x+1))\n",
    "rea_all['delinq_bal_log'] = rea_all.loc[:,'delinq_bal'].apply(lambda x: np.log(x+1))\n",
    "rea_all['delinq_bal_1yr_log'] = rea_all.loc[:,'delinq_bal_1yr'].apply(lambda x: np.log(x+1))\n",
    "rea_all['delinq_bal_2yr_log'] = rea_all.loc[:,'delinq_bal_2yr'].apply(lambda x: np.log(x+1))\n",
    "rea_all['delinq_bal_3yr_log'] = rea_all.loc[:,'delinq_bal_3yr'].apply(lambda x: np.log(x+1))\n",
    "rea_all['delinq_bal_4yr_log'] = rea_all.loc[:,'delinq_bal_4yr'].apply(lambda x: np.log(x+1))\n",
    "rea_all['delinq_bal_5yr_log'] = rea_all.loc[:,'delinq_bal_5yr'].apply(lambda x: np.log(x+1))\n",
    "rea_all['del_assessed_ratio_1yr_log'] = rea_all.loc[:,'del_assessed_ratio_1yr'].apply(lambda x: np.log(x+1))\n"
   ]
  },
  {
   "cell_type": "code",
   "execution_count": 92,
   "id": "b2594fce",
   "metadata": {},
   "outputs": [],
   "source": [
    "rea_all.drop(columns=['sale_price','total_area','total_livable_area','market_value','taxable_land','taxable_building','exempt_land','exempt_building',\n",
    "                      'taxable','exempt','taxable_1yr','exempt_1yr','taxable_3yr','exempt_3yr','taxable_5yr','exempt_5yr','delinq_bal',\n",
    "                      'delinq_bal_1yr','delinq_bal_2yr','delinq_bal_3yr','delinq_bal_4yr','delinq_bal_5yr','del_assessed_ratio_1yr'], inplace=True)"
   ]
  },
  {
   "cell_type": "markdown",
   "id": "c86b7ca3",
   "metadata": {},
   "source": [
    "### Visualize the distribution of numeric variables after transformation"
   ]
  },
  {
   "cell_type": "code",
   "execution_count": 93,
   "id": "b71b865c",
   "metadata": {},
   "outputs": [
    {
     "data": {
      "image/png": "[encoded data removed]",
      "text/plain": [
       "<Figure size 1600x400 with 3 Axes>"
      ]
     },
     "metadata": {},
     "output_type": "display_data"
    }
   ],
   "source": [
    "# Property df boxplots\n",
    "columns_for_boxplots = ['sale_price_log', 'total_area_log', 'total_livable_area_log']\n",
    "\n",
    "# set figure and axis\n",
    "fig, ax = plt.subplots(nrows= 1, ncols= len(columns_for_boxplots), figsize= (16, 4))\n",
    "\n",
    "i = 0\n",
    "# iterate through all columns and add to figure\n",
    "for col in columns_for_boxplots:\n",
    "    rea_all.boxplot(column=col, ax= ax[i]) \n",
    "    i += 1\n",
    "\n",
    "# display plot    \n",
    "plt.tight_layout()\n",
    "plt.show() "
   ]
  },
  {
   "cell_type": "code",
   "execution_count": 94,
   "id": "27aeb056",
   "metadata": {},
   "outputs": [
    {
     "data": {
      "image/png": "[encoded data removed]",
      "text/plain": [
       "<Figure size 1600x400 with 5 Axes>"
      ]
     },
     "metadata": {},
     "output_type": "display_data"
    }
   ],
   "source": [
    "# Assessments boxplots\n",
    "columns_for_boxplots = ['market_value_log','taxable_land_log','taxable_building_log','exempt_land_log','exempt_building_log']\n",
    "\n",
    "# set figure and axis\n",
    "fig, ax = plt.subplots(nrows= 1, ncols= len(columns_for_boxplots), figsize= (16, 4))\n",
    "\n",
    "i = 0\n",
    "# iterate through all columns and add to figure\n",
    "for col in columns_for_boxplots:\n",
    "    rea_all.boxplot(column=col, ax= ax[i])\n",
    "    i += 1\n",
    "\n",
    "# display plot\n",
    "plt.tight_layout()\n",
    "plt.show() "
   ]
  },
  {
   "cell_type": "code",
   "execution_count": 95,
   "id": "da906c8c",
   "metadata": {},
   "outputs": [
    {
     "data": {
      "image/png": "[encoded data removed]",
      "text/plain": [
       "<Figure size 1600x400 with 6 Axes>"
      ]
     },
     "metadata": {},
     "output_type": "display_data"
    }
   ],
   "source": [
    "# Delinquency boxplots\n",
    "columns_for_boxplots = ['delinq_bal_1yr_log','delinq_bal_2yr_log','delinq_bal_3yr_log','delinq_bal_4yr_log','delinq_bal_5yr_log', 'del_assessed_ratio_1yr_log']\n",
    "\n",
    "# set figure and axis\n",
    "fig, ax = plt.subplots(nrows= 1, ncols= len(columns_for_boxplots), figsize= (16, 4))\n",
    "\n",
    "i = 0\n",
    "# iterate through all columns and add to figure\n",
    "for col in columns_for_boxplots:\n",
    "    rea_all.boxplot(column=col, ax= ax[i])\n",
    "    i += 1\n",
    "\n",
    "# display plots    \n",
    "plt.tight_layout()\n",
    "plt.show() "
   ]
  },
  {
   "cell_type": "markdown",
   "id": "a1bb02d3",
   "metadata": {},
   "source": [
    "## Examine skewness"
   ]
  },
  {
   "cell_type": "code",
   "execution_count": 96,
   "id": "46ad9601",
   "metadata": {},
   "outputs": [
    {
     "data": {
      "text/plain": [
       "sale_price_log           -0.732373\n",
       "total_area_log           -2.471572\n",
       "total_livable_area_log   -2.771814\n",
       "dtype: float64"
      ]
     },
     "execution_count": 96,
     "metadata": {},
     "output_type": "execute_result"
    }
   ],
   "source": [
    "rea_all[['sale_price_log', 'total_area_log', 'total_livable_area_log']].skew()"
   ]
  },
  {
   "cell_type": "code",
   "execution_count": 97,
   "id": "2b3313dd",
   "metadata": {},
   "outputs": [
    {
     "data": {
      "text/plain": [
       "market_value_log       -0.882589\n",
       "taxable_land_log       -2.754822\n",
       "taxable_building_log   -1.679825\n",
       "exempt_land_log         2.950177\n",
       "exempt_building_log     0.119704\n",
       "dtype: float64"
      ]
     },
     "execution_count": 97,
     "metadata": {},
     "output_type": "execute_result"
    }
   ],
   "source": [
    "rea_all[['market_value_log','taxable_land_log','taxable_building_log','exempt_land_log','exempt_building_log']].skew()"
   ]
  },
  {
   "cell_type": "code",
   "execution_count": 98,
   "id": "80c7ac13",
   "metadata": {},
   "outputs": [
    {
     "data": {
      "text/plain": [
       "delinq_bal_1yr_log             3.370216\n",
       "delinq_bal_2yr_log             3.590975\n",
       "delinq_bal_3yr_log             3.708193\n",
       "delinq_bal_4yr_log             3.784982\n",
       "delinq_bal_5yr_log             3.845167\n",
       "del_assessed_ratio_1yr_log    15.306633\n",
       "dtype: float64"
      ]
     },
     "execution_count": 98,
     "metadata": {},
     "output_type": "execute_result"
    }
   ],
   "source": [
    "rea_all[['delinq_bal_1yr_log','delinq_bal_2yr_log','delinq_bal_3yr_log','delinq_bal_4yr_log','delinq_bal_5yr_log', 'del_assessed_ratio_1yr_log']].skew()"
   ]
  },
  {
   "cell_type": "markdown",
   "id": "137c2409",
   "metadata": {},
   "source": [
    "## Export Final Dataframes"
   ]
  },
  {
   "cell_type": "markdown",
   "id": "3d095791",
   "metadata": {},
   "source": [
    "### Remove and Export the 2025 Data"
   ]
  },
  {
   "cell_type": "code",
   "execution_count": 99,
   "id": "3a768697",
   "metadata": {},
   "outputs": [],
   "source": [
    "# copy the 2025 data\n",
    "rea_2025 = rea_all[rea_all.year == 2025].copy(deep=True)\n",
    "\n",
    "# copy remaining years into a new df\n",
    "rea_final = rea_all[rea_all.year != 2025].copy(deep=True)\n",
    "\n",
    "# drop the NAN delinquency balance records\n",
    "rea_2025.drop(columns=['delinq_bal_log','delinq'], inplace=True)\n",
    "\n",
    "# export the 2025 data\n",
    "rea_2025.to_csv(\"Data/X_real_estate_2025.csv\")"
   ]
  },
  {
   "cell_type": "markdown",
   "id": "d871d355",
   "metadata": {},
   "source": [
    "### Export Final Dataframe"
   ]
  },
  {
   "cell_type": "code",
   "execution_count": 100,
   "id": "26f82fa8",
   "metadata": {},
   "outputs": [],
   "source": [
    "# export the 2020 - 2024 file\n",
    "rea_final.to_csv(\"Data/real_estate_2020_2024.csv\", index=False)"
   ]
  },
  {
   "cell_type": "code",
   "execution_count": 101,
   "id": "4f3466f1",
   "metadata": {},
   "outputs": [
    {
     "data": {
      "text/plain": [
       "Index(['parcel_number', 'year', 'exterior_condition', 'interior_condition',\n",
       "       'homestead_exemption', 'number_of_bathrooms', 'number_of_bedrooms',\n",
       "       'number_stories', 'year_built', 'sale_year', 'condo', 'apartments',\n",
       "       'commercial', 'garage', 'hotel', 'industrial', 'mixed_use',\n",
       "       'multi_family', 'offices', 'retail', 'single_family', 'special_purpose',\n",
       "       'vacant_land', 'mailing_outside_city', 'chg_taxable_1yr',\n",
       "       'chg_taxable_1yr_%', 'chg_taxable_3yr', 'chg_taxable_3yr_%',\n",
       "       'chg_taxable_5yr', 'chg_taxable_5yr_%', 'taxable_%', 'delinq',\n",
       "       'delinq_1yr', 'delinq_2yr', 'delinq_3yr', 'delinq_4yr', 'delinq_5yr',\n",
       "       'years_delinq', 'years_since_last_delinq', 'max_conseq_years_delinq',\n",
       "       'sale_price_log', 'total_area_log', 'total_livable_area_log',\n",
       "       'market_value_log', 'taxable_land_log', 'taxable_building_log',\n",
       "       'exempt_land_log', 'exempt_building_log', 'taxable_log', 'exempt_log',\n",
       "       'taxable_1yr_log', 'exempt_1yr_log', 'taxable_3yr_log',\n",
       "       'exempt_3yr_log', 'taxable_5yr_log', 'exempt_5yr_log', 'delinq_bal_log',\n",
       "       'delinq_bal_1yr_log', 'delinq_bal_2yr_log', 'delinq_bal_3yr_log',\n",
       "       'delinq_bal_4yr_log', 'delinq_bal_5yr_log',\n",
       "       'del_assessed_ratio_1yr_log'],\n",
       "      dtype='object')"
      ]
     },
     "execution_count": 101,
     "metadata": {},
     "output_type": "execute_result"
    }
   ],
   "source": [
    "rea_final.columns"
   ]
  }
 ],
 "metadata": {
  "kernelspec": {
   "display_name": "Python 3",
   "language": "python",
   "name": "python3"
  },
  "language_info": {
   "codemirror_mode": {
    "name": "ipython",
    "version": 3
   },
   "file_extension": ".py",
   "mimetype": "text/x-python",
   "name": "python",
   "nbconvert_exporter": "python",
   "pygments_lexer": "ipython3",
   "version": "3.13.2"
  }
 },
 "nbformat": 4,
 "nbformat_minor": 5
}
